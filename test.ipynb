{
 "cells": [
  {
   "attachments": {},
   "cell_type": "markdown",
   "metadata": {},
   "source": [
    "## Preparation"
   ]
  },
  {
   "attachments": {},
   "cell_type": "markdown",
   "metadata": {},
   "source": [
    "### Loading packages, setting up gpu, loading models"
   ]
  },
  {
   "cell_type": "code",
   "execution_count": 1,
   "metadata": {},
   "outputs": [
    {
     "name": "stderr",
     "output_type": "stream",
     "text": [
      "c:\\Users\\luke-\\Desktop\\Python Repositories\\algonauts-2023\\.conda\\lib\\site-packages\\tqdm\\auto.py:21: TqdmWarning: IProgress not found. Please update jupyter and ipywidgets. See https://ipywidgets.readthedocs.io/en/stable/user_install.html\n",
      "  from .autonotebook import tqdm as notebook_tqdm\n"
     ]
    }
   ],
   "source": [
    "# required packages\n",
    "from transformers import AutoProcessor, CLIPTextModel, CLIPVisionModel, PreTrainedModel\n",
    "import torch\n",
    "import torch_directml\n",
    "import numpy as np\n",
    "import pandas as pd\n",
    "import matplotlib.pyplot as plt\n",
    "import os\n",
    "from PIL import Image\n",
    "import glob\n",
    "import time\n",
    "from sklearn.metrics import euclidean_distances\n",
    "from sklearn.decomposition import IncrementalPCA, PCA\n",
    "from sklearn.linear_model import LinearRegression\n",
    "from scipy.spatial.distance import squareform\n",
    "from scipy.stats import spearmanr\n",
    "from scipy.stats import pearsonr as corr\n",
    "from torch.utils.data import Dataset, DataLoader\n",
    "from tqdm import tqdm\n",
    "from nilearn import datasets\n",
    "from nilearn import plotting\n",
    "from typing import List, Dict"
   ]
  },
  {
   "cell_type": "code",
   "execution_count": 2,
   "metadata": {},
   "outputs": [],
   "source": [
    "# Setup cuda device\n",
    "AMD = True\n",
    "device = torch.device(\"cuda\" if torch.cuda.is_available() else \"cpu\")\n",
    "if AMD:\n",
    "    device = torch_directml.device()"
   ]
  },
  {
   "cell_type": "code",
   "execution_count": 3,
   "metadata": {},
   "outputs": [
    {
     "name": "stderr",
     "output_type": "stream",
     "text": [
      "Some weights of the model checkpoint at openai/clip-vit-base-patch32 were not used when initializing CLIPVisionModel: ['text_model.encoder.layers.7.self_attn.out_proj.weight', 'text_model.encoder.layers.10.layer_norm2.weight', 'text_model.encoder.layers.0.layer_norm1.bias', 'text_model.encoder.layers.10.self_attn.out_proj.weight', 'text_model.encoder.layers.0.self_attn.k_proj.bias', 'text_model.embeddings.position_ids', 'text_model.encoder.layers.4.layer_norm2.bias', 'text_model.encoder.layers.6.self_attn.out_proj.weight', 'text_model.encoder.layers.2.layer_norm2.bias', 'text_model.encoder.layers.1.mlp.fc1.weight', 'text_model.embeddings.position_embedding.weight', 'text_model.encoder.layers.3.self_attn.v_proj.bias', 'text_model.encoder.layers.3.self_attn.k_proj.bias', 'text_model.encoder.layers.2.mlp.fc1.weight', 'text_model.encoder.layers.3.self_attn.q_proj.weight', 'text_model.encoder.layers.5.mlp.fc2.bias', 'text_model.encoder.layers.3.layer_norm1.bias', 'text_model.encoder.layers.6.mlp.fc2.bias', 'text_model.encoder.layers.1.mlp.fc2.weight', 'text_model.encoder.layers.2.self_attn.q_proj.bias', 'text_model.encoder.layers.5.self_attn.q_proj.weight', 'text_model.encoder.layers.2.layer_norm2.weight', 'text_model.encoder.layers.11.mlp.fc1.weight', 'text_model.encoder.layers.4.self_attn.k_proj.weight', 'text_model.encoder.layers.0.mlp.fc1.bias', 'text_model.encoder.layers.0.self_attn.out_proj.weight', 'text_model.encoder.layers.11.self_attn.q_proj.weight', 'text_model.encoder.layers.11.layer_norm1.bias', 'text_model.encoder.layers.7.layer_norm2.bias', 'text_model.encoder.layers.4.self_attn.v_proj.bias', 'text_model.encoder.layers.5.self_attn.v_proj.weight', 'text_model.embeddings.token_embedding.weight', 'text_model.encoder.layers.8.mlp.fc2.weight', 'text_model.encoder.layers.8.self_attn.v_proj.weight', 'text_model.encoder.layers.7.layer_norm1.weight', 'text_model.encoder.layers.7.mlp.fc1.bias', 'text_model.encoder.layers.1.self_attn.v_proj.weight', 'text_model.encoder.layers.2.mlp.fc2.weight', 'text_model.encoder.layers.11.self_attn.k_proj.bias', 'text_model.encoder.layers.6.mlp.fc1.weight', 'text_model.encoder.layers.3.mlp.fc2.bias', 'text_model.encoder.layers.10.layer_norm1.bias', 'text_model.encoder.layers.2.layer_norm1.weight', 'text_model.encoder.layers.4.self_attn.out_proj.bias', 'text_model.encoder.layers.4.self_attn.q_proj.weight', 'text_model.encoder.layers.6.self_attn.q_proj.bias', 'text_model.encoder.layers.1.self_attn.q_proj.bias', 'text_model.encoder.layers.4.self_attn.v_proj.weight', 'text_model.encoder.layers.1.layer_norm2.bias', 'text_model.encoder.layers.1.self_attn.q_proj.weight', 'text_model.encoder.layers.8.self_attn.q_proj.bias', 'text_model.encoder.layers.4.self_attn.out_proj.weight', 'text_model.encoder.layers.4.layer_norm2.weight', 'text_model.encoder.layers.9.mlp.fc1.weight', 'text_model.encoder.layers.3.mlp.fc2.weight', 'text_model.encoder.layers.11.self_attn.v_proj.weight', 'text_model.encoder.layers.1.self_attn.k_proj.bias', 'text_model.encoder.layers.10.self_attn.q_proj.weight', 'text_model.encoder.layers.0.self_attn.q_proj.weight', 'text_model.final_layer_norm.weight', 'text_model.encoder.layers.10.self_attn.k_proj.weight', 'text_model.encoder.layers.9.layer_norm1.weight', 'text_model.encoder.layers.10.mlp.fc2.weight', 'text_model.encoder.layers.8.layer_norm1.bias', 'text_model.encoder.layers.9.layer_norm2.weight', 'text_model.encoder.layers.6.self_attn.k_proj.weight', 'text_model.encoder.layers.0.self_attn.out_proj.bias', 'text_model.encoder.layers.6.mlp.fc1.bias', 'text_model.encoder.layers.1.mlp.fc1.bias', 'text_model.encoder.layers.9.mlp.fc2.weight', 'text_model.encoder.layers.8.mlp.fc1.bias', 'logit_scale', 'text_model.encoder.layers.8.self_attn.k_proj.bias', 'text_model.encoder.layers.3.mlp.fc1.weight', 'text_model.encoder.layers.5.mlp.fc1.weight', 'text_model.encoder.layers.5.layer_norm2.bias', 'text_model.encoder.layers.0.layer_norm2.weight', 'text_model.encoder.layers.1.mlp.fc2.bias', 'text_model.encoder.layers.1.layer_norm2.weight', 'text_model.encoder.layers.2.mlp.fc2.bias', 'text_model.encoder.layers.6.self_attn.v_proj.weight', 'text_model.encoder.layers.0.self_attn.v_proj.weight', 'text_model.encoder.layers.3.layer_norm2.weight', 'text_model.encoder.layers.11.self_attn.q_proj.bias', 'text_model.encoder.layers.9.self_attn.q_proj.weight', 'text_model.encoder.layers.3.self_attn.out_proj.bias', 'text_model.encoder.layers.0.self_attn.k_proj.weight', 'text_model.encoder.layers.6.self_attn.k_proj.bias', 'text_model.encoder.layers.10.mlp.fc2.bias', 'text_model.encoder.layers.11.mlp.fc2.weight', 'text_model.encoder.layers.11.layer_norm2.bias', 'text_model.encoder.layers.11.self_attn.k_proj.weight', 'text_model.encoder.layers.9.layer_norm1.bias', 'text_model.encoder.layers.4.self_attn.k_proj.bias', 'text_model.encoder.layers.0.self_attn.q_proj.bias', 'text_model.encoder.layers.7.self_attn.k_proj.bias', 'text_model.encoder.layers.7.self_attn.out_proj.bias', 'text_model.encoder.layers.5.layer_norm1.bias', 'text_model.encoder.layers.7.self_attn.k_proj.weight', 'text_model.encoder.layers.7.layer_norm2.weight', 'text_model.encoder.layers.8.self_attn.k_proj.weight', 'text_model.encoder.layers.4.layer_norm1.weight', 'text_model.encoder.layers.9.mlp.fc1.bias', 'text_model.encoder.layers.6.layer_norm2.bias', 'text_model.encoder.layers.10.self_attn.k_proj.bias', 'text_model.encoder.layers.7.mlp.fc1.weight', 'text_model.encoder.layers.4.self_attn.q_proj.bias', 'text_model.encoder.layers.7.self_attn.q_proj.bias', 'text_model.encoder.layers.8.layer_norm1.weight', 'text_model.encoder.layers.0.mlp.fc2.weight', 'text_model.encoder.layers.2.mlp.fc1.bias', 'text_model.encoder.layers.7.self_attn.v_proj.bias', 'text_model.encoder.layers.9.self_attn.q_proj.bias', 'text_model.encoder.layers.5.self_attn.v_proj.bias', 'text_model.encoder.layers.10.layer_norm1.weight', 'text_model.encoder.layers.0.mlp.fc1.weight', 'text_model.encoder.layers.1.self_attn.out_proj.weight', 'text_model.encoder.layers.0.self_attn.v_proj.bias', 'text_model.encoder.layers.10.mlp.fc1.weight', 'text_model.encoder.layers.9.self_attn.out_proj.weight', 'text_model.encoder.layers.10.self_attn.out_proj.bias', 'text_model.encoder.layers.8.mlp.fc2.bias', 'text_model.encoder.layers.2.self_attn.v_proj.bias', 'text_model.encoder.layers.7.mlp.fc2.weight', 'text_model.encoder.layers.2.self_attn.q_proj.weight', 'text_model.encoder.layers.2.self_attn.out_proj.weight', 'text_model.encoder.layers.3.mlp.fc1.bias', 'text_model.encoder.layers.8.self_attn.out_proj.weight', 'text_model.final_layer_norm.bias', 'text_model.encoder.layers.10.mlp.fc1.bias', 'text_model.encoder.layers.8.self_attn.q_proj.weight', 'text_model.encoder.layers.11.layer_norm1.weight', 'text_projection.weight', 'text_model.encoder.layers.9.mlp.fc2.bias', 'text_model.encoder.layers.3.self_attn.q_proj.bias', 'text_model.encoder.layers.11.self_attn.out_proj.bias', 'text_model.encoder.layers.2.self_attn.out_proj.bias', 'text_model.encoder.layers.11.self_attn.v_proj.bias', 'text_model.encoder.layers.11.layer_norm2.weight', 'text_model.encoder.layers.10.layer_norm2.bias', 'text_model.encoder.layers.9.self_attn.out_proj.bias', 'text_model.encoder.layers.11.mlp.fc2.bias', 'text_model.encoder.layers.5.mlp.fc1.bias', 'text_model.encoder.layers.6.layer_norm1.weight', 'text_model.encoder.layers.1.self_attn.k_proj.weight', 'text_model.encoder.layers.8.layer_norm2.weight', 'text_model.encoder.layers.3.layer_norm2.bias', 'text_model.encoder.layers.2.self_attn.k_proj.weight', 'text_model.encoder.layers.5.mlp.fc2.weight', 'text_model.encoder.layers.9.self_attn.v_proj.weight', 'visual_projection.weight', 'text_model.encoder.layers.11.mlp.fc1.bias', 'text_model.encoder.layers.3.self_attn.out_proj.weight', 'text_model.encoder.layers.3.self_attn.v_proj.weight', 'text_model.encoder.layers.6.layer_norm1.bias', 'text_model.encoder.layers.2.self_attn.k_proj.bias', 'text_model.encoder.layers.4.mlp.fc2.bias', 'text_model.encoder.layers.6.layer_norm2.weight', 'text_model.encoder.layers.9.self_attn.k_proj.weight', 'text_model.encoder.layers.5.self_attn.out_proj.weight', 'text_model.encoder.layers.7.self_attn.q_proj.weight', 'text_model.encoder.layers.4.mlp.fc1.bias', 'text_model.encoder.layers.4.mlp.fc1.weight', 'text_model.encoder.layers.8.layer_norm2.bias', 'text_model.encoder.layers.2.layer_norm1.bias', 'text_model.encoder.layers.0.layer_norm1.weight', 'text_model.encoder.layers.5.self_attn.k_proj.bias', 'text_model.encoder.layers.7.mlp.fc2.bias', 'text_model.encoder.layers.6.self_attn.v_proj.bias', 'text_model.encoder.layers.5.layer_norm2.weight', 'text_model.encoder.layers.8.self_attn.out_proj.bias', 'text_model.encoder.layers.1.self_attn.v_proj.bias', 'text_model.encoder.layers.5.self_attn.q_proj.bias', 'text_model.encoder.layers.3.self_attn.k_proj.weight', 'text_model.encoder.layers.10.self_attn.v_proj.weight', 'text_model.encoder.layers.4.mlp.fc2.weight', 'text_model.encoder.layers.7.layer_norm1.bias', 'text_model.encoder.layers.5.layer_norm1.weight', 'text_model.encoder.layers.5.self_attn.out_proj.bias', 'text_model.encoder.layers.6.self_attn.out_proj.bias', 'text_model.encoder.layers.2.self_attn.v_proj.weight', 'text_model.encoder.layers.6.self_attn.q_proj.weight', 'text_model.encoder.layers.7.self_attn.v_proj.weight', 'text_model.encoder.layers.10.self_attn.q_proj.bias', 'text_model.encoder.layers.11.self_attn.out_proj.weight', 'text_model.encoder.layers.3.layer_norm1.weight', 'text_model.encoder.layers.9.self_attn.v_proj.bias', 'text_model.encoder.layers.10.self_attn.v_proj.bias', 'text_model.encoder.layers.9.self_attn.k_proj.bias', 'text_model.encoder.layers.0.layer_norm2.bias', 'text_model.encoder.layers.4.layer_norm1.bias', 'text_model.encoder.layers.0.mlp.fc2.bias', 'text_model.encoder.layers.6.mlp.fc2.weight', 'text_model.encoder.layers.1.self_attn.out_proj.bias', 'text_model.encoder.layers.8.mlp.fc1.weight', 'text_model.encoder.layers.8.self_attn.v_proj.bias', 'text_model.encoder.layers.9.layer_norm2.bias', 'text_model.encoder.layers.1.layer_norm1.bias', 'text_model.encoder.layers.1.layer_norm1.weight', 'text_model.encoder.layers.5.self_attn.k_proj.weight']\n",
      "- This IS expected if you are initializing CLIPVisionModel from the checkpoint of a model trained on another task or with another architecture (e.g. initializing a BertForSequenceClassification model from a BertForPreTraining model).\n",
      "- This IS NOT expected if you are initializing CLIPVisionModel from the checkpoint of a model that you expect to be exactly identical (initializing a BertForSequenceClassification model from a BertForSequenceClassification model).\n"
     ]
    },
    {
     "data": {
      "text/plain": [
       "CLIPVisionModel(\n",
       "  (vision_model): CLIPVisionTransformer(\n",
       "    (embeddings): CLIPVisionEmbeddings(\n",
       "      (patch_embedding): Conv2d(3, 768, kernel_size=(32, 32), stride=(32, 32), bias=False)\n",
       "      (position_embedding): Embedding(50, 768)\n",
       "    )\n",
       "    (pre_layrnorm): LayerNorm((768,), eps=1e-05, elementwise_affine=True)\n",
       "    (encoder): CLIPEncoder(\n",
       "      (layers): ModuleList(\n",
       "        (0): CLIPEncoderLayer(\n",
       "          (self_attn): CLIPAttention(\n",
       "            (k_proj): Linear(in_features=768, out_features=768, bias=True)\n",
       "            (v_proj): Linear(in_features=768, out_features=768, bias=True)\n",
       "            (q_proj): Linear(in_features=768, out_features=768, bias=True)\n",
       "            (out_proj): Linear(in_features=768, out_features=768, bias=True)\n",
       "          )\n",
       "          (layer_norm1): LayerNorm((768,), eps=1e-05, elementwise_affine=True)\n",
       "          (mlp): CLIPMLP(\n",
       "            (activation_fn): QuickGELUActivation()\n",
       "            (fc1): Linear(in_features=768, out_features=3072, bias=True)\n",
       "            (fc2): Linear(in_features=3072, out_features=768, bias=True)\n",
       "          )\n",
       "          (layer_norm2): LayerNorm((768,), eps=1e-05, elementwise_affine=True)\n",
       "        )\n",
       "        (1): CLIPEncoderLayer(\n",
       "          (self_attn): CLIPAttention(\n",
       "            (k_proj): Linear(in_features=768, out_features=768, bias=True)\n",
       "            (v_proj): Linear(in_features=768, out_features=768, bias=True)\n",
       "            (q_proj): Linear(in_features=768, out_features=768, bias=True)\n",
       "            (out_proj): Linear(in_features=768, out_features=768, bias=True)\n",
       "          )\n",
       "          (layer_norm1): LayerNorm((768,), eps=1e-05, elementwise_affine=True)\n",
       "          (mlp): CLIPMLP(\n",
       "            (activation_fn): QuickGELUActivation()\n",
       "            (fc1): Linear(in_features=768, out_features=3072, bias=True)\n",
       "            (fc2): Linear(in_features=3072, out_features=768, bias=True)\n",
       "          )\n",
       "          (layer_norm2): LayerNorm((768,), eps=1e-05, elementwise_affine=True)\n",
       "        )\n",
       "        (2): CLIPEncoderLayer(\n",
       "          (self_attn): CLIPAttention(\n",
       "            (k_proj): Linear(in_features=768, out_features=768, bias=True)\n",
       "            (v_proj): Linear(in_features=768, out_features=768, bias=True)\n",
       "            (q_proj): Linear(in_features=768, out_features=768, bias=True)\n",
       "            (out_proj): Linear(in_features=768, out_features=768, bias=True)\n",
       "          )\n",
       "          (layer_norm1): LayerNorm((768,), eps=1e-05, elementwise_affine=True)\n",
       "          (mlp): CLIPMLP(\n",
       "            (activation_fn): QuickGELUActivation()\n",
       "            (fc1): Linear(in_features=768, out_features=3072, bias=True)\n",
       "            (fc2): Linear(in_features=3072, out_features=768, bias=True)\n",
       "          )\n",
       "          (layer_norm2): LayerNorm((768,), eps=1e-05, elementwise_affine=True)\n",
       "        )\n",
       "        (3): CLIPEncoderLayer(\n",
       "          (self_attn): CLIPAttention(\n",
       "            (k_proj): Linear(in_features=768, out_features=768, bias=True)\n",
       "            (v_proj): Linear(in_features=768, out_features=768, bias=True)\n",
       "            (q_proj): Linear(in_features=768, out_features=768, bias=True)\n",
       "            (out_proj): Linear(in_features=768, out_features=768, bias=True)\n",
       "          )\n",
       "          (layer_norm1): LayerNorm((768,), eps=1e-05, elementwise_affine=True)\n",
       "          (mlp): CLIPMLP(\n",
       "            (activation_fn): QuickGELUActivation()\n",
       "            (fc1): Linear(in_features=768, out_features=3072, bias=True)\n",
       "            (fc2): Linear(in_features=3072, out_features=768, bias=True)\n",
       "          )\n",
       "          (layer_norm2): LayerNorm((768,), eps=1e-05, elementwise_affine=True)\n",
       "        )\n",
       "        (4): CLIPEncoderLayer(\n",
       "          (self_attn): CLIPAttention(\n",
       "            (k_proj): Linear(in_features=768, out_features=768, bias=True)\n",
       "            (v_proj): Linear(in_features=768, out_features=768, bias=True)\n",
       "            (q_proj): Linear(in_features=768, out_features=768, bias=True)\n",
       "            (out_proj): Linear(in_features=768, out_features=768, bias=True)\n",
       "          )\n",
       "          (layer_norm1): LayerNorm((768,), eps=1e-05, elementwise_affine=True)\n",
       "          (mlp): CLIPMLP(\n",
       "            (activation_fn): QuickGELUActivation()\n",
       "            (fc1): Linear(in_features=768, out_features=3072, bias=True)\n",
       "            (fc2): Linear(in_features=3072, out_features=768, bias=True)\n",
       "          )\n",
       "          (layer_norm2): LayerNorm((768,), eps=1e-05, elementwise_affine=True)\n",
       "        )\n",
       "        (5): CLIPEncoderLayer(\n",
       "          (self_attn): CLIPAttention(\n",
       "            (k_proj): Linear(in_features=768, out_features=768, bias=True)\n",
       "            (v_proj): Linear(in_features=768, out_features=768, bias=True)\n",
       "            (q_proj): Linear(in_features=768, out_features=768, bias=True)\n",
       "            (out_proj): Linear(in_features=768, out_features=768, bias=True)\n",
       "          )\n",
       "          (layer_norm1): LayerNorm((768,), eps=1e-05, elementwise_affine=True)\n",
       "          (mlp): CLIPMLP(\n",
       "            (activation_fn): QuickGELUActivation()\n",
       "            (fc1): Linear(in_features=768, out_features=3072, bias=True)\n",
       "            (fc2): Linear(in_features=3072, out_features=768, bias=True)\n",
       "          )\n",
       "          (layer_norm2): LayerNorm((768,), eps=1e-05, elementwise_affine=True)\n",
       "        )\n",
       "        (6): CLIPEncoderLayer(\n",
       "          (self_attn): CLIPAttention(\n",
       "            (k_proj): Linear(in_features=768, out_features=768, bias=True)\n",
       "            (v_proj): Linear(in_features=768, out_features=768, bias=True)\n",
       "            (q_proj): Linear(in_features=768, out_features=768, bias=True)\n",
       "            (out_proj): Linear(in_features=768, out_features=768, bias=True)\n",
       "          )\n",
       "          (layer_norm1): LayerNorm((768,), eps=1e-05, elementwise_affine=True)\n",
       "          (mlp): CLIPMLP(\n",
       "            (activation_fn): QuickGELUActivation()\n",
       "            (fc1): Linear(in_features=768, out_features=3072, bias=True)\n",
       "            (fc2): Linear(in_features=3072, out_features=768, bias=True)\n",
       "          )\n",
       "          (layer_norm2): LayerNorm((768,), eps=1e-05, elementwise_affine=True)\n",
       "        )\n",
       "        (7): CLIPEncoderLayer(\n",
       "          (self_attn): CLIPAttention(\n",
       "            (k_proj): Linear(in_features=768, out_features=768, bias=True)\n",
       "            (v_proj): Linear(in_features=768, out_features=768, bias=True)\n",
       "            (q_proj): Linear(in_features=768, out_features=768, bias=True)\n",
       "            (out_proj): Linear(in_features=768, out_features=768, bias=True)\n",
       "          )\n",
       "          (layer_norm1): LayerNorm((768,), eps=1e-05, elementwise_affine=True)\n",
       "          (mlp): CLIPMLP(\n",
       "            (activation_fn): QuickGELUActivation()\n",
       "            (fc1): Linear(in_features=768, out_features=3072, bias=True)\n",
       "            (fc2): Linear(in_features=3072, out_features=768, bias=True)\n",
       "          )\n",
       "          (layer_norm2): LayerNorm((768,), eps=1e-05, elementwise_affine=True)\n",
       "        )\n",
       "        (8): CLIPEncoderLayer(\n",
       "          (self_attn): CLIPAttention(\n",
       "            (k_proj): Linear(in_features=768, out_features=768, bias=True)\n",
       "            (v_proj): Linear(in_features=768, out_features=768, bias=True)\n",
       "            (q_proj): Linear(in_features=768, out_features=768, bias=True)\n",
       "            (out_proj): Linear(in_features=768, out_features=768, bias=True)\n",
       "          )\n",
       "          (layer_norm1): LayerNorm((768,), eps=1e-05, elementwise_affine=True)\n",
       "          (mlp): CLIPMLP(\n",
       "            (activation_fn): QuickGELUActivation()\n",
       "            (fc1): Linear(in_features=768, out_features=3072, bias=True)\n",
       "            (fc2): Linear(in_features=3072, out_features=768, bias=True)\n",
       "          )\n",
       "          (layer_norm2): LayerNorm((768,), eps=1e-05, elementwise_affine=True)\n",
       "        )\n",
       "        (9): CLIPEncoderLayer(\n",
       "          (self_attn): CLIPAttention(\n",
       "            (k_proj): Linear(in_features=768, out_features=768, bias=True)\n",
       "            (v_proj): Linear(in_features=768, out_features=768, bias=True)\n",
       "            (q_proj): Linear(in_features=768, out_features=768, bias=True)\n",
       "            (out_proj): Linear(in_features=768, out_features=768, bias=True)\n",
       "          )\n",
       "          (layer_norm1): LayerNorm((768,), eps=1e-05, elementwise_affine=True)\n",
       "          (mlp): CLIPMLP(\n",
       "            (activation_fn): QuickGELUActivation()\n",
       "            (fc1): Linear(in_features=768, out_features=3072, bias=True)\n",
       "            (fc2): Linear(in_features=3072, out_features=768, bias=True)\n",
       "          )\n",
       "          (layer_norm2): LayerNorm((768,), eps=1e-05, elementwise_affine=True)\n",
       "        )\n",
       "        (10): CLIPEncoderLayer(\n",
       "          (self_attn): CLIPAttention(\n",
       "            (k_proj): Linear(in_features=768, out_features=768, bias=True)\n",
       "            (v_proj): Linear(in_features=768, out_features=768, bias=True)\n",
       "            (q_proj): Linear(in_features=768, out_features=768, bias=True)\n",
       "            (out_proj): Linear(in_features=768, out_features=768, bias=True)\n",
       "          )\n",
       "          (layer_norm1): LayerNorm((768,), eps=1e-05, elementwise_affine=True)\n",
       "          (mlp): CLIPMLP(\n",
       "            (activation_fn): QuickGELUActivation()\n",
       "            (fc1): Linear(in_features=768, out_features=3072, bias=True)\n",
       "            (fc2): Linear(in_features=3072, out_features=768, bias=True)\n",
       "          )\n",
       "          (layer_norm2): LayerNorm((768,), eps=1e-05, elementwise_affine=True)\n",
       "        )\n",
       "        (11): CLIPEncoderLayer(\n",
       "          (self_attn): CLIPAttention(\n",
       "            (k_proj): Linear(in_features=768, out_features=768, bias=True)\n",
       "            (v_proj): Linear(in_features=768, out_features=768, bias=True)\n",
       "            (q_proj): Linear(in_features=768, out_features=768, bias=True)\n",
       "            (out_proj): Linear(in_features=768, out_features=768, bias=True)\n",
       "          )\n",
       "          (layer_norm1): LayerNorm((768,), eps=1e-05, elementwise_affine=True)\n",
       "          (mlp): CLIPMLP(\n",
       "            (activation_fn): QuickGELUActivation()\n",
       "            (fc1): Linear(in_features=768, out_features=3072, bias=True)\n",
       "            (fc2): Linear(in_features=3072, out_features=768, bias=True)\n",
       "          )\n",
       "          (layer_norm2): LayerNorm((768,), eps=1e-05, elementwise_affine=True)\n",
       "        )\n",
       "      )\n",
       "    )\n",
       "    (post_layernorm): LayerNorm((768,), eps=1e-05, elementwise_affine=True)\n",
       "  )\n",
       ")"
      ]
     },
     "execution_count": 3,
     "metadata": {},
     "output_type": "execute_result"
    }
   ],
   "source": [
    "global vis_model\n",
    "vis_model = CLIPVisionModel.from_pretrained(\"openai/clip-vit-base-patch32\")\n",
    "vis_model.eval()"
   ]
  },
  {
   "cell_type": "code",
   "execution_count": 4,
   "metadata": {},
   "outputs": [
    {
     "name": "stderr",
     "output_type": "stream",
     "text": [
      "Some weights of the model checkpoint at openai/clip-vit-base-patch32 were not used when initializing CLIPTextModel: ['vision_model.encoder.layers.8.self_attn.q_proj.weight', 'vision_model.encoder.layers.1.self_attn.q_proj.bias', 'vision_model.encoder.layers.6.layer_norm1.weight', 'vision_model.encoder.layers.8.self_attn.v_proj.bias', 'vision_model.encoder.layers.2.self_attn.out_proj.weight', 'vision_model.post_layernorm.weight', 'vision_model.encoder.layers.9.mlp.fc1.weight', 'vision_model.encoder.layers.5.mlp.fc1.bias', 'vision_model.encoder.layers.9.self_attn.q_proj.bias', 'vision_model.encoder.layers.3.self_attn.k_proj.weight', 'vision_model.encoder.layers.0.mlp.fc2.bias', 'vision_model.encoder.layers.3.mlp.fc1.weight', 'vision_model.encoder.layers.11.layer_norm2.weight', 'vision_model.encoder.layers.1.mlp.fc1.weight', 'vision_model.encoder.layers.5.mlp.fc1.weight', 'vision_model.encoder.layers.4.layer_norm2.weight', 'vision_model.encoder.layers.2.self_attn.k_proj.weight', 'vision_model.encoder.layers.4.self_attn.out_proj.bias', 'vision_model.encoder.layers.7.mlp.fc1.weight', 'vision_model.encoder.layers.5.mlp.fc2.bias', 'vision_model.encoder.layers.11.layer_norm2.bias', 'vision_model.encoder.layers.7.mlp.fc1.bias', 'vision_model.encoder.layers.6.mlp.fc1.bias', 'vision_model.encoder.layers.4.self_attn.v_proj.bias', 'vision_model.encoder.layers.6.self_attn.k_proj.weight', 'vision_model.encoder.layers.10.self_attn.v_proj.weight', 'vision_model.encoder.layers.6.self_attn.v_proj.weight', 'vision_model.embeddings.position_ids', 'vision_model.encoder.layers.9.mlp.fc2.weight', 'vision_model.encoder.layers.9.layer_norm1.bias', 'vision_model.encoder.layers.4.mlp.fc2.bias', 'vision_model.encoder.layers.1.self_attn.v_proj.weight', 'vision_model.encoder.layers.10.mlp.fc2.weight', 'vision_model.encoder.layers.5.layer_norm2.bias', 'vision_model.encoder.layers.1.layer_norm1.bias', 'vision_model.encoder.layers.7.layer_norm1.bias', 'vision_model.embeddings.patch_embedding.weight', 'vision_model.encoder.layers.5.self_attn.q_proj.bias', 'vision_model.encoder.layers.8.mlp.fc2.weight', 'vision_model.encoder.layers.6.self_attn.q_proj.bias', 'vision_model.encoder.layers.1.mlp.fc2.weight', 'vision_model.encoder.layers.1.self_attn.out_proj.bias', 'vision_model.encoder.layers.10.self_attn.q_proj.bias', 'vision_model.encoder.layers.3.self_attn.out_proj.bias', 'vision_model.encoder.layers.2.layer_norm1.weight', 'vision_model.encoder.layers.0.layer_norm1.weight', 'vision_model.encoder.layers.7.self_attn.q_proj.bias', 'vision_model.encoder.layers.0.mlp.fc2.weight', 'vision_model.encoder.layers.4.layer_norm1.bias', 'vision_model.encoder.layers.0.self_attn.out_proj.weight', 'vision_model.encoder.layers.10.layer_norm1.weight', 'vision_model.encoder.layers.2.mlp.fc2.bias', 'vision_model.encoder.layers.0.layer_norm2.weight', 'vision_model.encoder.layers.9.self_attn.k_proj.bias', 'vision_model.encoder.layers.0.mlp.fc1.weight', 'vision_model.encoder.layers.4.self_attn.k_proj.weight', 'vision_model.encoder.layers.10.self_attn.v_proj.bias', 'vision_model.encoder.layers.11.layer_norm1.weight', 'logit_scale', 'vision_model.encoder.layers.0.mlp.fc1.bias', 'vision_model.encoder.layers.3.self_attn.k_proj.bias', 'vision_model.encoder.layers.5.self_attn.k_proj.weight', 'vision_model.encoder.layers.5.layer_norm1.weight', 'vision_model.encoder.layers.10.layer_norm1.bias', 'vision_model.encoder.layers.3.self_attn.out_proj.weight', 'vision_model.encoder.layers.5.self_attn.v_proj.bias', 'vision_model.encoder.layers.11.self_attn.q_proj.bias', 'vision_model.encoder.layers.10.layer_norm2.weight', 'vision_model.encoder.layers.9.self_attn.q_proj.weight', 'vision_model.encoder.layers.8.mlp.fc1.weight', 'vision_model.encoder.layers.10.self_attn.out_proj.bias', 'vision_model.encoder.layers.1.layer_norm2.bias', 'vision_model.encoder.layers.7.self_attn.v_proj.bias', 'vision_model.encoder.layers.9.self_attn.out_proj.weight', 'vision_model.encoder.layers.6.self_attn.out_proj.weight', 'vision_model.encoder.layers.0.layer_norm2.bias', 'vision_model.encoder.layers.5.self_attn.v_proj.weight', 'vision_model.encoder.layers.8.mlp.fc1.bias', 'vision_model.encoder.layers.7.mlp.fc2.weight', 'vision_model.encoder.layers.10.self_attn.out_proj.weight', 'vision_model.encoder.layers.9.layer_norm2.weight', 'vision_model.encoder.layers.11.mlp.fc1.weight', 'vision_model.encoder.layers.4.self_attn.k_proj.bias', 'vision_model.encoder.layers.5.self_attn.out_proj.weight', 'vision_model.encoder.layers.11.mlp.fc1.bias', 'vision_model.encoder.layers.3.layer_norm1.bias', 'vision_model.encoder.layers.9.self_attn.out_proj.bias', 'vision_model.encoder.layers.7.self_attn.q_proj.weight', 'vision_model.encoder.layers.3.layer_norm1.weight', 'vision_model.encoder.layers.0.self_attn.q_proj.bias', 'vision_model.encoder.layers.5.self_attn.k_proj.bias', 'vision_model.encoder.layers.7.self_attn.k_proj.bias', 'vision_model.encoder.layers.11.self_attn.q_proj.weight', 'vision_model.encoder.layers.5.layer_norm1.bias', 'vision_model.encoder.layers.11.self_attn.k_proj.bias', 'vision_model.encoder.layers.4.self_attn.q_proj.bias', 'vision_model.encoder.layers.7.self_attn.out_proj.bias', 'vision_model.encoder.layers.0.self_attn.k_proj.bias', 'vision_model.encoder.layers.9.self_attn.k_proj.weight', 'vision_model.encoder.layers.6.self_attn.q_proj.weight', 'vision_model.encoder.layers.1.layer_norm1.weight', 'vision_model.encoder.layers.3.layer_norm2.bias', 'vision_model.encoder.layers.11.self_attn.v_proj.bias', 'vision_model.encoder.layers.11.layer_norm1.bias', 'vision_model.encoder.layers.0.self_attn.q_proj.weight', 'vision_model.encoder.layers.1.self_attn.out_proj.weight', 'vision_model.encoder.layers.7.mlp.fc2.bias', 'vision_model.encoder.layers.8.layer_norm1.weight', 'vision_model.encoder.layers.6.layer_norm2.bias', 'vision_model.pre_layrnorm.bias', 'vision_model.encoder.layers.4.mlp.fc1.bias', 'vision_model.encoder.layers.8.self_attn.q_proj.bias', 'vision_model.encoder.layers.8.mlp.fc2.bias', 'vision_model.encoder.layers.4.self_attn.out_proj.weight', 'vision_model.encoder.layers.9.layer_norm1.weight', 'vision_model.encoder.layers.3.self_attn.v_proj.weight', 'vision_model.encoder.layers.3.self_attn.q_proj.bias', 'vision_model.encoder.layers.7.layer_norm2.weight', 'vision_model.encoder.layers.2.mlp.fc1.bias', 'vision_model.encoder.layers.10.self_attn.k_proj.bias', 'vision_model.encoder.layers.6.mlp.fc2.weight', 'vision_model.encoder.layers.2.mlp.fc2.weight', 'text_projection.weight', 'vision_model.encoder.layers.7.layer_norm1.weight', 'vision_model.encoder.layers.2.layer_norm2.bias', 'vision_model.encoder.layers.8.self_attn.out_proj.bias', 'vision_model.encoder.layers.8.self_attn.k_proj.weight', 'vision_model.pre_layrnorm.weight', 'vision_model.encoder.layers.2.self_attn.v_proj.bias', 'vision_model.encoder.layers.0.layer_norm1.bias', 'vision_model.encoder.layers.8.self_attn.out_proj.weight', 'vision_model.encoder.layers.1.self_attn.k_proj.bias', 'vision_model.embeddings.position_embedding.weight', 'vision_model.encoder.layers.4.mlp.fc1.weight', 'vision_model.encoder.layers.4.mlp.fc2.weight', 'vision_model.encoder.layers.4.self_attn.v_proj.weight', 'vision_model.encoder.layers.7.self_attn.out_proj.weight', 'vision_model.encoder.layers.11.self_attn.out_proj.weight', 'vision_model.encoder.layers.9.self_attn.v_proj.bias', 'vision_model.encoder.layers.8.layer_norm2.bias', 'vision_model.encoder.layers.6.self_attn.k_proj.bias', 'visual_projection.weight', 'vision_model.encoder.layers.0.self_attn.v_proj.weight', 'vision_model.encoder.layers.2.self_attn.k_proj.bias', 'vision_model.encoder.layers.1.mlp.fc2.bias', 'vision_model.encoder.layers.7.self_attn.v_proj.weight', 'vision_model.encoder.layers.6.layer_norm2.weight', 'vision_model.encoder.layers.3.self_attn.v_proj.bias', 'vision_model.encoder.layers.7.layer_norm2.bias', 'vision_model.encoder.layers.11.self_attn.out_proj.bias', 'vision_model.encoder.layers.4.layer_norm1.weight', 'vision_model.encoder.layers.9.layer_norm2.bias', 'vision_model.encoder.layers.1.self_attn.q_proj.weight', 'vision_model.encoder.layers.8.self_attn.v_proj.weight', 'vision_model.encoder.layers.7.self_attn.k_proj.weight', 'vision_model.encoder.layers.0.self_attn.v_proj.bias', 'vision_model.encoder.layers.2.self_attn.out_proj.bias', 'vision_model.encoder.layers.5.layer_norm2.weight', 'vision_model.post_layernorm.bias', 'vision_model.encoder.layers.11.mlp.fc2.bias', 'vision_model.encoder.layers.1.mlp.fc1.bias', 'vision_model.encoder.layers.2.self_attn.v_proj.weight', 'vision_model.encoder.layers.6.mlp.fc2.bias', 'vision_model.encoder.layers.2.self_attn.q_proj.bias', 'vision_model.encoder.layers.2.layer_norm1.bias', 'vision_model.encoder.layers.4.self_attn.q_proj.weight', 'vision_model.encoder.layers.10.mlp.fc2.bias', 'vision_model.encoder.layers.9.self_attn.v_proj.weight', 'vision_model.encoder.layers.6.self_attn.out_proj.bias', 'vision_model.encoder.layers.10.mlp.fc1.weight', 'vision_model.encoder.layers.1.self_attn.k_proj.weight', 'vision_model.encoder.layers.6.mlp.fc1.weight', 'vision_model.encoder.layers.3.mlp.fc1.bias', 'vision_model.encoder.layers.10.self_attn.q_proj.weight', 'vision_model.encoder.layers.3.mlp.fc2.weight', 'vision_model.encoder.layers.8.layer_norm2.weight', 'vision_model.encoder.layers.1.layer_norm2.weight', 'vision_model.encoder.layers.8.layer_norm1.bias', 'vision_model.encoder.layers.9.mlp.fc1.bias', 'vision_model.encoder.layers.2.layer_norm2.weight', 'vision_model.encoder.layers.3.layer_norm2.weight', 'vision_model.encoder.layers.11.self_attn.v_proj.weight', 'vision_model.encoder.layers.2.mlp.fc1.weight', 'vision_model.encoder.layers.2.self_attn.q_proj.weight', 'vision_model.encoder.layers.8.self_attn.k_proj.bias', 'vision_model.encoder.layers.4.layer_norm2.bias', 'vision_model.encoder.layers.10.layer_norm2.bias', 'vision_model.encoder.layers.0.self_attn.k_proj.weight', 'vision_model.encoder.layers.6.self_attn.v_proj.bias', 'vision_model.encoder.layers.0.self_attn.out_proj.bias', 'vision_model.encoder.layers.11.mlp.fc2.weight', 'vision_model.encoder.layers.5.self_attn.out_proj.bias', 'vision_model.embeddings.class_embedding', 'vision_model.encoder.layers.9.mlp.fc2.bias', 'vision_model.encoder.layers.3.self_attn.q_proj.weight', 'vision_model.encoder.layers.3.mlp.fc2.bias', 'vision_model.encoder.layers.6.layer_norm1.bias', 'vision_model.encoder.layers.5.self_attn.q_proj.weight', 'vision_model.encoder.layers.5.mlp.fc2.weight', 'vision_model.encoder.layers.10.self_attn.k_proj.weight', 'vision_model.encoder.layers.10.mlp.fc1.bias', 'vision_model.encoder.layers.11.self_attn.k_proj.weight', 'vision_model.encoder.layers.1.self_attn.v_proj.bias']\n",
      "- This IS expected if you are initializing CLIPTextModel from the checkpoint of a model trained on another task or with another architecture (e.g. initializing a BertForSequenceClassification model from a BertForPreTraining model).\n",
      "- This IS NOT expected if you are initializing CLIPTextModel from the checkpoint of a model that you expect to be exactly identical (initializing a BertForSequenceClassification model from a BertForSequenceClassification model).\n"
     ]
    },
    {
     "data": {
      "text/plain": [
       "CLIPTextModel(\n",
       "  (text_model): CLIPTextTransformer(\n",
       "    (embeddings): CLIPTextEmbeddings(\n",
       "      (token_embedding): Embedding(49408, 512)\n",
       "      (position_embedding): Embedding(77, 512)\n",
       "    )\n",
       "    (encoder): CLIPEncoder(\n",
       "      (layers): ModuleList(\n",
       "        (0): CLIPEncoderLayer(\n",
       "          (self_attn): CLIPAttention(\n",
       "            (k_proj): Linear(in_features=512, out_features=512, bias=True)\n",
       "            (v_proj): Linear(in_features=512, out_features=512, bias=True)\n",
       "            (q_proj): Linear(in_features=512, out_features=512, bias=True)\n",
       "            (out_proj): Linear(in_features=512, out_features=512, bias=True)\n",
       "          )\n",
       "          (layer_norm1): LayerNorm((512,), eps=1e-05, elementwise_affine=True)\n",
       "          (mlp): CLIPMLP(\n",
       "            (activation_fn): QuickGELUActivation()\n",
       "            (fc1): Linear(in_features=512, out_features=2048, bias=True)\n",
       "            (fc2): Linear(in_features=2048, out_features=512, bias=True)\n",
       "          )\n",
       "          (layer_norm2): LayerNorm((512,), eps=1e-05, elementwise_affine=True)\n",
       "        )\n",
       "        (1): CLIPEncoderLayer(\n",
       "          (self_attn): CLIPAttention(\n",
       "            (k_proj): Linear(in_features=512, out_features=512, bias=True)\n",
       "            (v_proj): Linear(in_features=512, out_features=512, bias=True)\n",
       "            (q_proj): Linear(in_features=512, out_features=512, bias=True)\n",
       "            (out_proj): Linear(in_features=512, out_features=512, bias=True)\n",
       "          )\n",
       "          (layer_norm1): LayerNorm((512,), eps=1e-05, elementwise_affine=True)\n",
       "          (mlp): CLIPMLP(\n",
       "            (activation_fn): QuickGELUActivation()\n",
       "            (fc1): Linear(in_features=512, out_features=2048, bias=True)\n",
       "            (fc2): Linear(in_features=2048, out_features=512, bias=True)\n",
       "          )\n",
       "          (layer_norm2): LayerNorm((512,), eps=1e-05, elementwise_affine=True)\n",
       "        )\n",
       "        (2): CLIPEncoderLayer(\n",
       "          (self_attn): CLIPAttention(\n",
       "            (k_proj): Linear(in_features=512, out_features=512, bias=True)\n",
       "            (v_proj): Linear(in_features=512, out_features=512, bias=True)\n",
       "            (q_proj): Linear(in_features=512, out_features=512, bias=True)\n",
       "            (out_proj): Linear(in_features=512, out_features=512, bias=True)\n",
       "          )\n",
       "          (layer_norm1): LayerNorm((512,), eps=1e-05, elementwise_affine=True)\n",
       "          (mlp): CLIPMLP(\n",
       "            (activation_fn): QuickGELUActivation()\n",
       "            (fc1): Linear(in_features=512, out_features=2048, bias=True)\n",
       "            (fc2): Linear(in_features=2048, out_features=512, bias=True)\n",
       "          )\n",
       "          (layer_norm2): LayerNorm((512,), eps=1e-05, elementwise_affine=True)\n",
       "        )\n",
       "        (3): CLIPEncoderLayer(\n",
       "          (self_attn): CLIPAttention(\n",
       "            (k_proj): Linear(in_features=512, out_features=512, bias=True)\n",
       "            (v_proj): Linear(in_features=512, out_features=512, bias=True)\n",
       "            (q_proj): Linear(in_features=512, out_features=512, bias=True)\n",
       "            (out_proj): Linear(in_features=512, out_features=512, bias=True)\n",
       "          )\n",
       "          (layer_norm1): LayerNorm((512,), eps=1e-05, elementwise_affine=True)\n",
       "          (mlp): CLIPMLP(\n",
       "            (activation_fn): QuickGELUActivation()\n",
       "            (fc1): Linear(in_features=512, out_features=2048, bias=True)\n",
       "            (fc2): Linear(in_features=2048, out_features=512, bias=True)\n",
       "          )\n",
       "          (layer_norm2): LayerNorm((512,), eps=1e-05, elementwise_affine=True)\n",
       "        )\n",
       "        (4): CLIPEncoderLayer(\n",
       "          (self_attn): CLIPAttention(\n",
       "            (k_proj): Linear(in_features=512, out_features=512, bias=True)\n",
       "            (v_proj): Linear(in_features=512, out_features=512, bias=True)\n",
       "            (q_proj): Linear(in_features=512, out_features=512, bias=True)\n",
       "            (out_proj): Linear(in_features=512, out_features=512, bias=True)\n",
       "          )\n",
       "          (layer_norm1): LayerNorm((512,), eps=1e-05, elementwise_affine=True)\n",
       "          (mlp): CLIPMLP(\n",
       "            (activation_fn): QuickGELUActivation()\n",
       "            (fc1): Linear(in_features=512, out_features=2048, bias=True)\n",
       "            (fc2): Linear(in_features=2048, out_features=512, bias=True)\n",
       "          )\n",
       "          (layer_norm2): LayerNorm((512,), eps=1e-05, elementwise_affine=True)\n",
       "        )\n",
       "        (5): CLIPEncoderLayer(\n",
       "          (self_attn): CLIPAttention(\n",
       "            (k_proj): Linear(in_features=512, out_features=512, bias=True)\n",
       "            (v_proj): Linear(in_features=512, out_features=512, bias=True)\n",
       "            (q_proj): Linear(in_features=512, out_features=512, bias=True)\n",
       "            (out_proj): Linear(in_features=512, out_features=512, bias=True)\n",
       "          )\n",
       "          (layer_norm1): LayerNorm((512,), eps=1e-05, elementwise_affine=True)\n",
       "          (mlp): CLIPMLP(\n",
       "            (activation_fn): QuickGELUActivation()\n",
       "            (fc1): Linear(in_features=512, out_features=2048, bias=True)\n",
       "            (fc2): Linear(in_features=2048, out_features=512, bias=True)\n",
       "          )\n",
       "          (layer_norm2): LayerNorm((512,), eps=1e-05, elementwise_affine=True)\n",
       "        )\n",
       "        (6): CLIPEncoderLayer(\n",
       "          (self_attn): CLIPAttention(\n",
       "            (k_proj): Linear(in_features=512, out_features=512, bias=True)\n",
       "            (v_proj): Linear(in_features=512, out_features=512, bias=True)\n",
       "            (q_proj): Linear(in_features=512, out_features=512, bias=True)\n",
       "            (out_proj): Linear(in_features=512, out_features=512, bias=True)\n",
       "          )\n",
       "          (layer_norm1): LayerNorm((512,), eps=1e-05, elementwise_affine=True)\n",
       "          (mlp): CLIPMLP(\n",
       "            (activation_fn): QuickGELUActivation()\n",
       "            (fc1): Linear(in_features=512, out_features=2048, bias=True)\n",
       "            (fc2): Linear(in_features=2048, out_features=512, bias=True)\n",
       "          )\n",
       "          (layer_norm2): LayerNorm((512,), eps=1e-05, elementwise_affine=True)\n",
       "        )\n",
       "        (7): CLIPEncoderLayer(\n",
       "          (self_attn): CLIPAttention(\n",
       "            (k_proj): Linear(in_features=512, out_features=512, bias=True)\n",
       "            (v_proj): Linear(in_features=512, out_features=512, bias=True)\n",
       "            (q_proj): Linear(in_features=512, out_features=512, bias=True)\n",
       "            (out_proj): Linear(in_features=512, out_features=512, bias=True)\n",
       "          )\n",
       "          (layer_norm1): LayerNorm((512,), eps=1e-05, elementwise_affine=True)\n",
       "          (mlp): CLIPMLP(\n",
       "            (activation_fn): QuickGELUActivation()\n",
       "            (fc1): Linear(in_features=512, out_features=2048, bias=True)\n",
       "            (fc2): Linear(in_features=2048, out_features=512, bias=True)\n",
       "          )\n",
       "          (layer_norm2): LayerNorm((512,), eps=1e-05, elementwise_affine=True)\n",
       "        )\n",
       "        (8): CLIPEncoderLayer(\n",
       "          (self_attn): CLIPAttention(\n",
       "            (k_proj): Linear(in_features=512, out_features=512, bias=True)\n",
       "            (v_proj): Linear(in_features=512, out_features=512, bias=True)\n",
       "            (q_proj): Linear(in_features=512, out_features=512, bias=True)\n",
       "            (out_proj): Linear(in_features=512, out_features=512, bias=True)\n",
       "          )\n",
       "          (layer_norm1): LayerNorm((512,), eps=1e-05, elementwise_affine=True)\n",
       "          (mlp): CLIPMLP(\n",
       "            (activation_fn): QuickGELUActivation()\n",
       "            (fc1): Linear(in_features=512, out_features=2048, bias=True)\n",
       "            (fc2): Linear(in_features=2048, out_features=512, bias=True)\n",
       "          )\n",
       "          (layer_norm2): LayerNorm((512,), eps=1e-05, elementwise_affine=True)\n",
       "        )\n",
       "        (9): CLIPEncoderLayer(\n",
       "          (self_attn): CLIPAttention(\n",
       "            (k_proj): Linear(in_features=512, out_features=512, bias=True)\n",
       "            (v_proj): Linear(in_features=512, out_features=512, bias=True)\n",
       "            (q_proj): Linear(in_features=512, out_features=512, bias=True)\n",
       "            (out_proj): Linear(in_features=512, out_features=512, bias=True)\n",
       "          )\n",
       "          (layer_norm1): LayerNorm((512,), eps=1e-05, elementwise_affine=True)\n",
       "          (mlp): CLIPMLP(\n",
       "            (activation_fn): QuickGELUActivation()\n",
       "            (fc1): Linear(in_features=512, out_features=2048, bias=True)\n",
       "            (fc2): Linear(in_features=2048, out_features=512, bias=True)\n",
       "          )\n",
       "          (layer_norm2): LayerNorm((512,), eps=1e-05, elementwise_affine=True)\n",
       "        )\n",
       "        (10): CLIPEncoderLayer(\n",
       "          (self_attn): CLIPAttention(\n",
       "            (k_proj): Linear(in_features=512, out_features=512, bias=True)\n",
       "            (v_proj): Linear(in_features=512, out_features=512, bias=True)\n",
       "            (q_proj): Linear(in_features=512, out_features=512, bias=True)\n",
       "            (out_proj): Linear(in_features=512, out_features=512, bias=True)\n",
       "          )\n",
       "          (layer_norm1): LayerNorm((512,), eps=1e-05, elementwise_affine=True)\n",
       "          (mlp): CLIPMLP(\n",
       "            (activation_fn): QuickGELUActivation()\n",
       "            (fc1): Linear(in_features=512, out_features=2048, bias=True)\n",
       "            (fc2): Linear(in_features=2048, out_features=512, bias=True)\n",
       "          )\n",
       "          (layer_norm2): LayerNorm((512,), eps=1e-05, elementwise_affine=True)\n",
       "        )\n",
       "        (11): CLIPEncoderLayer(\n",
       "          (self_attn): CLIPAttention(\n",
       "            (k_proj): Linear(in_features=512, out_features=512, bias=True)\n",
       "            (v_proj): Linear(in_features=512, out_features=512, bias=True)\n",
       "            (q_proj): Linear(in_features=512, out_features=512, bias=True)\n",
       "            (out_proj): Linear(in_features=512, out_features=512, bias=True)\n",
       "          )\n",
       "          (layer_norm1): LayerNorm((512,), eps=1e-05, elementwise_affine=True)\n",
       "          (mlp): CLIPMLP(\n",
       "            (activation_fn): QuickGELUActivation()\n",
       "            (fc1): Linear(in_features=512, out_features=2048, bias=True)\n",
       "            (fc2): Linear(in_features=2048, out_features=512, bias=True)\n",
       "          )\n",
       "          (layer_norm2): LayerNorm((512,), eps=1e-05, elementwise_affine=True)\n",
       "        )\n",
       "      )\n",
       "    )\n",
       "    (final_layer_norm): LayerNorm((512,), eps=1e-05, elementwise_affine=True)\n",
       "  )\n",
       ")"
      ]
     },
     "execution_count": 4,
     "metadata": {},
     "output_type": "execute_result"
    }
   ],
   "source": [
    "global txt_model\n",
    "txt_model = CLIPTextModel.from_pretrained(\"openai/clip-vit-base-patch32\")\n",
    "txt_model.eval()"
   ]
  },
  {
   "cell_type": "code",
   "execution_count": 5,
   "metadata": {},
   "outputs": [],
   "source": [
    "# Defining Models\n",
    "global processor\n",
    "processor = AutoProcessor.from_pretrained(\"openai/clip-vit-base-patch32\")"
   ]
  },
  {
   "attachments": {},
   "cell_type": "markdown",
   "metadata": {},
   "source": [
    "### Defining Classes"
   ]
  },
  {
   "attachments": {},
   "cell_type": "markdown",
   "metadata": {},
   "source": [
    "#### ImageDataset & TextDataset"
   ]
  },
  {
   "attachments": {},
   "cell_type": "markdown",
   "metadata": {},
   "source": [
    "The ImageDataset and TextDataset classes are used to create datasets for torch dataloaders.\n",
    "The ImageDataset is used for the images and the TextDataset for the captions of the coco images."
   ]
  },
  {
   "cell_type": "code",
   "execution_count": 6,
   "metadata": {},
   "outputs": [],
   "source": [
    "# Dataset Classes for Batching\n",
    "class ImageDataset(Dataset):\n",
    "    def __init__(self, image_list, processor):\n",
    "        self.image_list = image_list\n",
    "        self.processor = processor\n",
    "\n",
    "    def __len__(self):\n",
    "        return len(self.image_list)\n",
    "\n",
    "    def __getitem__(self, idx):\n",
    "        image = Image.open(self.image_list[idx])\n",
    "        image = self.processor(images=image, return_tensors=\"pt\", padding=True)\n",
    "        return image[\"pixel_values\"].squeeze()\n",
    "\n",
    "class TextDataset(Dataset):\n",
    "    def __init__(self, text, max_length, processor):\n",
    "        self.text = processor(text=text, return_tensors=\"pt\", padding=\"max_length\", max_length=max_length)\n",
    "\n",
    "    def __len__(self):\n",
    "        return len(self.text[\"input_ids\"])\n",
    "\n",
    "    def __getitem__(self, idx):\n",
    "        return self.text[\"input_ids\"][idx]"
   ]
  },
  {
   "attachments": {},
   "cell_type": "markdown",
   "metadata": {},
   "source": [
    "#### Subject Class"
   ]
  },
  {
   "attachments": {},
   "cell_type": "markdown",
   "metadata": {},
   "source": [
    "The Subject class is initialized with a valid subject id (e.g., \"subj01\"). It stores all relevant paths and can load the data for the given subject."
   ]
  },
  {
   "cell_type": "code",
   "execution_count": 7,
   "metadata": {},
   "outputs": [],
   "source": [
    "class Subject:\n",
    "    \"\"\"Class to access all relevant data for a given subject\"\"\"\n",
    "    def __init__(self, subject=\"subj01\"):\n",
    "        assert subject in [\"subj01\", \"subj02\", \"subj03\", \"subj04\", \"subj05\", \"subj06\", \"subj07\", \"subj08\",], \"Invalid subject\"\n",
    "        self.subject = subject\n",
    "        self.data_dir = \"data/algonauts_2023_challenge_data\"\n",
    "        self.training_images_dir = f\"{self.data_dir}/{subject}/training_split/training_images\"\n",
    "        self.test_images_dir = f\"{self.data_dir}/{subject}/test_split/test_images\"\n",
    "        self.training_fmri_dir = f\"{self.data_dir}/{subject}/training_split/training_fmri\"\n",
    "        self.roi_masks_dir = f\"{self.data_dir}/{subject}/roi_masks\"\n",
    "        self.submission_dir = f\"algonauts_2023_challenge_submission\"\n",
    "        # Load these as needed\n",
    "        self.train_img_list = None\n",
    "        self.test_img_list = None\n",
    "        self.train_cap_list = None\n",
    "        self.test_cap_list = None\n",
    "        self.lh_fmri = None\n",
    "        self.rh_fmri = None\n",
    "        self.lh_roi_masks = None\n",
    "        self.rh_roi_masks = None\n",
    "        self.roi_name_maps = None\n",
    "        self.lh_challenge_rois = None\n",
    "        self.rh_challenge_rois = None\n",
    "        self.train_img_dataloader = None\n",
    "        self.test_img_dataloader = None\n",
    "        self.train_cap_dataloader = None\n",
    "        self.test_cap_dataloader = None            \n",
    "        \n",
    "    def load_image_paths(self) -> None:\n",
    "        \"\"\"Loads the image paths from the training and test directories\"\"\"\n",
    "        self.train_img_list = glob.glob(f\"{self.training_images_dir}/*.png\")\n",
    "        self.train_img_list.sort()\n",
    "        self.test_img_list = glob.glob(f\"{self.test_images_dir}/*.png\")\n",
    "        self.test_img_list.sort()\n",
    "        print(f\"Training images: {len(self.train_img_list)}\")\n",
    "        print(f\"Test images: {len(self.test_img_list)}\")\n",
    "\n",
    "    def load_captions(self) -> None:\n",
    "        \"\"\"Loads and matches the captions from the csv file\"\"\"\n",
    "        if self.train_img_list is None:\n",
    "            self.load_image_paths()\n",
    "        train_cap_file = pd.read_csv(f'{self.data_dir}/algonauts_2023_caption_data.csv')\n",
    "        img_match = [int(i[-9:-4]) for i in self.train_img_list]\n",
    "        self.train_cap_list = train_cap_file[(train_cap_file['subject'] == self.subject) & (train_cap_file['nsdId'].isin(img_match))]['caption'].tolist()\n",
    "        self.test_cap_list = train_cap_file[(train_cap_file['subject'] == self.subject) & (~train_cap_file['nsdId'].isin(img_match))]['caption'].tolist()\n",
    "        print(f\"Training captions: {len(self.train_cap_list)}\")\n",
    "        print(f\"Test captions: {len(self.test_cap_list)}\")\n",
    "    \n",
    "    def load_neural_data(self) -> None:\n",
    "        \"\"\"Loads the neural data from the .npy files\"\"\"\n",
    "        self.lh_fmri = np.load(f\"{self.training_fmri_dir}/lh_training_fmri.npy\")\n",
    "        self.rh_fmri = np.load(f\"{self.training_fmri_dir}/rh_training_fmri.npy\")\n",
    "        print(f\"Left hemisphere neural data loaded. Shape: {self.lh_fmri.shape}\")\n",
    "        print(f\"Right hemisphere neural data loaded. Shape: {self.rh_fmri.shape}\")\n",
    "\n",
    "    def create_dataloaders(self, processor, batch_size) -> None:\n",
    "        \"\"\"Creates the dataloaders for the images and captions\"\"\"\n",
    "        if self.train_img_list is None:\n",
    "            self.load_image_paths()\n",
    "        if self.train_cap_list is None:\n",
    "            self.load_captions()\n",
    "        max_caption_len = processor(text=self.train_cap_list + self.test_cap_list, return_tensors=\"pt\", padding=True)[\"input_ids\"].shape[1]   \n",
    "        train_txt_dataset = TextDataset(self.train_cap_list, max_caption_len, processor)\n",
    "        test_txt_dataset = TextDataset(self.test_cap_list, max_caption_len, processor)\n",
    "        train_img_dataset = ImageDataset(self.train_img_list, processor)\n",
    "        test_img_dataset = ImageDataset(self.test_img_list, processor)\n",
    "        self.train_img_dataloader = DataLoader(train_img_dataset, batch_size=batch_size, shuffle=False)\n",
    "        self.test_img_dataloader = DataLoader(test_img_dataset, batch_size=batch_size, shuffle=False)\n",
    "        self.train_txt_dataloader = DataLoader(train_txt_dataset, batch_size=batch_size, shuffle=False)\n",
    "        self.test_txt_dataloader = DataLoader(test_txt_dataset, batch_size=batch_size, shuffle=False)\n",
    "        print(f\"Train image dataloader: {len(self.train_img_dataloader)} batches\")\n",
    "        print(f\"Test image dataloader: {len(self.test_img_dataloader)} batches\")\n",
    "        print(f\"Train caption dataloader: {len(self.train_txt_dataloader)} batches\")\n",
    "        print(f\"Test caption dataloader: {len(self.test_txt_dataloader)} batches\")\n",
    "\n",
    "    def load_challenge_rois(self) -> None:\n",
    "        \"\"\"Loads the challenge rois from the .npy files\"\"\"\n",
    "        # Load the ROI classes mapping dictionaries\n",
    "        roi_mapping_files = ['mapping_prf-visualrois.npy', 'mapping_floc-bodies.npy',\n",
    "            'mapping_floc-faces.npy', 'mapping_floc-places.npy',\n",
    "            'mapping_floc-words.npy', 'mapping_streams.npy']\n",
    "        self.roi_name_maps = []\n",
    "        for r in roi_mapping_files:\n",
    "            self.roi_name_maps.append(np.load(f\"{self.roi_masks_dir}/{r}\", allow_pickle=True).item())\n",
    "\n",
    "        # Load the ROI brain surface maps\n",
    "        lh_challenge_roi_files = ['lh.prf-visualrois_challenge_space.npy',\n",
    "            'lh.floc-bodies_challenge_space.npy', 'lh.floc-faces_challenge_space.npy',\n",
    "            'lh.floc-places_challenge_space.npy', 'lh.floc-words_challenge_space.npy',\n",
    "            'lh.streams_challenge_space.npy']\n",
    "        rh_challenge_roi_files = ['rh.prf-visualrois_challenge_space.npy',\n",
    "            'rh.floc-bodies_challenge_space.npy', 'rh.floc-faces_challenge_space.npy',\n",
    "            'rh.floc-places_challenge_space.npy', 'rh.floc-words_challenge_space.npy',\n",
    "            'rh.streams_challenge_space.npy']\n",
    "        self.lh_challenge_rois = []\n",
    "        self.rh_challenge_rois = []\n",
    "        for r in range(len(lh_challenge_roi_files)):\n",
    "            self.lh_challenge_rois.append(np.load(f\"{self.roi_masks_dir}/{lh_challenge_roi_files[r]}\"))\n",
    "            self.rh_challenge_rois.append(np.load(f\"{self.roi_masks_dir}/{rh_challenge_roi_files[r]}\"))\n",
    "\n",
    "    def load_roi_masks(self, roi=\"V1v\", hemisphere=\"lh\"):\n",
    "        valid_roi = [\"V1v\", \"V1d\", \"V2v\", \"V2d\", \"V3v\", \n",
    "                     \"V3d\", \"hV4\", \"EBA\", \"FBA-1\", \"FBA-2\", \n",
    "                     \"mTL-bodies\", \"OFA\", \"FFA-1\", \"FFA-2\", \n",
    "                     \"mTL-faces\", \"aTL-faces\", \"OPA\", \"PPA\", \n",
    "                     \"RSC\", \"OWFA\", \"VWFA-1\", \"VWFA-2\", \"mfs-words\", \n",
    "                     \"mTL-words\", \"early\", \"midventral\", \"midlateral\", \n",
    "                     \"midparietal\", \"ventral\", \"lateral\", \"parietal\",\n",
    "                     \"all-vertices\"]\n",
    "        valid_hemisphere = [\"lh\", \"rh\"]\n",
    "        assert roi in valid_roi, \"Invalid ROI\"\n",
    "        assert hemisphere in valid_hemisphere, \"Invalid hemisphere\"\n",
    "\n",
    "        # Define the ROI class based on the selected ROI\n",
    "        if roi in [\"V1v\", \"V1d\", \"V2v\", \"V2d\", \"V3v\", \"V3d\", \"hV4\"]:\n",
    "            roi_class = 'prf-visualrois'\n",
    "        elif roi in [\"EBA\", \"FBA-1\", \"FBA-2\", \"mTL-bodies\"]:\n",
    "            roi_class = 'floc-bodies'\n",
    "        elif roi in [\"OFA\", \"FFA-1\", \"FFA-2\", \"mTL-faces\", \"aTL-faces\"]:\n",
    "            roi_class = 'floc-faces'\n",
    "        elif roi in [\"OPA\", \"PPA\", \"RSC\"]:\n",
    "            roi_class = 'floc-places'\n",
    "        elif roi in [\"OWFA\", \"VWFA-1\", \"VWFA-2\", \"mfs-words\", \"mTL-words\"]:\n",
    "            roi_class = 'floc-words'\n",
    "        elif roi in [\"early\", \"midventral\", \"midlateral\", \"midparietal\", \"ventral\", \"lateral\", \"parietal\"]:\n",
    "            roi_class = 'streams'\n",
    "        else:\n",
    "            roi_class = roi\n",
    "        roi_class_dir = f\"{hemisphere}.{roi_class}_fsaverage_space.npy\"\n",
    "        roi_map_dir = f\"mapping_{roi_class}.npy\"\n",
    "        fsaverage_roi_class = np.load(f\"{self.roi_masks_dir}/{roi_class_dir}\")\n",
    "        roi_map = None\n",
    "        if roi != \"all-vertices\":\n",
    "            roi_map = np.load(f\"{self.roi_masks_dir}/{roi_map_dir}\", allow_pickle=True).item()\n",
    "        return fsaverage_roi_class, roi_map"
   ]
  },
  {
   "attachments": {},
   "cell_type": "markdown",
   "metadata": {},
   "source": [
    "#### CLIPFeatureExtractor Class"
   ]
  },
  {
   "attachments": {},
   "cell_type": "markdown",
   "metadata": {},
   "source": [
    "The CLIPFeatureExtractor class is used to extract the hidden states from a clip model."
   ]
  },
  {
   "cell_type": "code",
   "execution_count": 8,
   "metadata": {},
   "outputs": [],
   "source": [
    "class CLIPFeatureExtractor():\n",
    "    \"\"\"Extracts the features from hidden states of a CLIP model.\"\"\"\n",
    "    def __init__(\n",
    "            self, \n",
    "            idxs: list = [i for i in range(13)], # hidden layer indices to extract features from. Standard CLIP has an embedding layer and 12 transformer layers.\n",
    "            last_hidden_layer: bool = False, # whether to extract features from the last hidden layer\n",
    "            model: PreTrainedModel = None, # CLIP model\n",
    "            dataloader: DataLoader = None, # dataloader for batching\n",
    "            ) -> None:\n",
    "        self.idxs = idxs\n",
    "        self.last_hidden_layer = last_hidden_layer\n",
    "        self.generate_feature_dict()\n",
    "        if self.last_hidden_layer:\n",
    "            self.idxs.append(13) # adds an additional idx to allow for loop zip()\n",
    "        self.model = model\n",
    "        self.dataloader = dataloader\n",
    "    \n",
    "    def generate_feature_dict(self) -> None:\n",
    "        \"\"\"Generates a feature dict according to the idxs and last_hidden_layer attributes.\"\"\"\n",
    "        feature_dict = {}\n",
    "        for idx in self.idxs:\n",
    "            if idx == 0:\n",
    "                feature_dict[\"Embedding Layer\"] = None\n",
    "            else:\n",
    "                feature_dict[f\"Transformer Layer {idx}\"] = None\n",
    "        if self.last_hidden_layer:\n",
    "            feature_dict[\"Final Layer\"] = None\n",
    "        self.feature_dict = feature_dict\n",
    "    \n",
    "    def concat_features(self, features: dict) -> None:\n",
    "        \"\"\"Adds extracted features to the feature dict.\n",
    "        Args:\n",
    "            features: features extracted from the output of a CLIP model\"\"\"\n",
    "        keys = list(self.feature_dict.keys())\n",
    "        # check if feature_dict is empty\n",
    "        if self.feature_dict[keys[0]] is None:\n",
    "            self.feature_dict = features\n",
    "        else:\n",
    "            for key in keys:\n",
    "                self.feature_dict[key] = np.concatenate((self.feature_dict[key], features[key]), axis=0)\n",
    "\n",
    "    def extract_raw_features(self, output) -> None: \n",
    "        \"\"\"Extracts features from the hidden states of a CLIP model and concates them to the feature_dict.\n",
    "        Args:\n",
    "            output: output of a CLIP model\n",
    "        \"\"\"\n",
    "        features = {}\n",
    "        for idx, key in zip(self.idxs, self.feature_dict.keys()):\n",
    "            if key == \"Final Layer\":\n",
    "                features[key] = output.last_hidden_state.cpu().detach().numpy()\n",
    "            else:\n",
    "                features[key] = output.hidden_states[idx].cpu().detach().numpy()\n",
    "        self.concat_features(features)\n",
    "    \n",
    "    def extract_raw_features_from_model(self) -> None:\n",
    "        \"\"\"Runs the CLIP model on the dataloader and extracts features from the hidden states.\"\"\"\n",
    "        self.model = self.model.to(device)\n",
    "        with torch.no_grad():\n",
    "            for batch in tqdm(self.dataloader):\n",
    "                batch = batch.to(device)\n",
    "                output = self.model(batch, output_hidden_states=True)\n",
    "                self.extract_raw_features(output)\n",
    "                batch = None # clear batch from memory\n",
    "                output = None # clear output from memory\n",
    "        self.model = self.model.to(\"cpu\")        "
   ]
  },
  {
   "attachments": {},
   "cell_type": "markdown",
   "metadata": {},
   "source": [
    "#### KFoldProcedure & KFold Classes"
   ]
  },
  {
   "attachments": {},
   "cell_type": "markdown",
   "metadata": {},
   "source": [
    "The KFoldProcedure class is used to define a procedure that is supposed to be executed during each fold of the k-fold validation. \n",
    "It can be supplied to a KFold class which executes its run() function on all folds."
   ]
  },
  {
   "cell_type": "code",
   "execution_count": 48,
   "metadata": {},
   "outputs": [],
   "source": [
    "class KFoldProcedure:\n",
    "    \"\"\"This class is used to define a procedure that is run on each fold of a k-fold cross validation.\"\"\"\n",
    "    def __init__(self) -> None:\n",
    "        self.roi_names = []\n",
    "\n",
    "    def prepare(self) -> None:\n",
    "        \"\"\"Operations that should be executed before the fold loop\"\"\"\n",
    "        raise NotImplementedError\n",
    "\n",
    "    def run(self, train_idxs: np.ndarray, val_idxs: np.ndarray) -> Dict[str, Dict[str, np.ndarray]]:\n",
    "        \"\"\"This should return a dict of correlations.\n",
    "        dict format: {\"layer\": {\"lh\": np.ndarray, \"lh\": np.ndarray}}\"\"\"\n",
    "        raise NotImplementedError\n",
    "    \n",
    "    def return_idxs(self):\n",
    "        \"\"\"Returns idxs to create folds in the KFold class.\"\"\"\n",
    "        raise NotImplementedError\n",
    "    \n",
    "    def return_roi_names(self) -> List[str]:\n",
    "        \"\"\"Required for the plot function in the KFold class.\"\"\"\n",
    "        return self.roi_names    \n",
    "    \n",
    "class KFold:\n",
    "    \"\"\"Run a k-fold cross validation with a given procedure.\"\"\"\n",
    "    def __init__(self, folds: int = 8, seed: int = 5, procedure: KFoldProcedure = None) -> None:\n",
    "        assert folds > 1, \"folds must be greater than 1\"\n",
    "        assert seed > 0, \"seed must be greater than 0\"\n",
    "        assert isinstance(folds, int), \"folds must be an integer\"\n",
    "        assert isinstance(seed, int), \"seed must be an integer\"\n",
    "        #assert isinstance(procedure, KFoldProcedure), \"procedure must be an instance of KFoldProcedure\"\n",
    "        self.folds = folds\n",
    "        self.seed = seed\n",
    "        self.procedure = procedure\n",
    "        self.fold_correlations = {}\n",
    "        self.mean_correlations = None\n",
    "\n",
    "    def run(self) -> None:\n",
    "        \"\"\"Runs the procedure on each fold and accesses the correlations.\"\"\"\n",
    "        self.procedure.prepare()\n",
    "        # Create k folds   \n",
    "        fold_idxs = self.procedure.return_idxs()\n",
    "        np.random.seed(self.seed)\n",
    "        np.random.shuffle(fold_idxs)\n",
    "        self.fold_idxs = np.array_split(fold_idxs, self.folds)\n",
    "\n",
    "        for fold in range(self.folds):\n",
    "            # Select validation and train set\n",
    "            val_idxs = self.fold_idxs[fold]\n",
    "            train_idxs = np.concatenate([self.fold_idxs[j] for j in range(self.folds) if j != fold])\n",
    "            \n",
    "            # Info for current fold\n",
    "            print(f\"#############################################\")\n",
    "            print(f\"# Fold: {fold+1}/ {self.folds}\")         \n",
    "            print(f\"# Train size: {len(train_idxs)}\")\n",
    "            print(f\"# Validation size: {len(val_idxs)}\")\n",
    "            print(f\"#############################################\")\n",
    "\n",
    "            # Run procedure\n",
    "            self.fold_correlations[fold] = self.procedure.run(train_idxs, val_idxs)\n",
    "        # Get ROI names\n",
    "        self.roi_names = self.procedure.return_roi_names()\n",
    "    \n",
    "    def calculate_mean_accross_folds(self):\n",
    "        \"\"\"Calculates the mean across folds for each layer\"\"\"\n",
    "        self.mean_correlations = {}\n",
    "        for layer in self.fold_correlations[0].keys():\n",
    "            self.mean_correlations[layer] = {}\n",
    "            for hemi in self.fold_correlations[0][layer].keys():\n",
    "                self.mean_correlations[layer][hemi] = np.nanmean([self.fold_correlations[fold][layer][hemi] for fold in range(self.folds)], axis=0)\n",
    "    \n",
    "    def mean_correlations_to_csv(self, description: str, model: str) -> None:\n",
    "        df = pd.DataFrame(columns=[\"model\", \"layer\", \"hemisphere\", \"roi\", \"correlation\"])\n",
    "        for layer in self.mean_correlations.keys():\n",
    "                for hemisphere in self.mean_correlations[layer].keys():\n",
    "                    for i in range(len(self.roi_names)):\n",
    "                        df = df.append({\"model\": model, \"layer\": layer, \"hemisphere\": hemisphere, \"roi\": self.roi_names[i], \"correlation\": self.mean_correlations[layer][hemisphere][i]}, ignore_index=True)\n",
    "\n",
    "        validations = glob.glob(f\"validations/validation*\")\n",
    "        if len(validations) == 0:\n",
    "            # create first validation folder\n",
    "            folder_name = \"validation001\"\n",
    "            os.mkdir(f\"validations/{folder_name}\")\n",
    "        else:\n",
    "            # create next validation folder\n",
    "            last_validation = sorted(validations)[-1]\n",
    "            last_validation_number = int(last_validation.split(\"/\")[-1].split(\"validation\")[-1])\n",
    "            next_validation_number = last_validation_number + 1\n",
    "            folder_name = f\"validation{str(next_validation_number).zfill(3)}\"\n",
    "            os.mkdir(f\"validations/{folder_name}\")\n",
    "\n",
    "        # Write text file with model description\n",
    "        with open(f\"validations/{folder_name}/info.txt\", \"w\") as f:\n",
    "            f.write(description)\n",
    "\n",
    "        # Save dataframe\n",
    "        df.to_csv(f\"validations/{folder_name}/results.csv\", index=False)\n",
    "\n",
    "    def plot_results(self):\n",
    "        \"\"\"Creates two side by side bar plots for the two hemispheres showing the mean correlations of each layer\"\"\"\n",
    "        if self.mean_correlations is None:\n",
    "            self.calculate_mean_accross_folds()\n",
    "        width = 0.5\n",
    "        fig, ax = plt.subplots(1, 2, figsize=(20, 10))\n",
    "        for i, layer in enumerate(self.mean_correlations):\n",
    "            ax[0].bar(np.arange(len(self.mean_correlations[layer][\"lh\"])) - width*i, self.mean_correlations[layer][\"lh\"], width, label=f\"{layer} lh\")\n",
    "            ax[1].bar(np.arange(len(self.mean_correlations[layer][\"rh\"])) - width*i, self.mean_correlations[layer][\"rh\"], width, label=f\"{layer} rh\")\n",
    "        ax[0].set_xticks(range(len(self.roi_names)))\n",
    "        ax[0].set_xticklabels(self.roi_names, rotation=90)\n",
    "        ax[0].set_ylabel(\"Correlation\")\n",
    "        ax[0].set_xlabel(\"ROI\")\n",
    "        ax[0].legend()\n",
    "        ax[0].set_title(\"Mean correlation with ROIs accross folds (left hemisphere))\")\n",
    "        ax[1].set_xticks(range(len(self.roi_names)))\n",
    "        ax[1].set_xticklabels(self.roi_names, rotation=90)\n",
    "        ax[1].set_ylabel(\"Correlation\")\n",
    "        ax[1].set_xlabel(\"ROI\")\n",
    "        ax[1].legend()\n",
    "        ax[1].set_title(\"Mean correlation with ROIs accross folds (right hemisphere)\")\n",
    "        plt.show()"
   ]
  },
  {
   "attachments": {},
   "cell_type": "markdown",
   "metadata": {},
   "source": [
    "These are the procedures we used to select our models for submission."
   ]
  },
  {
   "cell_type": "code",
   "execution_count": 49,
   "metadata": {},
   "outputs": [],
   "source": [
    "class KFoldSingleCLIPSingleSubject(KFoldProcedure):\n",
    "    \"\"\"A procedure that runs k-fold on all layers of a single CLIP model on a single subject.\"\"\"\n",
    "    def __init__(self, \n",
    "                 feature_extractor: CLIPFeatureExtractor,\n",
    "                 subject: Subject, \n",
    "                 pca: PCA) -> None:\n",
    "        assert isinstance(feature_extractor, CLIPFeatureExtractor), \"feature_extractor must be an instance of CLIPFeatureExtractor\"\n",
    "        assert isinstance(subject, Subject), \"subject must be an instance of Subject\"\n",
    "        self.feature_extractor = feature_extractor\n",
    "        self.subject = subject\n",
    "        self.pca = pca\n",
    "        self.correlations = {}\n",
    "\n",
    "    def prepare(self):\n",
    "        # Extract raw features\n",
    "        self.feature_extractor.extract_raw_features_from_model()\n",
    "        self.raw_features = self.feature_extractor.feature_dict\n",
    "        self.feature_extractor = None # free memory\n",
    "\n",
    "        # Load challenge rois\n",
    "        self.subject.load_challenge_rois()\n",
    "        self.lh_challenge_rois = self.subject.lh_challenge_rois\n",
    "        self.rh_challenge_rois = self.subject.rh_challenge_rois\n",
    "        self.roi_name_maps = self.subject.roi_name_maps\n",
    "\n",
    "        # Load neural data\n",
    "        self.subject.load_neural_data()\n",
    "        self.lh_fmri = self.subject.lh_fmri\n",
    "        self.rh_fmri = self.subject.rh_fmri\n",
    "        self.subject = None # free memory\n",
    "\n",
    "        # Prepare correlation dict\n",
    "        self.fold_correlations = {}\n",
    "\n",
    "    def run(self, train_idxs: np.ndarray, val_idxs: np.ndarray) -> Dict[str, Dict[str, np.ndarray]]:\n",
    "        # Loop over all layers          \n",
    "        correlations = {}\n",
    "        for layer in self.raw_features.keys():\n",
    "            print(f\"> {layer}\")\n",
    "            # Assign train and val features\n",
    "            train_features = self.raw_features[layer][train_idxs]\n",
    "            val_features = self.raw_features[layer][val_idxs]\n",
    "\n",
    "            # Assign train and val fmri\n",
    "            train_lh_fmri = self.lh_fmri[train_idxs]\n",
    "            train_rh_fmri = self.rh_fmri[train_idxs]\n",
    "            val_lh_fmri = self.lh_fmri[val_idxs]\n",
    "            val_rh_fmri = self.rh_fmri[val_idxs]\n",
    "\n",
    "            # Fit PCA models\n",
    "            print(f\"Fitting PCA model for {layer}...\")\n",
    "            train_pca_features = self.pca.fit_transform(torch.tensor(train_features).flatten(1).numpy())\n",
    "            del train_features # free memory\n",
    "\n",
    "            # Fit linear regression\n",
    "            print(f\"Fitting linear regression models for {layer}...\")\n",
    "            lh_lin_reg = LinearRegression().fit(train_pca_features, train_lh_fmri)\n",
    "            rh_lin_reg = LinearRegression().fit(train_pca_features, train_rh_fmri)\n",
    "            del train_pca_features, train_lh_fmri, train_rh_fmri # free memory\n",
    "\n",
    "            # Transform validation features\n",
    "            print(f\"Transforming validation features for {layer}...\")\n",
    "            val_txt_pca_features = self.pca.transform(torch.tensor(val_features).flatten(1).numpy())\n",
    "            del val_features # free memory\n",
    "\n",
    "            # Predict validation set\n",
    "            print(f\"Predicting validation set for {layer}...\")\n",
    "            lh_val_pred = lh_lin_reg.predict(val_txt_pca_features)\n",
    "            rh_val_pred = rh_lin_reg.predict(val_txt_pca_features)\n",
    "            del val_txt_pca_features, lh_lin_reg, rh_lin_reg # free memory\n",
    "            \n",
    "            # Calculate correlations\n",
    "            print(f\"Calculating correlations for {layer}...\\n\")\n",
    "            # Left hemisphere\n",
    "            lh_correlation = np.zeros(lh_val_pred.shape[1])\n",
    "            for v in tqdm(range(lh_val_pred.shape[1])):\n",
    "                lh_correlation[v] = corr(lh_val_pred[:,v], val_lh_fmri[:,v])[0]\n",
    "            # Right hemisphere\n",
    "            rh_correlation = np.zeros(rh_val_pred.shape[1])\n",
    "            for v in tqdm(range(rh_val_pred.shape[1])):\n",
    "                rh_correlation[v] = corr(rh_val_pred[:,v], val_rh_fmri[:,v])[0]\n",
    "\n",
    "            # Get median correlations with ROI\n",
    "            print(f\"Calculating median correlation with ROIs for {layer}...\")\n",
    "            # Select the correlation results vertices of each ROI\n",
    "            lh_challange_rois = self.lh_challenge_rois\n",
    "            rh_challange_rois = self.rh_challenge_rois\n",
    "            self.roi_names = []\n",
    "            lh_roi_correlation = []\n",
    "            rh_roi_correlation = []\n",
    "            for r1 in range(len(lh_challange_rois)):\n",
    "                for r2 in self.roi_name_maps[r1].items():\n",
    "                    if r2[0] != 0: # zeros indicate to vertices falling outside the ROI of interest\n",
    "                        self.roi_names.append(r2[1])\n",
    "                        lh_roi_idx = np.where(lh_challange_rois[r1] == r2[0])[0]\n",
    "                        rh_roi_idx = np.where(rh_challange_rois[r1] == r2[0])[0]\n",
    "                        lh_roi_correlation.append(lh_correlation[lh_roi_idx])\n",
    "                        rh_roi_correlation.append(rh_correlation[rh_roi_idx])\n",
    "            self.roi_names.append('All vertices')\n",
    "            lh_roi_correlation.append(lh_correlation)\n",
    "            rh_roi_correlation.append(rh_correlation)\n",
    "            lh_median_roi_correlation = [np.median(lh_roi_correlation[r])\n",
    "                for r in range(len(lh_roi_correlation))]\n",
    "            rh_median_roi_correlation = [np.median(rh_roi_correlation[r])\n",
    "                for r in range(len(rh_roi_correlation))]\n",
    "            \n",
    "            # Store correlations\n",
    "            correlations[layer] = {\"lh\": lh_median_roi_correlation, \"rh\": rh_median_roi_correlation} \n",
    "        return correlations\n",
    "\n",
    "    def return_idxs(self) -> np.ndarray:\n",
    "        return np.arange(len(self.raw_features[list(self.raw_features.keys())[0]])) "
   ]
  },
  {
   "attachments": {},
   "cell_type": "markdown",
   "metadata": {},
   "source": [
    "#### SubmissionProcedure & CreateSubmission Classes"
   ]
  },
  {
   "attachments": {},
   "cell_type": "markdown",
   "metadata": {},
   "source": [
    "The SubmissionProcedure class is used to define a procedure which fits a model to predict the test fmri activity. \n",
    "It can be supplied to a CreateSubmission class which executes its run() function on all subjects to generate a submission."
   ]
  },
  {
   "cell_type": "code",
   "execution_count": 11,
   "metadata": {},
   "outputs": [],
   "source": [
    "class SubmissionProcedure:\n",
    "    \"\"\"Used to create a submission procedure that is executed for each subject in the CreateSubmission class.\"\"\"\n",
    "\n",
    "    def run(self):\n",
    "        raise NotImplementedError\n",
    "\n",
    "class CreateSubmission:\n",
    "    \"\"\"Create a new challenge submission.\"\"\"\n",
    "    def __init__(self, \n",
    "                 subjects : List[Subject],\n",
    "                 procedure: SubmissionProcedure):\n",
    "        self.subjects = subjects\n",
    "        self.procedure = procedure\n",
    "\n",
    "    def create_submission_folder(self) -> None:\n",
    "        # create new submission folder with newest name\n",
    "        submissions = glob.glob(f\"submissions/submission*\")\n",
    "        if len(submissions) == 0:\n",
    "            # create first submission folder\n",
    "            self.folder_name = \"submission001\"\n",
    "            os.mkdir(f\"submissions/{self.folder_name}\")\n",
    "        else:\n",
    "            # create next submission folder\n",
    "            last_submission = sorted(submissions)[-1]\n",
    "            last_submission_number = int(last_submission.split(\"/\")[-1].split(\"submission\")[-1])\n",
    "            next_submission_number = last_submission_number + 1\n",
    "            self.folder_name = f\"submission{str(next_submission_number).zfill(3)}\"\n",
    "            os.mkdir(f\"submissions/{self.folder_name}\")\n",
    "        # Write text file with model description\n",
    "        with open(f\"submissions/{self.folder_name}/info.txt\", \"w\") as f:\n",
    "            f.write(self.procedure.description)\n",
    "        # create a folder for each subject\n",
    "        for subject in self.subjects:\n",
    "            os.mkdir(f\"submissions/{self.folder_name}/{subject.subject}\")\n",
    "\n",
    "    def save_predictions(self, subject: Subject, lh_predictions: np.ndarray, rh_predictions: np.ndarray) -> None:\n",
    "        \"\"\"Save predictions for a subject.\"\"\"\n",
    "        lh_predictions = lh_predictions.astype(np.float32)\n",
    "        rh_predictions = rh_predictions.astype(np.float32)\n",
    "        save_path = f\"submissions/{self.folder_name}/{subject.subject}\"\n",
    "        # Save predictions\n",
    "        np.save(f\"{save_path}/lh_pred_test.npy\", lh_predictions)\n",
    "        np.save(f\"{save_path}/rh_pred_test.npy\", rh_predictions)\n",
    "\n",
    "    def run(self):\n",
    "        self.create_submission_folder()\n",
    "        for subject in self.subjects:\n",
    "            print(f\"############################\")\n",
    "            print(f\"# Subject: {subject.subject}\")\n",
    "            print(f\"############################\")\n",
    "            lh_predictions, rh_predictions = self.procedure.run(subject)\n",
    "            self.save_predictions(subject, lh_predictions, rh_predictions)\n",
    "            print(f\"\\n\")"
   ]
  },
  {
   "attachments": {},
   "cell_type": "markdown",
   "metadata": {},
   "source": [
    "These are the models we submitted to the algonauts 2023 competition."
   ]
  },
  {
   "cell_type": "code",
   "execution_count": 164,
   "metadata": {},
   "outputs": [],
   "source": [
    "class CLIPVisionFinalLayerPCA100LinearRegression(SubmissionProcedure):\n",
    "    def __init__(self):\n",
    "        self.description = \"CLIP Vision Model, Final Layer, PCA 100, Linear Regression, First test submission.\"\n",
    "\n",
    "    def run(self, subject: Subject) -> np.ndarray:\n",
    "        \"\"\"Run the model on a subject.\"\"\"\n",
    "        # Prepare data\n",
    "        subject.create_dataloaders(processor=processor, batch_size=300)\n",
    "        subject.load_neural_data()\n",
    "        train_img_dataloader = subject.train_img_dataloader\n",
    "        test_img_dataloader = subject.test_img_dataloader\n",
    "        lh_fmri = subject.lh_fmri\n",
    "        rh_fmri = subject.rh_fmri\n",
    "        del subject # free up memory\n",
    "\n",
    "        # Prepare feature extractor\n",
    "        train_feature_extractor = CLIPFeatureExtractor(idxs=[], last_hidden_layer=True, model=vis_model, dataloader=train_img_dataloader)\n",
    "        test_feature_extractor = CLIPFeatureExtractor(idxs=[], last_hidden_layer=True, model=vis_model, dataloader=test_img_dataloader)\n",
    "\n",
    "        # Extract features\n",
    "        train_feature_extractor.extract_raw_features_from_model()\n",
    "        raw_train_features = train_feature_extractor.feature_dict[\"Final Layer\"]\n",
    "        del train_feature_extractor\n",
    "\n",
    "        # Fit PCA\n",
    "        pca = PCA(n_components=100)\n",
    "        pca_transformed_train_features = pca.fit_transform(torch.tensor(raw_train_features).flatten(1).numpy())\n",
    "        del raw_train_features\n",
    "\n",
    "        # Fit linear regression\n",
    "        lh_lin_reg = LinearRegression().fit(pca_transformed_train_features, lh_fmri)\n",
    "        rh_lin_reg = LinearRegression().fit(pca_transformed_train_features, rh_fmri)\n",
    "        del pca_transformed_train_features\n",
    "\n",
    "        # Extract test features\n",
    "        test_feature_extractor.extract_raw_features_from_model()\n",
    "        raw_test_features = test_feature_extractor.feature_dict[\"Final Layer\"]\n",
    "        del test_feature_extractor\n",
    "\n",
    "        # Transform test features\n",
    "        pca_transformed_test_features = pca.transform(torch.tensor(raw_test_features).flatten(1).numpy())\n",
    "        del raw_test_features\n",
    "        \n",
    "        # Predict\n",
    "        lh_predictions = lh_lin_reg.predict(pca_transformed_test_features)\n",
    "        rh_predictions = rh_lin_reg.predict(pca_transformed_test_features)\n",
    "        return lh_predictions, rh_predictions\n",
    "\n",
    "\n",
    "class CLIPVisionLayer7PCA200LinearRegression(SubmissionProcedure):\n",
    "    def __init__(self):\n",
    "        self.description = \"CLIP Vision Model, Transformer Layer 7, PCA 200, Linear Regression, Determined by 8-fold cross validation against all other layers.\"\n",
    "\n",
    "    def run(self, subject: Subject) -> np.ndarray:\n",
    "        \"\"\"Run the model on a subject.\"\"\"\n",
    "        # Prepare data\n",
    "        subject.create_dataloaders(processor=processor, batch_size=300)\n",
    "        subject.load_neural_data()\n",
    "        train_img_dataloader = subject.train_img_dataloader\n",
    "        test_img_dataloader = subject.test_img_dataloader\n",
    "        lh_fmri = subject.lh_fmri\n",
    "        rh_fmri = subject.rh_fmri\n",
    "        del subject # free up memory\n",
    "\n",
    "        # Prepare feature extractor\n",
    "        train_feature_extractor = CLIPFeatureExtractor(idxs=[7], last_hidden_layer=False, model=vis_model, dataloader=train_img_dataloader)\n",
    "        test_feature_extractor = CLIPFeatureExtractor(idxs=[7], last_hidden_layer=False, model=vis_model, dataloader=test_img_dataloader)\n",
    "\n",
    "        # Extract features\n",
    "        train_feature_extractor.extract_raw_features_from_model()\n",
    "        raw_train_features = train_feature_extractor.feature_dict[\"Transformer Layer 7\"]\n",
    "        del train_feature_extractor\n",
    "\n",
    "        # Fit PCA\n",
    "        pca = PCA(n_components=200)\n",
    "        pca_transformed_train_features = pca.fit_transform(torch.tensor(raw_train_features).flatten(1).numpy())\n",
    "        del raw_train_features\n",
    "\n",
    "        # Fit linear regression\n",
    "        lh_lin_reg = LinearRegression().fit(pca_transformed_train_features, lh_fmri)\n",
    "        rh_lin_reg = LinearRegression().fit(pca_transformed_train_features, rh_fmri)\n",
    "        del pca_transformed_train_features\n",
    "\n",
    "        # Extract test features\n",
    "        test_feature_extractor.extract_raw_features_from_model()\n",
    "        raw_test_features = test_feature_extractor.feature_dict[\"Transformer Layer 7\"]\n",
    "        del test_feature_extractor\n",
    "\n",
    "        # Transform test features\n",
    "        pca_transformed_test_features = pca.transform(torch.tensor(raw_test_features).flatten(1).numpy())\n",
    "        del raw_test_features\n",
    "        \n",
    "        # Predict\n",
    "        lh_predictions = lh_lin_reg.predict(pca_transformed_test_features)\n",
    "        rh_predictions = rh_lin_reg.predict(pca_transformed_test_features)\n",
    "        return lh_predictions, rh_predictions"
   ]
  },
  {
   "attachments": {},
   "cell_type": "markdown",
   "metadata": {},
   "source": [
    "## Running Cross Validation"
   ]
  },
  {
   "attachments": {},
   "cell_type": "markdown",
   "metadata": {},
   "source": [
    "Depending on the selected kfold procedure, different requirements like creating a subject or feature extractor are needed.\n",
    "\n",
    "In this example we use the KFoldSingleCLIPSingleSubject procedure which requires a subject, feature extractor and pca."
   ]
  },
  {
   "cell_type": "code",
   "execution_count": 56,
   "metadata": {},
   "outputs": [
    {
     "name": "stdout",
     "output_type": "stream",
     "text": [
      "Training images: 9841\n",
      "Test images: 159\n",
      "Training captions: 9841\n",
      "Test captions: 159\n",
      "Train image dataloader: 33 batches\n",
      "Test image dataloader: 1 batches\n",
      "Train caption dataloader: 33 batches\n",
      "Test caption dataloader: 1 batches\n"
     ]
    }
   ],
   "source": [
    "subject = Subject(\"subj01\")\n",
    "subject.create_dataloaders(processor=processor, batch_size=300)\n",
    "feature_extractor = CLIPFeatureExtractor(idxs=[0,1,2,3,4,5,6,7,8,9,10,11,12], last_hidden_layer=True, model=vis_model, dataloader=subject.train_img_dataloader)\n",
    "pca = PCA(n_components=200)"
   ]
  },
  {
   "attachments": {},
   "cell_type": "markdown",
   "metadata": {},
   "source": [
    "After defining all required objects, we can create a the KFoldProcedure and KFold objects and run the cross validation."
   ]
  },
  {
   "cell_type": "code",
   "execution_count": 57,
   "metadata": {},
   "outputs": [],
   "source": [
    "kfold_procedure = KFoldSingleCLIPSingleSubject(feature_extractor=feature_extractor,  subject=subject, pca=pca)\n",
    "kfold = KFold(folds=8, procedure=kfold_procedure)"
   ]
  },
  {
   "cell_type": "code",
   "execution_count": 58,
   "metadata": {},
   "outputs": [
    {
     "name": "stderr",
     "output_type": "stream",
     "text": [
      "100%|██████████| 33/33 [03:21<00:00,  6.09s/it]\n"
     ]
    },
    {
     "name": "stdout",
     "output_type": "stream",
     "text": [
      "Left hemisphere neural data loaded. Shape: (9841, 19004)\n",
      "Right hemisphere neural data loaded. Shape: (9841, 20544)\n",
      "#############################################\n",
      "# Fold: 1/ 8\n",
      "# Train size: 8610\n",
      "# Validation size: 1231\n",
      "#############################################\n",
      "> Embedding Layer\n",
      "Fitting PCA model for Embedding Layer...\n",
      "Fitting linear regression models for Embedding Layer...\n",
      "Transforming validation features for Embedding Layer...\n",
      "Predicting validation set for Embedding Layer...\n",
      "Calculating correlations for Embedding Layer...\n",
      "\n"
     ]
    },
    {
     "name": "stderr",
     "output_type": "stream",
     "text": [
      "100%|██████████| 19004/19004 [00:17<00:00, 1071.38it/s]\n",
      "100%|██████████| 20544/20544 [00:18<00:00, 1129.12it/s]\n",
      "c:\\Users\\luke-\\Desktop\\Python Repositories\\algonauts-2023\\.conda\\lib\\site-packages\\numpy\\core\\fromnumeric.py:3432: RuntimeWarning: Mean of empty slice.\n",
      "  return _methods._mean(a, axis=axis, dtype=dtype,\n",
      "c:\\Users\\luke-\\Desktop\\Python Repositories\\algonauts-2023\\.conda\\lib\\site-packages\\numpy\\core\\_methods.py:190: RuntimeWarning: invalid value encountered in double_scalars\n",
      "  ret = ret.dtype.type(ret / rcount)\n"
     ]
    },
    {
     "name": "stdout",
     "output_type": "stream",
     "text": [
      "Calculating median correlation with ROIs for Embedding Layer...\n",
      "> Transformer Layer 1\n",
      "Fitting PCA model for Transformer Layer 1...\n",
      "Fitting linear regression models for Transformer Layer 1...\n",
      "Transforming validation features for Transformer Layer 1...\n",
      "Predicting validation set for Transformer Layer 1...\n",
      "Calculating correlations for Transformer Layer 1...\n",
      "\n"
     ]
    },
    {
     "name": "stderr",
     "output_type": "stream",
     "text": [
      "100%|██████████| 19004/19004 [00:16<00:00, 1128.40it/s]\n",
      "100%|██████████| 20544/20544 [00:18<00:00, 1125.83it/s]\n",
      "c:\\Users\\luke-\\Desktop\\Python Repositories\\algonauts-2023\\.conda\\lib\\site-packages\\numpy\\core\\fromnumeric.py:3432: RuntimeWarning: Mean of empty slice.\n",
      "  return _methods._mean(a, axis=axis, dtype=dtype,\n",
      "c:\\Users\\luke-\\Desktop\\Python Repositories\\algonauts-2023\\.conda\\lib\\site-packages\\numpy\\core\\_methods.py:190: RuntimeWarning: invalid value encountered in double_scalars\n",
      "  ret = ret.dtype.type(ret / rcount)\n"
     ]
    },
    {
     "name": "stdout",
     "output_type": "stream",
     "text": [
      "Calculating median correlation with ROIs for Transformer Layer 1...\n",
      "> Transformer Layer 2\n",
      "Fitting PCA model for Transformer Layer 2...\n",
      "Fitting linear regression models for Transformer Layer 2...\n",
      "Transforming validation features for Transformer Layer 2...\n",
      "Predicting validation set for Transformer Layer 2...\n",
      "Calculating correlations for Transformer Layer 2...\n",
      "\n"
     ]
    },
    {
     "name": "stderr",
     "output_type": "stream",
     "text": [
      "100%|██████████| 19004/19004 [00:16<00:00, 1155.03it/s]\n",
      "100%|██████████| 20544/20544 [00:18<00:00, 1120.10it/s]\n",
      "c:\\Users\\luke-\\Desktop\\Python Repositories\\algonauts-2023\\.conda\\lib\\site-packages\\numpy\\core\\fromnumeric.py:3432: RuntimeWarning: Mean of empty slice.\n",
      "  return _methods._mean(a, axis=axis, dtype=dtype,\n",
      "c:\\Users\\luke-\\Desktop\\Python Repositories\\algonauts-2023\\.conda\\lib\\site-packages\\numpy\\core\\_methods.py:190: RuntimeWarning: invalid value encountered in double_scalars\n",
      "  ret = ret.dtype.type(ret / rcount)\n"
     ]
    },
    {
     "name": "stdout",
     "output_type": "stream",
     "text": [
      "Calculating median correlation with ROIs for Transformer Layer 2...\n",
      "> Transformer Layer 3\n",
      "Fitting PCA model for Transformer Layer 3...\n",
      "Fitting linear regression models for Transformer Layer 3...\n",
      "Transforming validation features for Transformer Layer 3...\n",
      "Predicting validation set for Transformer Layer 3...\n",
      "Calculating correlations for Transformer Layer 3...\n",
      "\n"
     ]
    },
    {
     "name": "stderr",
     "output_type": "stream",
     "text": [
      "100%|██████████| 19004/19004 [00:16<00:00, 1127.58it/s]\n",
      "100%|██████████| 20544/20544 [00:18<00:00, 1099.19it/s]\n",
      "c:\\Users\\luke-\\Desktop\\Python Repositories\\algonauts-2023\\.conda\\lib\\site-packages\\numpy\\core\\fromnumeric.py:3432: RuntimeWarning: Mean of empty slice.\n",
      "  return _methods._mean(a, axis=axis, dtype=dtype,\n",
      "c:\\Users\\luke-\\Desktop\\Python Repositories\\algonauts-2023\\.conda\\lib\\site-packages\\numpy\\core\\_methods.py:190: RuntimeWarning: invalid value encountered in double_scalars\n",
      "  ret = ret.dtype.type(ret / rcount)\n"
     ]
    },
    {
     "name": "stdout",
     "output_type": "stream",
     "text": [
      "Calculating median correlation with ROIs for Transformer Layer 3...\n",
      "> Transformer Layer 4\n",
      "Fitting PCA model for Transformer Layer 4...\n",
      "Fitting linear regression models for Transformer Layer 4...\n",
      "Transforming validation features for Transformer Layer 4...\n",
      "Predicting validation set for Transformer Layer 4...\n",
      "Calculating correlations for Transformer Layer 4...\n",
      "\n"
     ]
    },
    {
     "name": "stderr",
     "output_type": "stream",
     "text": [
      "100%|██████████| 19004/19004 [00:16<00:00, 1133.17it/s]\n",
      "100%|██████████| 20544/20544 [00:18<00:00, 1120.30it/s]\n",
      "c:\\Users\\luke-\\Desktop\\Python Repositories\\algonauts-2023\\.conda\\lib\\site-packages\\numpy\\core\\fromnumeric.py:3432: RuntimeWarning: Mean of empty slice.\n",
      "  return _methods._mean(a, axis=axis, dtype=dtype,\n",
      "c:\\Users\\luke-\\Desktop\\Python Repositories\\algonauts-2023\\.conda\\lib\\site-packages\\numpy\\core\\_methods.py:190: RuntimeWarning: invalid value encountered in double_scalars\n",
      "  ret = ret.dtype.type(ret / rcount)\n"
     ]
    },
    {
     "name": "stdout",
     "output_type": "stream",
     "text": [
      "Calculating median correlation with ROIs for Transformer Layer 4...\n",
      "> Transformer Layer 5\n",
      "Fitting PCA model for Transformer Layer 5...\n",
      "Fitting linear regression models for Transformer Layer 5...\n",
      "Transforming validation features for Transformer Layer 5...\n",
      "Predicting validation set for Transformer Layer 5...\n",
      "Calculating correlations for Transformer Layer 5...\n",
      "\n"
     ]
    },
    {
     "name": "stderr",
     "output_type": "stream",
     "text": [
      "100%|██████████| 19004/19004 [00:16<00:00, 1137.16it/s]\n",
      "100%|██████████| 20544/20544 [00:18<00:00, 1124.88it/s]\n",
      "c:\\Users\\luke-\\Desktop\\Python Repositories\\algonauts-2023\\.conda\\lib\\site-packages\\numpy\\core\\fromnumeric.py:3432: RuntimeWarning: Mean of empty slice.\n",
      "  return _methods._mean(a, axis=axis, dtype=dtype,\n",
      "c:\\Users\\luke-\\Desktop\\Python Repositories\\algonauts-2023\\.conda\\lib\\site-packages\\numpy\\core\\_methods.py:190: RuntimeWarning: invalid value encountered in double_scalars\n",
      "  ret = ret.dtype.type(ret / rcount)\n"
     ]
    },
    {
     "name": "stdout",
     "output_type": "stream",
     "text": [
      "Calculating median correlation with ROIs for Transformer Layer 5...\n",
      "> Transformer Layer 6\n",
      "Fitting PCA model for Transformer Layer 6...\n",
      "Fitting linear regression models for Transformer Layer 6...\n",
      "Transforming validation features for Transformer Layer 6...\n",
      "Predicting validation set for Transformer Layer 6...\n",
      "Calculating correlations for Transformer Layer 6...\n",
      "\n"
     ]
    },
    {
     "name": "stderr",
     "output_type": "stream",
     "text": [
      "100%|██████████| 19004/19004 [00:16<00:00, 1143.63it/s]\n",
      "100%|██████████| 20544/20544 [00:18<00:00, 1131.37it/s]\n",
      "c:\\Users\\luke-\\Desktop\\Python Repositories\\algonauts-2023\\.conda\\lib\\site-packages\\numpy\\core\\fromnumeric.py:3432: RuntimeWarning: Mean of empty slice.\n",
      "  return _methods._mean(a, axis=axis, dtype=dtype,\n",
      "c:\\Users\\luke-\\Desktop\\Python Repositories\\algonauts-2023\\.conda\\lib\\site-packages\\numpy\\core\\_methods.py:190: RuntimeWarning: invalid value encountered in double_scalars\n",
      "  ret = ret.dtype.type(ret / rcount)\n"
     ]
    },
    {
     "name": "stdout",
     "output_type": "stream",
     "text": [
      "Calculating median correlation with ROIs for Transformer Layer 6...\n",
      "> Transformer Layer 7\n",
      "Fitting PCA model for Transformer Layer 7...\n",
      "Fitting linear regression models for Transformer Layer 7...\n",
      "Transforming validation features for Transformer Layer 7...\n",
      "Predicting validation set for Transformer Layer 7...\n",
      "Calculating correlations for Transformer Layer 7...\n",
      "\n"
     ]
    },
    {
     "name": "stderr",
     "output_type": "stream",
     "text": [
      "100%|██████████| 19004/19004 [00:16<00:00, 1140.44it/s]\n",
      "100%|██████████| 20544/20544 [00:18<00:00, 1111.17it/s]\n",
      "c:\\Users\\luke-\\Desktop\\Python Repositories\\algonauts-2023\\.conda\\lib\\site-packages\\numpy\\core\\fromnumeric.py:3432: RuntimeWarning: Mean of empty slice.\n",
      "  return _methods._mean(a, axis=axis, dtype=dtype,\n",
      "c:\\Users\\luke-\\Desktop\\Python Repositories\\algonauts-2023\\.conda\\lib\\site-packages\\numpy\\core\\_methods.py:190: RuntimeWarning: invalid value encountered in double_scalars\n",
      "  ret = ret.dtype.type(ret / rcount)\n"
     ]
    },
    {
     "name": "stdout",
     "output_type": "stream",
     "text": [
      "Calculating median correlation with ROIs for Transformer Layer 7...\n",
      "> Transformer Layer 8\n",
      "Fitting PCA model for Transformer Layer 8...\n",
      "Fitting linear regression models for Transformer Layer 8...\n",
      "Transforming validation features for Transformer Layer 8...\n",
      "Predicting validation set for Transformer Layer 8...\n",
      "Calculating correlations for Transformer Layer 8...\n",
      "\n"
     ]
    },
    {
     "name": "stderr",
     "output_type": "stream",
     "text": [
      "100%|██████████| 19004/19004 [00:16<00:00, 1129.55it/s]\n",
      "100%|██████████| 20544/20544 [00:18<00:00, 1108.20it/s]\n",
      "c:\\Users\\luke-\\Desktop\\Python Repositories\\algonauts-2023\\.conda\\lib\\site-packages\\numpy\\core\\fromnumeric.py:3432: RuntimeWarning: Mean of empty slice.\n",
      "  return _methods._mean(a, axis=axis, dtype=dtype,\n",
      "c:\\Users\\luke-\\Desktop\\Python Repositories\\algonauts-2023\\.conda\\lib\\site-packages\\numpy\\core\\_methods.py:190: RuntimeWarning: invalid value encountered in double_scalars\n",
      "  ret = ret.dtype.type(ret / rcount)\n"
     ]
    },
    {
     "name": "stdout",
     "output_type": "stream",
     "text": [
      "Calculating median correlation with ROIs for Transformer Layer 8...\n",
      "> Transformer Layer 9\n",
      "Fitting PCA model for Transformer Layer 9...\n",
      "Fitting linear regression models for Transformer Layer 9...\n",
      "Transforming validation features for Transformer Layer 9...\n",
      "Predicting validation set for Transformer Layer 9...\n",
      "Calculating correlations for Transformer Layer 9...\n",
      "\n"
     ]
    },
    {
     "name": "stderr",
     "output_type": "stream",
     "text": [
      "100%|██████████| 19004/19004 [00:16<00:00, 1138.92it/s]\n",
      "100%|██████████| 20544/20544 [00:17<00:00, 1162.53it/s]\n",
      "c:\\Users\\luke-\\Desktop\\Python Repositories\\algonauts-2023\\.conda\\lib\\site-packages\\numpy\\core\\fromnumeric.py:3432: RuntimeWarning: Mean of empty slice.\n",
      "  return _methods._mean(a, axis=axis, dtype=dtype,\n",
      "c:\\Users\\luke-\\Desktop\\Python Repositories\\algonauts-2023\\.conda\\lib\\site-packages\\numpy\\core\\_methods.py:190: RuntimeWarning: invalid value encountered in double_scalars\n",
      "  ret = ret.dtype.type(ret / rcount)\n"
     ]
    },
    {
     "name": "stdout",
     "output_type": "stream",
     "text": [
      "Calculating median correlation with ROIs for Transformer Layer 9...\n",
      "> Transformer Layer 10\n",
      "Fitting PCA model for Transformer Layer 10...\n",
      "Fitting linear regression models for Transformer Layer 10...\n",
      "Transforming validation features for Transformer Layer 10...\n",
      "Predicting validation set for Transformer Layer 10...\n",
      "Calculating correlations for Transformer Layer 10...\n",
      "\n"
     ]
    },
    {
     "name": "stderr",
     "output_type": "stream",
     "text": [
      "100%|██████████| 19004/19004 [00:16<00:00, 1132.31it/s]\n",
      "100%|██████████| 20544/20544 [00:18<00:00, 1137.40it/s]\n",
      "c:\\Users\\luke-\\Desktop\\Python Repositories\\algonauts-2023\\.conda\\lib\\site-packages\\numpy\\core\\fromnumeric.py:3432: RuntimeWarning: Mean of empty slice.\n",
      "  return _methods._mean(a, axis=axis, dtype=dtype,\n",
      "c:\\Users\\luke-\\Desktop\\Python Repositories\\algonauts-2023\\.conda\\lib\\site-packages\\numpy\\core\\_methods.py:190: RuntimeWarning: invalid value encountered in double_scalars\n",
      "  ret = ret.dtype.type(ret / rcount)\n"
     ]
    },
    {
     "name": "stdout",
     "output_type": "stream",
     "text": [
      "Calculating median correlation with ROIs for Transformer Layer 10...\n",
      "> Transformer Layer 11\n",
      "Fitting PCA model for Transformer Layer 11...\n",
      "Fitting linear regression models for Transformer Layer 11...\n",
      "Transforming validation features for Transformer Layer 11...\n",
      "Predicting validation set for Transformer Layer 11...\n",
      "Calculating correlations for Transformer Layer 11...\n",
      "\n"
     ]
    },
    {
     "name": "stderr",
     "output_type": "stream",
     "text": [
      "100%|██████████| 19004/19004 [00:17<00:00, 1109.09it/s]\n",
      "100%|██████████| 20544/20544 [00:18<00:00, 1104.71it/s]\n",
      "c:\\Users\\luke-\\Desktop\\Python Repositories\\algonauts-2023\\.conda\\lib\\site-packages\\numpy\\core\\fromnumeric.py:3432: RuntimeWarning: Mean of empty slice.\n",
      "  return _methods._mean(a, axis=axis, dtype=dtype,\n",
      "c:\\Users\\luke-\\Desktop\\Python Repositories\\algonauts-2023\\.conda\\lib\\site-packages\\numpy\\core\\_methods.py:190: RuntimeWarning: invalid value encountered in double_scalars\n",
      "  ret = ret.dtype.type(ret / rcount)\n"
     ]
    },
    {
     "name": "stdout",
     "output_type": "stream",
     "text": [
      "Calculating median correlation with ROIs for Transformer Layer 11...\n",
      "> Transformer Layer 12\n",
      "Fitting PCA model for Transformer Layer 12...\n",
      "Fitting linear regression models for Transformer Layer 12...\n",
      "Transforming validation features for Transformer Layer 12...\n",
      "Predicting validation set for Transformer Layer 12...\n",
      "Calculating correlations for Transformer Layer 12...\n",
      "\n"
     ]
    },
    {
     "name": "stderr",
     "output_type": "stream",
     "text": [
      "100%|██████████| 19004/19004 [00:16<00:00, 1127.63it/s]\n",
      "100%|██████████| 20544/20544 [00:17<00:00, 1155.59it/s]\n",
      "c:\\Users\\luke-\\Desktop\\Python Repositories\\algonauts-2023\\.conda\\lib\\site-packages\\numpy\\core\\fromnumeric.py:3432: RuntimeWarning: Mean of empty slice.\n",
      "  return _methods._mean(a, axis=axis, dtype=dtype,\n",
      "c:\\Users\\luke-\\Desktop\\Python Repositories\\algonauts-2023\\.conda\\lib\\site-packages\\numpy\\core\\_methods.py:190: RuntimeWarning: invalid value encountered in double_scalars\n",
      "  ret = ret.dtype.type(ret / rcount)\n"
     ]
    },
    {
     "name": "stdout",
     "output_type": "stream",
     "text": [
      "Calculating median correlation with ROIs for Transformer Layer 12...\n",
      "> Final Layer\n",
      "Fitting PCA model for Final Layer...\n",
      "Fitting linear regression models for Final Layer...\n",
      "Transforming validation features for Final Layer...\n",
      "Predicting validation set for Final Layer...\n",
      "Calculating correlations for Final Layer...\n",
      "\n"
     ]
    },
    {
     "name": "stderr",
     "output_type": "stream",
     "text": [
      "100%|██████████| 19004/19004 [00:17<00:00, 1072.44it/s]\n",
      "100%|██████████| 20544/20544 [00:18<00:00, 1095.44it/s]\n",
      "c:\\Users\\luke-\\Desktop\\Python Repositories\\algonauts-2023\\.conda\\lib\\site-packages\\numpy\\core\\fromnumeric.py:3432: RuntimeWarning: Mean of empty slice.\n",
      "  return _methods._mean(a, axis=axis, dtype=dtype,\n",
      "c:\\Users\\luke-\\Desktop\\Python Repositories\\algonauts-2023\\.conda\\lib\\site-packages\\numpy\\core\\_methods.py:190: RuntimeWarning: invalid value encountered in double_scalars\n",
      "  ret = ret.dtype.type(ret / rcount)\n"
     ]
    },
    {
     "name": "stdout",
     "output_type": "stream",
     "text": [
      "Calculating median correlation with ROIs for Final Layer...\n",
      "#############################################\n",
      "# Fold: 2/ 8\n",
      "# Train size: 8611\n",
      "# Validation size: 1230\n",
      "#############################################\n",
      "> Embedding Layer\n",
      "Fitting PCA model for Embedding Layer...\n",
      "Fitting linear regression models for Embedding Layer...\n",
      "Transforming validation features for Embedding Layer...\n",
      "Predicting validation set for Embedding Layer...\n",
      "Calculating correlations for Embedding Layer...\n",
      "\n"
     ]
    },
    {
     "name": "stderr",
     "output_type": "stream",
     "text": [
      "100%|██████████| 19004/19004 [00:17<00:00, 1110.19it/s]\n",
      "100%|██████████| 20544/20544 [00:18<00:00, 1123.00it/s]\n",
      "c:\\Users\\luke-\\Desktop\\Python Repositories\\algonauts-2023\\.conda\\lib\\site-packages\\numpy\\core\\fromnumeric.py:3432: RuntimeWarning: Mean of empty slice.\n",
      "  return _methods._mean(a, axis=axis, dtype=dtype,\n",
      "c:\\Users\\luke-\\Desktop\\Python Repositories\\algonauts-2023\\.conda\\lib\\site-packages\\numpy\\core\\_methods.py:190: RuntimeWarning: invalid value encountered in double_scalars\n",
      "  ret = ret.dtype.type(ret / rcount)\n"
     ]
    },
    {
     "name": "stdout",
     "output_type": "stream",
     "text": [
      "Calculating median correlation with ROIs for Embedding Layer...\n",
      "> Transformer Layer 1\n",
      "Fitting PCA model for Transformer Layer 1...\n",
      "Fitting linear regression models for Transformer Layer 1...\n",
      "Transforming validation features for Transformer Layer 1...\n",
      "Predicting validation set for Transformer Layer 1...\n",
      "Calculating correlations for Transformer Layer 1...\n",
      "\n"
     ]
    },
    {
     "name": "stderr",
     "output_type": "stream",
     "text": [
      "100%|██████████| 19004/19004 [00:16<00:00, 1125.17it/s]\n",
      "100%|██████████| 20544/20544 [00:18<00:00, 1117.70it/s]\n",
      "c:\\Users\\luke-\\Desktop\\Python Repositories\\algonauts-2023\\.conda\\lib\\site-packages\\numpy\\core\\fromnumeric.py:3432: RuntimeWarning: Mean of empty slice.\n",
      "  return _methods._mean(a, axis=axis, dtype=dtype,\n",
      "c:\\Users\\luke-\\Desktop\\Python Repositories\\algonauts-2023\\.conda\\lib\\site-packages\\numpy\\core\\_methods.py:190: RuntimeWarning: invalid value encountered in double_scalars\n",
      "  ret = ret.dtype.type(ret / rcount)\n"
     ]
    },
    {
     "name": "stdout",
     "output_type": "stream",
     "text": [
      "Calculating median correlation with ROIs for Transformer Layer 1...\n",
      "> Transformer Layer 2\n",
      "Fitting PCA model for Transformer Layer 2...\n",
      "Fitting linear regression models for Transformer Layer 2...\n",
      "Transforming validation features for Transformer Layer 2...\n",
      "Predicting validation set for Transformer Layer 2...\n",
      "Calculating correlations for Transformer Layer 2...\n",
      "\n"
     ]
    },
    {
     "name": "stderr",
     "output_type": "stream",
     "text": [
      "100%|██████████| 19004/19004 [00:17<00:00, 1112.26it/s]\n",
      "100%|██████████| 20544/20544 [00:18<00:00, 1138.44it/s]\n",
      "c:\\Users\\luke-\\Desktop\\Python Repositories\\algonauts-2023\\.conda\\lib\\site-packages\\numpy\\core\\fromnumeric.py:3432: RuntimeWarning: Mean of empty slice.\n",
      "  return _methods._mean(a, axis=axis, dtype=dtype,\n",
      "c:\\Users\\luke-\\Desktop\\Python Repositories\\algonauts-2023\\.conda\\lib\\site-packages\\numpy\\core\\_methods.py:190: RuntimeWarning: invalid value encountered in double_scalars\n",
      "  ret = ret.dtype.type(ret / rcount)\n"
     ]
    },
    {
     "name": "stdout",
     "output_type": "stream",
     "text": [
      "Calculating median correlation with ROIs for Transformer Layer 2...\n",
      "> Transformer Layer 3\n",
      "Fitting PCA model for Transformer Layer 3...\n",
      "Fitting linear regression models for Transformer Layer 3...\n",
      "Transforming validation features for Transformer Layer 3...\n",
      "Predicting validation set for Transformer Layer 3...\n",
      "Calculating correlations for Transformer Layer 3...\n",
      "\n"
     ]
    },
    {
     "name": "stderr",
     "output_type": "stream",
     "text": [
      "100%|██████████| 19004/19004 [00:16<00:00, 1123.89it/s]\n",
      "100%|██████████| 20544/20544 [00:18<00:00, 1133.10it/s]\n",
      "c:\\Users\\luke-\\Desktop\\Python Repositories\\algonauts-2023\\.conda\\lib\\site-packages\\numpy\\core\\fromnumeric.py:3432: RuntimeWarning: Mean of empty slice.\n",
      "  return _methods._mean(a, axis=axis, dtype=dtype,\n",
      "c:\\Users\\luke-\\Desktop\\Python Repositories\\algonauts-2023\\.conda\\lib\\site-packages\\numpy\\core\\_methods.py:190: RuntimeWarning: invalid value encountered in double_scalars\n",
      "  ret = ret.dtype.type(ret / rcount)\n"
     ]
    },
    {
     "name": "stdout",
     "output_type": "stream",
     "text": [
      "Calculating median correlation with ROIs for Transformer Layer 3...\n",
      "> Transformer Layer 4\n",
      "Fitting PCA model for Transformer Layer 4...\n",
      "Fitting linear regression models for Transformer Layer 4...\n",
      "Transforming validation features for Transformer Layer 4...\n",
      "Predicting validation set for Transformer Layer 4...\n",
      "Calculating correlations for Transformer Layer 4...\n",
      "\n"
     ]
    },
    {
     "name": "stderr",
     "output_type": "stream",
     "text": [
      "100%|██████████| 19004/19004 [00:16<00:00, 1119.06it/s]\n",
      "100%|██████████| 20544/20544 [00:18<00:00, 1139.03it/s]\n",
      "c:\\Users\\luke-\\Desktop\\Python Repositories\\algonauts-2023\\.conda\\lib\\site-packages\\numpy\\core\\fromnumeric.py:3432: RuntimeWarning: Mean of empty slice.\n",
      "  return _methods._mean(a, axis=axis, dtype=dtype,\n",
      "c:\\Users\\luke-\\Desktop\\Python Repositories\\algonauts-2023\\.conda\\lib\\site-packages\\numpy\\core\\_methods.py:190: RuntimeWarning: invalid value encountered in double_scalars\n",
      "  ret = ret.dtype.type(ret / rcount)\n"
     ]
    },
    {
     "name": "stdout",
     "output_type": "stream",
     "text": [
      "Calculating median correlation with ROIs for Transformer Layer 4...\n",
      "> Transformer Layer 5\n",
      "Fitting PCA model for Transformer Layer 5...\n",
      "Fitting linear regression models for Transformer Layer 5...\n",
      "Transforming validation features for Transformer Layer 5...\n",
      "Predicting validation set for Transformer Layer 5...\n",
      "Calculating correlations for Transformer Layer 5...\n",
      "\n"
     ]
    },
    {
     "name": "stderr",
     "output_type": "stream",
     "text": [
      "100%|██████████| 19004/19004 [00:16<00:00, 1158.50it/s]\n",
      "100%|██████████| 20544/20544 [00:18<00:00, 1133.02it/s]\n",
      "c:\\Users\\luke-\\Desktop\\Python Repositories\\algonauts-2023\\.conda\\lib\\site-packages\\numpy\\core\\fromnumeric.py:3432: RuntimeWarning: Mean of empty slice.\n",
      "  return _methods._mean(a, axis=axis, dtype=dtype,\n",
      "c:\\Users\\luke-\\Desktop\\Python Repositories\\algonauts-2023\\.conda\\lib\\site-packages\\numpy\\core\\_methods.py:190: RuntimeWarning: invalid value encountered in double_scalars\n",
      "  ret = ret.dtype.type(ret / rcount)\n"
     ]
    },
    {
     "name": "stdout",
     "output_type": "stream",
     "text": [
      "Calculating median correlation with ROIs for Transformer Layer 5...\n",
      "> Transformer Layer 6\n",
      "Fitting PCA model for Transformer Layer 6...\n",
      "Fitting linear regression models for Transformer Layer 6...\n",
      "Transforming validation features for Transformer Layer 6...\n",
      "Predicting validation set for Transformer Layer 6...\n",
      "Calculating correlations for Transformer Layer 6...\n",
      "\n"
     ]
    },
    {
     "name": "stderr",
     "output_type": "stream",
     "text": [
      "100%|██████████| 19004/19004 [00:16<00:00, 1168.53it/s]\n",
      "100%|██████████| 20544/20544 [00:17<00:00, 1176.88it/s]\n",
      "c:\\Users\\luke-\\Desktop\\Python Repositories\\algonauts-2023\\.conda\\lib\\site-packages\\numpy\\core\\fromnumeric.py:3432: RuntimeWarning: Mean of empty slice.\n",
      "  return _methods._mean(a, axis=axis, dtype=dtype,\n",
      "c:\\Users\\luke-\\Desktop\\Python Repositories\\algonauts-2023\\.conda\\lib\\site-packages\\numpy\\core\\_methods.py:190: RuntimeWarning: invalid value encountered in double_scalars\n",
      "  ret = ret.dtype.type(ret / rcount)\n"
     ]
    },
    {
     "name": "stdout",
     "output_type": "stream",
     "text": [
      "Calculating median correlation with ROIs for Transformer Layer 6...\n",
      "> Transformer Layer 7\n",
      "Fitting PCA model for Transformer Layer 7...\n",
      "Fitting linear regression models for Transformer Layer 7...\n",
      "Transforming validation features for Transformer Layer 7...\n",
      "Predicting validation set for Transformer Layer 7...\n",
      "Calculating correlations for Transformer Layer 7...\n",
      "\n"
     ]
    },
    {
     "name": "stderr",
     "output_type": "stream",
     "text": [
      "100%|██████████| 19004/19004 [00:16<00:00, 1164.51it/s]\n",
      "100%|██████████| 20544/20544 [00:18<00:00, 1140.61it/s]\n",
      "c:\\Users\\luke-\\Desktop\\Python Repositories\\algonauts-2023\\.conda\\lib\\site-packages\\numpy\\core\\fromnumeric.py:3432: RuntimeWarning: Mean of empty slice.\n",
      "  return _methods._mean(a, axis=axis, dtype=dtype,\n",
      "c:\\Users\\luke-\\Desktop\\Python Repositories\\algonauts-2023\\.conda\\lib\\site-packages\\numpy\\core\\_methods.py:190: RuntimeWarning: invalid value encountered in double_scalars\n",
      "  ret = ret.dtype.type(ret / rcount)\n"
     ]
    },
    {
     "name": "stdout",
     "output_type": "stream",
     "text": [
      "Calculating median correlation with ROIs for Transformer Layer 7...\n",
      "> Transformer Layer 8\n",
      "Fitting PCA model for Transformer Layer 8...\n",
      "Fitting linear regression models for Transformer Layer 8...\n",
      "Transforming validation features for Transformer Layer 8...\n",
      "Predicting validation set for Transformer Layer 8...\n",
      "Calculating correlations for Transformer Layer 8...\n",
      "\n"
     ]
    },
    {
     "name": "stderr",
     "output_type": "stream",
     "text": [
      "100%|██████████| 19004/19004 [00:16<00:00, 1154.53it/s]\n",
      "100%|██████████| 20544/20544 [00:17<00:00, 1144.81it/s]\n",
      "c:\\Users\\luke-\\Desktop\\Python Repositories\\algonauts-2023\\.conda\\lib\\site-packages\\numpy\\core\\fromnumeric.py:3432: RuntimeWarning: Mean of empty slice.\n",
      "  return _methods._mean(a, axis=axis, dtype=dtype,\n",
      "c:\\Users\\luke-\\Desktop\\Python Repositories\\algonauts-2023\\.conda\\lib\\site-packages\\numpy\\core\\_methods.py:190: RuntimeWarning: invalid value encountered in double_scalars\n",
      "  ret = ret.dtype.type(ret / rcount)\n"
     ]
    },
    {
     "name": "stdout",
     "output_type": "stream",
     "text": [
      "Calculating median correlation with ROIs for Transformer Layer 8...\n",
      "> Transformer Layer 9\n",
      "Fitting PCA model for Transformer Layer 9...\n",
      "Fitting linear regression models for Transformer Layer 9...\n",
      "Transforming validation features for Transformer Layer 9...\n",
      "Predicting validation set for Transformer Layer 9...\n",
      "Calculating correlations for Transformer Layer 9...\n",
      "\n"
     ]
    },
    {
     "name": "stderr",
     "output_type": "stream",
     "text": [
      "100%|██████████| 19004/19004 [00:16<00:00, 1163.46it/s]\n",
      "100%|██████████| 20544/20544 [00:18<00:00, 1130.44it/s]\n",
      "c:\\Users\\luke-\\Desktop\\Python Repositories\\algonauts-2023\\.conda\\lib\\site-packages\\numpy\\core\\fromnumeric.py:3432: RuntimeWarning: Mean of empty slice.\n",
      "  return _methods._mean(a, axis=axis, dtype=dtype,\n",
      "c:\\Users\\luke-\\Desktop\\Python Repositories\\algonauts-2023\\.conda\\lib\\site-packages\\numpy\\core\\_methods.py:190: RuntimeWarning: invalid value encountered in double_scalars\n",
      "  ret = ret.dtype.type(ret / rcount)\n"
     ]
    },
    {
     "name": "stdout",
     "output_type": "stream",
     "text": [
      "Calculating median correlation with ROIs for Transformer Layer 9...\n",
      "> Transformer Layer 10\n",
      "Fitting PCA model for Transformer Layer 10...\n",
      "Fitting linear regression models for Transformer Layer 10...\n",
      "Transforming validation features for Transformer Layer 10...\n",
      "Predicting validation set for Transformer Layer 10...\n",
      "Calculating correlations for Transformer Layer 10...\n",
      "\n"
     ]
    },
    {
     "name": "stderr",
     "output_type": "stream",
     "text": [
      "100%|██████████| 19004/19004 [00:16<00:00, 1139.26it/s]\n",
      "100%|██████████| 20544/20544 [00:17<00:00, 1143.26it/s]\n",
      "c:\\Users\\luke-\\Desktop\\Python Repositories\\algonauts-2023\\.conda\\lib\\site-packages\\numpy\\core\\fromnumeric.py:3432: RuntimeWarning: Mean of empty slice.\n",
      "  return _methods._mean(a, axis=axis, dtype=dtype,\n",
      "c:\\Users\\luke-\\Desktop\\Python Repositories\\algonauts-2023\\.conda\\lib\\site-packages\\numpy\\core\\_methods.py:190: RuntimeWarning: invalid value encountered in double_scalars\n",
      "  ret = ret.dtype.type(ret / rcount)\n"
     ]
    },
    {
     "name": "stdout",
     "output_type": "stream",
     "text": [
      "Calculating median correlation with ROIs for Transformer Layer 10...\n",
      "> Transformer Layer 11\n",
      "Fitting PCA model for Transformer Layer 11...\n",
      "Fitting linear regression models for Transformer Layer 11...\n",
      "Transforming validation features for Transformer Layer 11...\n",
      "Predicting validation set for Transformer Layer 11...\n",
      "Calculating correlations for Transformer Layer 11...\n",
      "\n"
     ]
    },
    {
     "name": "stderr",
     "output_type": "stream",
     "text": [
      "100%|██████████| 19004/19004 [00:16<00:00, 1149.76it/s]\n",
      "100%|██████████| 20544/20544 [00:17<00:00, 1161.18it/s]\n",
      "c:\\Users\\luke-\\Desktop\\Python Repositories\\algonauts-2023\\.conda\\lib\\site-packages\\numpy\\core\\fromnumeric.py:3432: RuntimeWarning: Mean of empty slice.\n",
      "  return _methods._mean(a, axis=axis, dtype=dtype,\n",
      "c:\\Users\\luke-\\Desktop\\Python Repositories\\algonauts-2023\\.conda\\lib\\site-packages\\numpy\\core\\_methods.py:190: RuntimeWarning: invalid value encountered in double_scalars\n",
      "  ret = ret.dtype.type(ret / rcount)\n"
     ]
    },
    {
     "name": "stdout",
     "output_type": "stream",
     "text": [
      "Calculating median correlation with ROIs for Transformer Layer 11...\n",
      "> Transformer Layer 12\n",
      "Fitting PCA model for Transformer Layer 12...\n",
      "Fitting linear regression models for Transformer Layer 12...\n",
      "Transforming validation features for Transformer Layer 12...\n",
      "Predicting validation set for Transformer Layer 12...\n",
      "Calculating correlations for Transformer Layer 12...\n",
      "\n"
     ]
    },
    {
     "name": "stderr",
     "output_type": "stream",
     "text": [
      "100%|██████████| 19004/19004 [00:15<00:00, 1200.20it/s]\n",
      "100%|██████████| 20544/20544 [00:18<00:00, 1138.19it/s]\n",
      "c:\\Users\\luke-\\Desktop\\Python Repositories\\algonauts-2023\\.conda\\lib\\site-packages\\numpy\\core\\fromnumeric.py:3432: RuntimeWarning: Mean of empty slice.\n",
      "  return _methods._mean(a, axis=axis, dtype=dtype,\n",
      "c:\\Users\\luke-\\Desktop\\Python Repositories\\algonauts-2023\\.conda\\lib\\site-packages\\numpy\\core\\_methods.py:190: RuntimeWarning: invalid value encountered in double_scalars\n",
      "  ret = ret.dtype.type(ret / rcount)\n"
     ]
    },
    {
     "name": "stdout",
     "output_type": "stream",
     "text": [
      "Calculating median correlation with ROIs for Transformer Layer 12...\n",
      "> Final Layer\n",
      "Fitting PCA model for Final Layer...\n",
      "Fitting linear regression models for Final Layer...\n",
      "Transforming validation features for Final Layer...\n",
      "Predicting validation set for Final Layer...\n",
      "Calculating correlations for Final Layer...\n",
      "\n"
     ]
    },
    {
     "name": "stderr",
     "output_type": "stream",
     "text": [
      "100%|██████████| 19004/19004 [00:16<00:00, 1134.13it/s]\n",
      "100%|██████████| 20544/20544 [00:18<00:00, 1130.89it/s]\n",
      "c:\\Users\\luke-\\Desktop\\Python Repositories\\algonauts-2023\\.conda\\lib\\site-packages\\numpy\\core\\fromnumeric.py:3432: RuntimeWarning: Mean of empty slice.\n",
      "  return _methods._mean(a, axis=axis, dtype=dtype,\n",
      "c:\\Users\\luke-\\Desktop\\Python Repositories\\algonauts-2023\\.conda\\lib\\site-packages\\numpy\\core\\_methods.py:190: RuntimeWarning: invalid value encountered in double_scalars\n",
      "  ret = ret.dtype.type(ret / rcount)\n"
     ]
    },
    {
     "name": "stdout",
     "output_type": "stream",
     "text": [
      "Calculating median correlation with ROIs for Final Layer...\n",
      "#############################################\n",
      "# Fold: 3/ 8\n",
      "# Train size: 8611\n",
      "# Validation size: 1230\n",
      "#############################################\n",
      "> Embedding Layer\n",
      "Fitting PCA model for Embedding Layer...\n",
      "Fitting linear regression models for Embedding Layer...\n",
      "Transforming validation features for Embedding Layer...\n",
      "Predicting validation set for Embedding Layer...\n",
      "Calculating correlations for Embedding Layer...\n",
      "\n"
     ]
    },
    {
     "name": "stderr",
     "output_type": "stream",
     "text": [
      "100%|██████████| 19004/19004 [00:16<00:00, 1140.74it/s]\n",
      "100%|██████████| 20544/20544 [00:18<00:00, 1117.04it/s]\n",
      "c:\\Users\\luke-\\Desktop\\Python Repositories\\algonauts-2023\\.conda\\lib\\site-packages\\numpy\\core\\fromnumeric.py:3432: RuntimeWarning: Mean of empty slice.\n",
      "  return _methods._mean(a, axis=axis, dtype=dtype,\n",
      "c:\\Users\\luke-\\Desktop\\Python Repositories\\algonauts-2023\\.conda\\lib\\site-packages\\numpy\\core\\_methods.py:190: RuntimeWarning: invalid value encountered in double_scalars\n",
      "  ret = ret.dtype.type(ret / rcount)\n"
     ]
    },
    {
     "name": "stdout",
     "output_type": "stream",
     "text": [
      "Calculating median correlation with ROIs for Embedding Layer...\n",
      "> Transformer Layer 1\n",
      "Fitting PCA model for Transformer Layer 1...\n",
      "Fitting linear regression models for Transformer Layer 1...\n",
      "Transforming validation features for Transformer Layer 1...\n",
      "Predicting validation set for Transformer Layer 1...\n",
      "Calculating correlations for Transformer Layer 1...\n",
      "\n"
     ]
    },
    {
     "name": "stderr",
     "output_type": "stream",
     "text": [
      "100%|██████████| 19004/19004 [00:16<00:00, 1130.73it/s]\n",
      "100%|██████████| 20544/20544 [00:18<00:00, 1110.53it/s]\n",
      "c:\\Users\\luke-\\Desktop\\Python Repositories\\algonauts-2023\\.conda\\lib\\site-packages\\numpy\\core\\fromnumeric.py:3432: RuntimeWarning: Mean of empty slice.\n",
      "  return _methods._mean(a, axis=axis, dtype=dtype,\n",
      "c:\\Users\\luke-\\Desktop\\Python Repositories\\algonauts-2023\\.conda\\lib\\site-packages\\numpy\\core\\_methods.py:190: RuntimeWarning: invalid value encountered in double_scalars\n",
      "  ret = ret.dtype.type(ret / rcount)\n"
     ]
    },
    {
     "name": "stdout",
     "output_type": "stream",
     "text": [
      "Calculating median correlation with ROIs for Transformer Layer 1...\n",
      "> Transformer Layer 2\n",
      "Fitting PCA model for Transformer Layer 2...\n",
      "Fitting linear regression models for Transformer Layer 2...\n",
      "Transforming validation features for Transformer Layer 2...\n",
      "Predicting validation set for Transformer Layer 2...\n",
      "Calculating correlations for Transformer Layer 2...\n",
      "\n"
     ]
    },
    {
     "name": "stderr",
     "output_type": "stream",
     "text": [
      "100%|██████████| 19004/19004 [00:16<00:00, 1127.21it/s]\n",
      "100%|██████████| 20544/20544 [00:18<00:00, 1122.02it/s]\n",
      "c:\\Users\\luke-\\Desktop\\Python Repositories\\algonauts-2023\\.conda\\lib\\site-packages\\numpy\\core\\fromnumeric.py:3432: RuntimeWarning: Mean of empty slice.\n",
      "  return _methods._mean(a, axis=axis, dtype=dtype,\n",
      "c:\\Users\\luke-\\Desktop\\Python Repositories\\algonauts-2023\\.conda\\lib\\site-packages\\numpy\\core\\_methods.py:190: RuntimeWarning: invalid value encountered in double_scalars\n",
      "  ret = ret.dtype.type(ret / rcount)\n"
     ]
    },
    {
     "name": "stdout",
     "output_type": "stream",
     "text": [
      "Calculating median correlation with ROIs for Transformer Layer 2...\n",
      "> Transformer Layer 3\n",
      "Fitting PCA model for Transformer Layer 3...\n",
      "Fitting linear regression models for Transformer Layer 3...\n",
      "Transforming validation features for Transformer Layer 3...\n",
      "Predicting validation set for Transformer Layer 3...\n",
      "Calculating correlations for Transformer Layer 3...\n",
      "\n"
     ]
    },
    {
     "name": "stderr",
     "output_type": "stream",
     "text": [
      "100%|██████████| 19004/19004 [00:16<00:00, 1135.93it/s]\n",
      "100%|██████████| 20544/20544 [00:17<00:00, 1155.93it/s]\n",
      "c:\\Users\\luke-\\Desktop\\Python Repositories\\algonauts-2023\\.conda\\lib\\site-packages\\numpy\\core\\fromnumeric.py:3432: RuntimeWarning: Mean of empty slice.\n",
      "  return _methods._mean(a, axis=axis, dtype=dtype,\n",
      "c:\\Users\\luke-\\Desktop\\Python Repositories\\algonauts-2023\\.conda\\lib\\site-packages\\numpy\\core\\_methods.py:190: RuntimeWarning: invalid value encountered in double_scalars\n",
      "  ret = ret.dtype.type(ret / rcount)\n"
     ]
    },
    {
     "name": "stdout",
     "output_type": "stream",
     "text": [
      "Calculating median correlation with ROIs for Transformer Layer 3...\n",
      "> Transformer Layer 4\n",
      "Fitting PCA model for Transformer Layer 4...\n",
      "Fitting linear regression models for Transformer Layer 4...\n",
      "Transforming validation features for Transformer Layer 4...\n",
      "Predicting validation set for Transformer Layer 4...\n",
      "Calculating correlations for Transformer Layer 4...\n",
      "\n"
     ]
    },
    {
     "name": "stderr",
     "output_type": "stream",
     "text": [
      "100%|██████████| 19004/19004 [00:16<00:00, 1141.03it/s]\n",
      "100%|██████████| 20544/20544 [00:18<00:00, 1137.36it/s]\n",
      "c:\\Users\\luke-\\Desktop\\Python Repositories\\algonauts-2023\\.conda\\lib\\site-packages\\numpy\\core\\fromnumeric.py:3432: RuntimeWarning: Mean of empty slice.\n",
      "  return _methods._mean(a, axis=axis, dtype=dtype,\n",
      "c:\\Users\\luke-\\Desktop\\Python Repositories\\algonauts-2023\\.conda\\lib\\site-packages\\numpy\\core\\_methods.py:190: RuntimeWarning: invalid value encountered in double_scalars\n",
      "  ret = ret.dtype.type(ret / rcount)\n"
     ]
    },
    {
     "name": "stdout",
     "output_type": "stream",
     "text": [
      "Calculating median correlation with ROIs for Transformer Layer 4...\n",
      "> Transformer Layer 5\n",
      "Fitting PCA model for Transformer Layer 5...\n",
      "Fitting linear regression models for Transformer Layer 5...\n",
      "Transforming validation features for Transformer Layer 5...\n",
      "Predicting validation set for Transformer Layer 5...\n",
      "Calculating correlations for Transformer Layer 5...\n",
      "\n"
     ]
    },
    {
     "name": "stderr",
     "output_type": "stream",
     "text": [
      "100%|██████████| 19004/19004 [00:16<00:00, 1154.71it/s]\n",
      "100%|██████████| 20544/20544 [00:18<00:00, 1140.92it/s]\n",
      "c:\\Users\\luke-\\Desktop\\Python Repositories\\algonauts-2023\\.conda\\lib\\site-packages\\numpy\\core\\fromnumeric.py:3432: RuntimeWarning: Mean of empty slice.\n",
      "  return _methods._mean(a, axis=axis, dtype=dtype,\n",
      "c:\\Users\\luke-\\Desktop\\Python Repositories\\algonauts-2023\\.conda\\lib\\site-packages\\numpy\\core\\_methods.py:190: RuntimeWarning: invalid value encountered in double_scalars\n",
      "  ret = ret.dtype.type(ret / rcount)\n"
     ]
    },
    {
     "name": "stdout",
     "output_type": "stream",
     "text": [
      "Calculating median correlation with ROIs for Transformer Layer 5...\n",
      "> Transformer Layer 6\n",
      "Fitting PCA model for Transformer Layer 6...\n",
      "Fitting linear regression models for Transformer Layer 6...\n",
      "Transforming validation features for Transformer Layer 6...\n",
      "Predicting validation set for Transformer Layer 6...\n",
      "Calculating correlations for Transformer Layer 6...\n",
      "\n"
     ]
    },
    {
     "name": "stderr",
     "output_type": "stream",
     "text": [
      "100%|██████████| 19004/19004 [00:16<00:00, 1162.14it/s]\n",
      "100%|██████████| 20544/20544 [00:18<00:00, 1124.04it/s]\n",
      "c:\\Users\\luke-\\Desktop\\Python Repositories\\algonauts-2023\\.conda\\lib\\site-packages\\numpy\\core\\fromnumeric.py:3432: RuntimeWarning: Mean of empty slice.\n",
      "  return _methods._mean(a, axis=axis, dtype=dtype,\n",
      "c:\\Users\\luke-\\Desktop\\Python Repositories\\algonauts-2023\\.conda\\lib\\site-packages\\numpy\\core\\_methods.py:190: RuntimeWarning: invalid value encountered in double_scalars\n",
      "  ret = ret.dtype.type(ret / rcount)\n"
     ]
    },
    {
     "name": "stdout",
     "output_type": "stream",
     "text": [
      "Calculating median correlation with ROIs for Transformer Layer 6...\n",
      "> Transformer Layer 7\n",
      "Fitting PCA model for Transformer Layer 7...\n",
      "Fitting linear regression models for Transformer Layer 7...\n",
      "Transforming validation features for Transformer Layer 7...\n",
      "Predicting validation set for Transformer Layer 7...\n",
      "Calculating correlations for Transformer Layer 7...\n",
      "\n"
     ]
    },
    {
     "name": "stderr",
     "output_type": "stream",
     "text": [
      "100%|██████████| 19004/19004 [00:16<00:00, 1141.04it/s]\n",
      "100%|██████████| 20544/20544 [00:17<00:00, 1165.79it/s]\n",
      "c:\\Users\\luke-\\Desktop\\Python Repositories\\algonauts-2023\\.conda\\lib\\site-packages\\numpy\\core\\fromnumeric.py:3432: RuntimeWarning: Mean of empty slice.\n",
      "  return _methods._mean(a, axis=axis, dtype=dtype,\n",
      "c:\\Users\\luke-\\Desktop\\Python Repositories\\algonauts-2023\\.conda\\lib\\site-packages\\numpy\\core\\_methods.py:190: RuntimeWarning: invalid value encountered in double_scalars\n",
      "  ret = ret.dtype.type(ret / rcount)\n"
     ]
    },
    {
     "name": "stdout",
     "output_type": "stream",
     "text": [
      "Calculating median correlation with ROIs for Transformer Layer 7...\n",
      "> Transformer Layer 8\n",
      "Fitting PCA model for Transformer Layer 8...\n",
      "Fitting linear regression models for Transformer Layer 8...\n",
      "Transforming validation features for Transformer Layer 8...\n",
      "Predicting validation set for Transformer Layer 8...\n",
      "Calculating correlations for Transformer Layer 8...\n",
      "\n"
     ]
    },
    {
     "name": "stderr",
     "output_type": "stream",
     "text": [
      "100%|██████████| 19004/19004 [00:16<00:00, 1136.40it/s]\n",
      "100%|██████████| 20544/20544 [00:18<00:00, 1138.56it/s]\n",
      "c:\\Users\\luke-\\Desktop\\Python Repositories\\algonauts-2023\\.conda\\lib\\site-packages\\numpy\\core\\fromnumeric.py:3432: RuntimeWarning: Mean of empty slice.\n",
      "  return _methods._mean(a, axis=axis, dtype=dtype,\n",
      "c:\\Users\\luke-\\Desktop\\Python Repositories\\algonauts-2023\\.conda\\lib\\site-packages\\numpy\\core\\_methods.py:190: RuntimeWarning: invalid value encountered in double_scalars\n",
      "  ret = ret.dtype.type(ret / rcount)\n"
     ]
    },
    {
     "name": "stdout",
     "output_type": "stream",
     "text": [
      "Calculating median correlation with ROIs for Transformer Layer 8...\n",
      "> Transformer Layer 9\n",
      "Fitting PCA model for Transformer Layer 9...\n",
      "Fitting linear regression models for Transformer Layer 9...\n",
      "Transforming validation features for Transformer Layer 9...\n",
      "Predicting validation set for Transformer Layer 9...\n",
      "Calculating correlations for Transformer Layer 9...\n",
      "\n"
     ]
    },
    {
     "name": "stderr",
     "output_type": "stream",
     "text": [
      "100%|██████████| 19004/19004 [00:16<00:00, 1140.57it/s]\n",
      "100%|██████████| 20544/20544 [00:18<00:00, 1140.14it/s]\n",
      "c:\\Users\\luke-\\Desktop\\Python Repositories\\algonauts-2023\\.conda\\lib\\site-packages\\numpy\\core\\fromnumeric.py:3432: RuntimeWarning: Mean of empty slice.\n",
      "  return _methods._mean(a, axis=axis, dtype=dtype,\n",
      "c:\\Users\\luke-\\Desktop\\Python Repositories\\algonauts-2023\\.conda\\lib\\site-packages\\numpy\\core\\_methods.py:190: RuntimeWarning: invalid value encountered in double_scalars\n",
      "  ret = ret.dtype.type(ret / rcount)\n"
     ]
    },
    {
     "name": "stdout",
     "output_type": "stream",
     "text": [
      "Calculating median correlation with ROIs for Transformer Layer 9...\n",
      "> Transformer Layer 10\n",
      "Fitting PCA model for Transformer Layer 10...\n",
      "Fitting linear regression models for Transformer Layer 10...\n",
      "Transforming validation features for Transformer Layer 10...\n",
      "Predicting validation set for Transformer Layer 10...\n",
      "Calculating correlations for Transformer Layer 10...\n",
      "\n"
     ]
    },
    {
     "name": "stderr",
     "output_type": "stream",
     "text": [
      "100%|██████████| 19004/19004 [00:16<00:00, 1132.38it/s]\n",
      "100%|██████████| 20544/20544 [00:18<00:00, 1129.66it/s]\n",
      "c:\\Users\\luke-\\Desktop\\Python Repositories\\algonauts-2023\\.conda\\lib\\site-packages\\numpy\\core\\fromnumeric.py:3432: RuntimeWarning: Mean of empty slice.\n",
      "  return _methods._mean(a, axis=axis, dtype=dtype,\n",
      "c:\\Users\\luke-\\Desktop\\Python Repositories\\algonauts-2023\\.conda\\lib\\site-packages\\numpy\\core\\_methods.py:190: RuntimeWarning: invalid value encountered in double_scalars\n",
      "  ret = ret.dtype.type(ret / rcount)\n"
     ]
    },
    {
     "name": "stdout",
     "output_type": "stream",
     "text": [
      "Calculating median correlation with ROIs for Transformer Layer 10...\n",
      "> Transformer Layer 11\n",
      "Fitting PCA model for Transformer Layer 11...\n",
      "Fitting linear regression models for Transformer Layer 11...\n",
      "Transforming validation features for Transformer Layer 11...\n",
      "Predicting validation set for Transformer Layer 11...\n",
      "Calculating correlations for Transformer Layer 11...\n",
      "\n"
     ]
    },
    {
     "name": "stderr",
     "output_type": "stream",
     "text": [
      "100%|██████████| 19004/19004 [00:16<00:00, 1129.33it/s]\n",
      "100%|██████████| 20544/20544 [00:18<00:00, 1135.21it/s]\n",
      "c:\\Users\\luke-\\Desktop\\Python Repositories\\algonauts-2023\\.conda\\lib\\site-packages\\numpy\\core\\fromnumeric.py:3432: RuntimeWarning: Mean of empty slice.\n",
      "  return _methods._mean(a, axis=axis, dtype=dtype,\n",
      "c:\\Users\\luke-\\Desktop\\Python Repositories\\algonauts-2023\\.conda\\lib\\site-packages\\numpy\\core\\_methods.py:190: RuntimeWarning: invalid value encountered in double_scalars\n",
      "  ret = ret.dtype.type(ret / rcount)\n"
     ]
    },
    {
     "name": "stdout",
     "output_type": "stream",
     "text": [
      "Calculating median correlation with ROIs for Transformer Layer 11...\n",
      "> Transformer Layer 12\n",
      "Fitting PCA model for Transformer Layer 12...\n",
      "Fitting linear regression models for Transformer Layer 12...\n",
      "Transforming validation features for Transformer Layer 12...\n",
      "Predicting validation set for Transformer Layer 12...\n",
      "Calculating correlations for Transformer Layer 12...\n",
      "\n"
     ]
    },
    {
     "name": "stderr",
     "output_type": "stream",
     "text": [
      "100%|██████████| 19004/19004 [00:16<00:00, 1129.65it/s]\n",
      "100%|██████████| 20544/20544 [00:18<00:00, 1099.26it/s]\n",
      "c:\\Users\\luke-\\Desktop\\Python Repositories\\algonauts-2023\\.conda\\lib\\site-packages\\numpy\\core\\fromnumeric.py:3432: RuntimeWarning: Mean of empty slice.\n",
      "  return _methods._mean(a, axis=axis, dtype=dtype,\n",
      "c:\\Users\\luke-\\Desktop\\Python Repositories\\algonauts-2023\\.conda\\lib\\site-packages\\numpy\\core\\_methods.py:190: RuntimeWarning: invalid value encountered in double_scalars\n",
      "  ret = ret.dtype.type(ret / rcount)\n"
     ]
    },
    {
     "name": "stdout",
     "output_type": "stream",
     "text": [
      "Calculating median correlation with ROIs for Transformer Layer 12...\n",
      "> Final Layer\n",
      "Fitting PCA model for Final Layer...\n",
      "Fitting linear regression models for Final Layer...\n",
      "Transforming validation features for Final Layer...\n",
      "Predicting validation set for Final Layer...\n",
      "Calculating correlations for Final Layer...\n",
      "\n"
     ]
    },
    {
     "name": "stderr",
     "output_type": "stream",
     "text": [
      "100%|██████████| 19004/19004 [00:16<00:00, 1152.10it/s]\n",
      "100%|██████████| 20544/20544 [00:17<00:00, 1143.72it/s]\n",
      "c:\\Users\\luke-\\Desktop\\Python Repositories\\algonauts-2023\\.conda\\lib\\site-packages\\numpy\\core\\fromnumeric.py:3432: RuntimeWarning: Mean of empty slice.\n",
      "  return _methods._mean(a, axis=axis, dtype=dtype,\n",
      "c:\\Users\\luke-\\Desktop\\Python Repositories\\algonauts-2023\\.conda\\lib\\site-packages\\numpy\\core\\_methods.py:190: RuntimeWarning: invalid value encountered in double_scalars\n",
      "  ret = ret.dtype.type(ret / rcount)\n"
     ]
    },
    {
     "name": "stdout",
     "output_type": "stream",
     "text": [
      "Calculating median correlation with ROIs for Final Layer...\n",
      "#############################################\n",
      "# Fold: 4/ 8\n",
      "# Train size: 8611\n",
      "# Validation size: 1230\n",
      "#############################################\n",
      "> Embedding Layer\n",
      "Fitting PCA model for Embedding Layer...\n",
      "Fitting linear regression models for Embedding Layer...\n",
      "Transforming validation features for Embedding Layer...\n",
      "Predicting validation set for Embedding Layer...\n",
      "Calculating correlations for Embedding Layer...\n",
      "\n"
     ]
    },
    {
     "name": "stderr",
     "output_type": "stream",
     "text": [
      "100%|██████████| 19004/19004 [00:16<00:00, 1134.03it/s]\n",
      "100%|██████████| 20544/20544 [00:18<00:00, 1131.73it/s]\n",
      "c:\\Users\\luke-\\Desktop\\Python Repositories\\algonauts-2023\\.conda\\lib\\site-packages\\numpy\\core\\fromnumeric.py:3432: RuntimeWarning: Mean of empty slice.\n",
      "  return _methods._mean(a, axis=axis, dtype=dtype,\n",
      "c:\\Users\\luke-\\Desktop\\Python Repositories\\algonauts-2023\\.conda\\lib\\site-packages\\numpy\\core\\_methods.py:190: RuntimeWarning: invalid value encountered in double_scalars\n",
      "  ret = ret.dtype.type(ret / rcount)\n"
     ]
    },
    {
     "name": "stdout",
     "output_type": "stream",
     "text": [
      "Calculating median correlation with ROIs for Embedding Layer...\n",
      "> Transformer Layer 1\n",
      "Fitting PCA model for Transformer Layer 1...\n",
      "Fitting linear regression models for Transformer Layer 1...\n",
      "Transforming validation features for Transformer Layer 1...\n",
      "Predicting validation set for Transformer Layer 1...\n",
      "Calculating correlations for Transformer Layer 1...\n",
      "\n"
     ]
    },
    {
     "name": "stderr",
     "output_type": "stream",
     "text": [
      "100%|██████████| 19004/19004 [00:16<00:00, 1141.37it/s]\n",
      "100%|██████████| 20544/20544 [00:18<00:00, 1129.44it/s]\n",
      "c:\\Users\\luke-\\Desktop\\Python Repositories\\algonauts-2023\\.conda\\lib\\site-packages\\numpy\\core\\fromnumeric.py:3432: RuntimeWarning: Mean of empty slice.\n",
      "  return _methods._mean(a, axis=axis, dtype=dtype,\n",
      "c:\\Users\\luke-\\Desktop\\Python Repositories\\algonauts-2023\\.conda\\lib\\site-packages\\numpy\\core\\_methods.py:190: RuntimeWarning: invalid value encountered in double_scalars\n",
      "  ret = ret.dtype.type(ret / rcount)\n"
     ]
    },
    {
     "name": "stdout",
     "output_type": "stream",
     "text": [
      "Calculating median correlation with ROIs for Transformer Layer 1...\n",
      "> Transformer Layer 2\n",
      "Fitting PCA model for Transformer Layer 2...\n",
      "Fitting linear regression models for Transformer Layer 2...\n",
      "Transforming validation features for Transformer Layer 2...\n",
      "Predicting validation set for Transformer Layer 2...\n",
      "Calculating correlations for Transformer Layer 2...\n",
      "\n"
     ]
    },
    {
     "name": "stderr",
     "output_type": "stream",
     "text": [
      "100%|██████████| 19004/19004 [00:16<00:00, 1149.70it/s]\n",
      "100%|██████████| 20544/20544 [00:17<00:00, 1176.11it/s]\n",
      "c:\\Users\\luke-\\Desktop\\Python Repositories\\algonauts-2023\\.conda\\lib\\site-packages\\numpy\\core\\fromnumeric.py:3432: RuntimeWarning: Mean of empty slice.\n",
      "  return _methods._mean(a, axis=axis, dtype=dtype,\n",
      "c:\\Users\\luke-\\Desktop\\Python Repositories\\algonauts-2023\\.conda\\lib\\site-packages\\numpy\\core\\_methods.py:190: RuntimeWarning: invalid value encountered in double_scalars\n",
      "  ret = ret.dtype.type(ret / rcount)\n"
     ]
    },
    {
     "name": "stdout",
     "output_type": "stream",
     "text": [
      "Calculating median correlation with ROIs for Transformer Layer 2...\n",
      "> Transformer Layer 3\n",
      "Fitting PCA model for Transformer Layer 3...\n",
      "Fitting linear regression models for Transformer Layer 3...\n",
      "Transforming validation features for Transformer Layer 3...\n",
      "Predicting validation set for Transformer Layer 3...\n",
      "Calculating correlations for Transformer Layer 3...\n",
      "\n"
     ]
    },
    {
     "name": "stderr",
     "output_type": "stream",
     "text": [
      "100%|██████████| 19004/19004 [00:16<00:00, 1128.03it/s]\n",
      "100%|██████████| 20544/20544 [00:18<00:00, 1133.24it/s]\n",
      "c:\\Users\\luke-\\Desktop\\Python Repositories\\algonauts-2023\\.conda\\lib\\site-packages\\numpy\\core\\fromnumeric.py:3432: RuntimeWarning: Mean of empty slice.\n",
      "  return _methods._mean(a, axis=axis, dtype=dtype,\n",
      "c:\\Users\\luke-\\Desktop\\Python Repositories\\algonauts-2023\\.conda\\lib\\site-packages\\numpy\\core\\_methods.py:190: RuntimeWarning: invalid value encountered in double_scalars\n",
      "  ret = ret.dtype.type(ret / rcount)\n"
     ]
    },
    {
     "name": "stdout",
     "output_type": "stream",
     "text": [
      "Calculating median correlation with ROIs for Transformer Layer 3...\n",
      "> Transformer Layer 4\n",
      "Fitting PCA model for Transformer Layer 4...\n",
      "Fitting linear regression models for Transformer Layer 4...\n",
      "Transforming validation features for Transformer Layer 4...\n",
      "Predicting validation set for Transformer Layer 4...\n",
      "Calculating correlations for Transformer Layer 4...\n",
      "\n"
     ]
    },
    {
     "name": "stderr",
     "output_type": "stream",
     "text": [
      "100%|██████████| 19004/19004 [00:17<00:00, 1087.01it/s]\n",
      "100%|██████████| 20544/20544 [00:18<00:00, 1122.84it/s]\n",
      "c:\\Users\\luke-\\Desktop\\Python Repositories\\algonauts-2023\\.conda\\lib\\site-packages\\numpy\\core\\fromnumeric.py:3432: RuntimeWarning: Mean of empty slice.\n",
      "  return _methods._mean(a, axis=axis, dtype=dtype,\n",
      "c:\\Users\\luke-\\Desktop\\Python Repositories\\algonauts-2023\\.conda\\lib\\site-packages\\numpy\\core\\_methods.py:190: RuntimeWarning: invalid value encountered in double_scalars\n",
      "  ret = ret.dtype.type(ret / rcount)\n"
     ]
    },
    {
     "name": "stdout",
     "output_type": "stream",
     "text": [
      "Calculating median correlation with ROIs for Transformer Layer 4...\n",
      "> Transformer Layer 5\n",
      "Fitting PCA model for Transformer Layer 5...\n",
      "Fitting linear regression models for Transformer Layer 5...\n",
      "Transforming validation features for Transformer Layer 5...\n",
      "Predicting validation set for Transformer Layer 5...\n",
      "Calculating correlations for Transformer Layer 5...\n",
      "\n"
     ]
    },
    {
     "name": "stderr",
     "output_type": "stream",
     "text": [
      "100%|██████████| 19004/19004 [00:16<00:00, 1127.95it/s]\n",
      "100%|██████████| 20544/20544 [00:18<00:00, 1133.79it/s]\n",
      "c:\\Users\\luke-\\Desktop\\Python Repositories\\algonauts-2023\\.conda\\lib\\site-packages\\numpy\\core\\fromnumeric.py:3432: RuntimeWarning: Mean of empty slice.\n",
      "  return _methods._mean(a, axis=axis, dtype=dtype,\n",
      "c:\\Users\\luke-\\Desktop\\Python Repositories\\algonauts-2023\\.conda\\lib\\site-packages\\numpy\\core\\_methods.py:190: RuntimeWarning: invalid value encountered in double_scalars\n",
      "  ret = ret.dtype.type(ret / rcount)\n"
     ]
    },
    {
     "name": "stdout",
     "output_type": "stream",
     "text": [
      "Calculating median correlation with ROIs for Transformer Layer 5...\n",
      "> Transformer Layer 6\n",
      "Fitting PCA model for Transformer Layer 6...\n",
      "Fitting linear regression models for Transformer Layer 6...\n",
      "Transforming validation features for Transformer Layer 6...\n",
      "Predicting validation set for Transformer Layer 6...\n",
      "Calculating correlations for Transformer Layer 6...\n",
      "\n"
     ]
    },
    {
     "name": "stderr",
     "output_type": "stream",
     "text": [
      "100%|██████████| 19004/19004 [00:16<00:00, 1128.09it/s]\n",
      "100%|██████████| 20544/20544 [00:18<00:00, 1123.97it/s]\n",
      "c:\\Users\\luke-\\Desktop\\Python Repositories\\algonauts-2023\\.conda\\lib\\site-packages\\numpy\\core\\fromnumeric.py:3432: RuntimeWarning: Mean of empty slice.\n",
      "  return _methods._mean(a, axis=axis, dtype=dtype,\n",
      "c:\\Users\\luke-\\Desktop\\Python Repositories\\algonauts-2023\\.conda\\lib\\site-packages\\numpy\\core\\_methods.py:190: RuntimeWarning: invalid value encountered in double_scalars\n",
      "  ret = ret.dtype.type(ret / rcount)\n"
     ]
    },
    {
     "name": "stdout",
     "output_type": "stream",
     "text": [
      "Calculating median correlation with ROIs for Transformer Layer 6...\n",
      "> Transformer Layer 7\n",
      "Fitting PCA model for Transformer Layer 7...\n",
      "Fitting linear regression models for Transformer Layer 7...\n",
      "Transforming validation features for Transformer Layer 7...\n",
      "Predicting validation set for Transformer Layer 7...\n",
      "Calculating correlations for Transformer Layer 7...\n",
      "\n"
     ]
    },
    {
     "name": "stderr",
     "output_type": "stream",
     "text": [
      "100%|██████████| 19004/19004 [00:16<00:00, 1127.60it/s]\n",
      "100%|██████████| 20544/20544 [00:18<00:00, 1126.70it/s]\n",
      "c:\\Users\\luke-\\Desktop\\Python Repositories\\algonauts-2023\\.conda\\lib\\site-packages\\numpy\\core\\fromnumeric.py:3432: RuntimeWarning: Mean of empty slice.\n",
      "  return _methods._mean(a, axis=axis, dtype=dtype,\n",
      "c:\\Users\\luke-\\Desktop\\Python Repositories\\algonauts-2023\\.conda\\lib\\site-packages\\numpy\\core\\_methods.py:190: RuntimeWarning: invalid value encountered in double_scalars\n",
      "  ret = ret.dtype.type(ret / rcount)\n"
     ]
    },
    {
     "name": "stdout",
     "output_type": "stream",
     "text": [
      "Calculating median correlation with ROIs for Transformer Layer 7...\n",
      "> Transformer Layer 8\n",
      "Fitting PCA model for Transformer Layer 8...\n",
      "Fitting linear regression models for Transformer Layer 8...\n",
      "Transforming validation features for Transformer Layer 8...\n",
      "Predicting validation set for Transformer Layer 8...\n",
      "Calculating correlations for Transformer Layer 8...\n",
      "\n"
     ]
    },
    {
     "name": "stderr",
     "output_type": "stream",
     "text": [
      "100%|██████████| 19004/19004 [00:17<00:00, 1076.11it/s]\n",
      "100%|██████████| 20544/20544 [00:18<00:00, 1085.98it/s]\n",
      "c:\\Users\\luke-\\Desktop\\Python Repositories\\algonauts-2023\\.conda\\lib\\site-packages\\numpy\\core\\fromnumeric.py:3432: RuntimeWarning: Mean of empty slice.\n",
      "  return _methods._mean(a, axis=axis, dtype=dtype,\n",
      "c:\\Users\\luke-\\Desktop\\Python Repositories\\algonauts-2023\\.conda\\lib\\site-packages\\numpy\\core\\_methods.py:190: RuntimeWarning: invalid value encountered in double_scalars\n",
      "  ret = ret.dtype.type(ret / rcount)\n"
     ]
    },
    {
     "name": "stdout",
     "output_type": "stream",
     "text": [
      "Calculating median correlation with ROIs for Transformer Layer 8...\n",
      "> Transformer Layer 9\n",
      "Fitting PCA model for Transformer Layer 9...\n",
      "Fitting linear regression models for Transformer Layer 9...\n",
      "Transforming validation features for Transformer Layer 9...\n",
      "Predicting validation set for Transformer Layer 9...\n",
      "Calculating correlations for Transformer Layer 9...\n",
      "\n"
     ]
    },
    {
     "name": "stderr",
     "output_type": "stream",
     "text": [
      "100%|██████████| 19004/19004 [00:16<00:00, 1135.27it/s]\n",
      "100%|██████████| 20544/20544 [00:18<00:00, 1129.26it/s]\n",
      "c:\\Users\\luke-\\Desktop\\Python Repositories\\algonauts-2023\\.conda\\lib\\site-packages\\numpy\\core\\fromnumeric.py:3432: RuntimeWarning: Mean of empty slice.\n",
      "  return _methods._mean(a, axis=axis, dtype=dtype,\n",
      "c:\\Users\\luke-\\Desktop\\Python Repositories\\algonauts-2023\\.conda\\lib\\site-packages\\numpy\\core\\_methods.py:190: RuntimeWarning: invalid value encountered in double_scalars\n",
      "  ret = ret.dtype.type(ret / rcount)\n"
     ]
    },
    {
     "name": "stdout",
     "output_type": "stream",
     "text": [
      "Calculating median correlation with ROIs for Transformer Layer 9...\n",
      "> Transformer Layer 10\n",
      "Fitting PCA model for Transformer Layer 10...\n",
      "Fitting linear regression models for Transformer Layer 10...\n",
      "Transforming validation features for Transformer Layer 10...\n",
      "Predicting validation set for Transformer Layer 10...\n",
      "Calculating correlations for Transformer Layer 10...\n",
      "\n"
     ]
    },
    {
     "name": "stderr",
     "output_type": "stream",
     "text": [
      "100%|██████████| 19004/19004 [00:16<00:00, 1134.48it/s]\n",
      "100%|██████████| 20544/20544 [00:18<00:00, 1122.20it/s]\n",
      "c:\\Users\\luke-\\Desktop\\Python Repositories\\algonauts-2023\\.conda\\lib\\site-packages\\numpy\\core\\fromnumeric.py:3432: RuntimeWarning: Mean of empty slice.\n",
      "  return _methods._mean(a, axis=axis, dtype=dtype,\n",
      "c:\\Users\\luke-\\Desktop\\Python Repositories\\algonauts-2023\\.conda\\lib\\site-packages\\numpy\\core\\_methods.py:190: RuntimeWarning: invalid value encountered in double_scalars\n",
      "  ret = ret.dtype.type(ret / rcount)\n"
     ]
    },
    {
     "name": "stdout",
     "output_type": "stream",
     "text": [
      "Calculating median correlation with ROIs for Transformer Layer 10...\n",
      "> Transformer Layer 11\n",
      "Fitting PCA model for Transformer Layer 11...\n",
      "Fitting linear regression models for Transformer Layer 11...\n",
      "Transforming validation features for Transformer Layer 11...\n",
      "Predicting validation set for Transformer Layer 11...\n",
      "Calculating correlations for Transformer Layer 11...\n",
      "\n"
     ]
    },
    {
     "name": "stderr",
     "output_type": "stream",
     "text": [
      "100%|██████████| 19004/19004 [00:16<00:00, 1131.71it/s]\n",
      "100%|██████████| 20544/20544 [00:18<00:00, 1133.67it/s]\n",
      "c:\\Users\\luke-\\Desktop\\Python Repositories\\algonauts-2023\\.conda\\lib\\site-packages\\numpy\\core\\fromnumeric.py:3432: RuntimeWarning: Mean of empty slice.\n",
      "  return _methods._mean(a, axis=axis, dtype=dtype,\n",
      "c:\\Users\\luke-\\Desktop\\Python Repositories\\algonauts-2023\\.conda\\lib\\site-packages\\numpy\\core\\_methods.py:190: RuntimeWarning: invalid value encountered in double_scalars\n",
      "  ret = ret.dtype.type(ret / rcount)\n"
     ]
    },
    {
     "name": "stdout",
     "output_type": "stream",
     "text": [
      "Calculating median correlation with ROIs for Transformer Layer 11...\n",
      "> Transformer Layer 12\n",
      "Fitting PCA model for Transformer Layer 12...\n",
      "Fitting linear regression models for Transformer Layer 12...\n",
      "Transforming validation features for Transformer Layer 12...\n",
      "Predicting validation set for Transformer Layer 12...\n",
      "Calculating correlations for Transformer Layer 12...\n",
      "\n"
     ]
    },
    {
     "name": "stderr",
     "output_type": "stream",
     "text": [
      "100%|██████████| 19004/19004 [00:16<00:00, 1127.26it/s]\n",
      "100%|██████████| 20544/20544 [00:18<00:00, 1115.57it/s]\n",
      "c:\\Users\\luke-\\Desktop\\Python Repositories\\algonauts-2023\\.conda\\lib\\site-packages\\numpy\\core\\fromnumeric.py:3432: RuntimeWarning: Mean of empty slice.\n",
      "  return _methods._mean(a, axis=axis, dtype=dtype,\n",
      "c:\\Users\\luke-\\Desktop\\Python Repositories\\algonauts-2023\\.conda\\lib\\site-packages\\numpy\\core\\_methods.py:190: RuntimeWarning: invalid value encountered in double_scalars\n",
      "  ret = ret.dtype.type(ret / rcount)\n"
     ]
    },
    {
     "name": "stdout",
     "output_type": "stream",
     "text": [
      "Calculating median correlation with ROIs for Transformer Layer 12...\n",
      "> Final Layer\n",
      "Fitting PCA model for Final Layer...\n",
      "Fitting linear regression models for Final Layer...\n",
      "Transforming validation features for Final Layer...\n",
      "Predicting validation set for Final Layer...\n",
      "Calculating correlations for Final Layer...\n",
      "\n"
     ]
    },
    {
     "name": "stderr",
     "output_type": "stream",
     "text": [
      "100%|██████████| 19004/19004 [00:16<00:00, 1129.80it/s]\n",
      "100%|██████████| 20544/20544 [00:18<00:00, 1114.49it/s]\n",
      "c:\\Users\\luke-\\Desktop\\Python Repositories\\algonauts-2023\\.conda\\lib\\site-packages\\numpy\\core\\fromnumeric.py:3432: RuntimeWarning: Mean of empty slice.\n",
      "  return _methods._mean(a, axis=axis, dtype=dtype,\n",
      "c:\\Users\\luke-\\Desktop\\Python Repositories\\algonauts-2023\\.conda\\lib\\site-packages\\numpy\\core\\_methods.py:190: RuntimeWarning: invalid value encountered in double_scalars\n",
      "  ret = ret.dtype.type(ret / rcount)\n"
     ]
    },
    {
     "name": "stdout",
     "output_type": "stream",
     "text": [
      "Calculating median correlation with ROIs for Final Layer...\n",
      "#############################################\n",
      "# Fold: 5/ 8\n",
      "# Train size: 8611\n",
      "# Validation size: 1230\n",
      "#############################################\n",
      "> Embedding Layer\n",
      "Fitting PCA model for Embedding Layer...\n",
      "Fitting linear regression models for Embedding Layer...\n",
      "Transforming validation features for Embedding Layer...\n",
      "Predicting validation set for Embedding Layer...\n",
      "Calculating correlations for Embedding Layer...\n",
      "\n"
     ]
    },
    {
     "name": "stderr",
     "output_type": "stream",
     "text": [
      "100%|██████████| 19004/19004 [00:16<00:00, 1173.71it/s]\n",
      "100%|██████████| 20544/20544 [00:17<00:00, 1155.54it/s]\n",
      "c:\\Users\\luke-\\Desktop\\Python Repositories\\algonauts-2023\\.conda\\lib\\site-packages\\numpy\\core\\fromnumeric.py:3432: RuntimeWarning: Mean of empty slice.\n",
      "  return _methods._mean(a, axis=axis, dtype=dtype,\n",
      "c:\\Users\\luke-\\Desktop\\Python Repositories\\algonauts-2023\\.conda\\lib\\site-packages\\numpy\\core\\_methods.py:190: RuntimeWarning: invalid value encountered in double_scalars\n",
      "  ret = ret.dtype.type(ret / rcount)\n"
     ]
    },
    {
     "name": "stdout",
     "output_type": "stream",
     "text": [
      "Calculating median correlation with ROIs for Embedding Layer...\n",
      "> Transformer Layer 1\n",
      "Fitting PCA model for Transformer Layer 1...\n",
      "Fitting linear regression models for Transformer Layer 1...\n",
      "Transforming validation features for Transformer Layer 1...\n",
      "Predicting validation set for Transformer Layer 1...\n",
      "Calculating correlations for Transformer Layer 1...\n",
      "\n"
     ]
    },
    {
     "name": "stderr",
     "output_type": "stream",
     "text": [
      "100%|██████████| 19004/19004 [00:16<00:00, 1158.68it/s]\n",
      "100%|██████████| 20544/20544 [00:17<00:00, 1165.16it/s]\n",
      "c:\\Users\\luke-\\Desktop\\Python Repositories\\algonauts-2023\\.conda\\lib\\site-packages\\numpy\\core\\fromnumeric.py:3432: RuntimeWarning: Mean of empty slice.\n",
      "  return _methods._mean(a, axis=axis, dtype=dtype,\n",
      "c:\\Users\\luke-\\Desktop\\Python Repositories\\algonauts-2023\\.conda\\lib\\site-packages\\numpy\\core\\_methods.py:190: RuntimeWarning: invalid value encountered in double_scalars\n",
      "  ret = ret.dtype.type(ret / rcount)\n"
     ]
    },
    {
     "name": "stdout",
     "output_type": "stream",
     "text": [
      "Calculating median correlation with ROIs for Transformer Layer 1...\n",
      "> Transformer Layer 2\n",
      "Fitting PCA model for Transformer Layer 2...\n",
      "Fitting linear regression models for Transformer Layer 2...\n",
      "Transforming validation features for Transformer Layer 2...\n",
      "Predicting validation set for Transformer Layer 2...\n",
      "Calculating correlations for Transformer Layer 2...\n",
      "\n"
     ]
    },
    {
     "name": "stderr",
     "output_type": "stream",
     "text": [
      "100%|██████████| 19004/19004 [00:16<00:00, 1122.14it/s]\n",
      "100%|██████████| 20544/20544 [00:18<00:00, 1120.16it/s]\n",
      "c:\\Users\\luke-\\Desktop\\Python Repositories\\algonauts-2023\\.conda\\lib\\site-packages\\numpy\\core\\fromnumeric.py:3432: RuntimeWarning: Mean of empty slice.\n",
      "  return _methods._mean(a, axis=axis, dtype=dtype,\n",
      "c:\\Users\\luke-\\Desktop\\Python Repositories\\algonauts-2023\\.conda\\lib\\site-packages\\numpy\\core\\_methods.py:190: RuntimeWarning: invalid value encountered in double_scalars\n",
      "  ret = ret.dtype.type(ret / rcount)\n"
     ]
    },
    {
     "name": "stdout",
     "output_type": "stream",
     "text": [
      "Calculating median correlation with ROIs for Transformer Layer 2...\n",
      "> Transformer Layer 3\n",
      "Fitting PCA model for Transformer Layer 3...\n",
      "Fitting linear regression models for Transformer Layer 3...\n",
      "Transforming validation features for Transformer Layer 3...\n",
      "Predicting validation set for Transformer Layer 3...\n",
      "Calculating correlations for Transformer Layer 3...\n",
      "\n"
     ]
    },
    {
     "name": "stderr",
     "output_type": "stream",
     "text": [
      "100%|██████████| 19004/19004 [00:16<00:00, 1121.62it/s]\n",
      "100%|██████████| 20544/20544 [00:18<00:00, 1135.05it/s]\n",
      "c:\\Users\\luke-\\Desktop\\Python Repositories\\algonauts-2023\\.conda\\lib\\site-packages\\numpy\\core\\fromnumeric.py:3432: RuntimeWarning: Mean of empty slice.\n",
      "  return _methods._mean(a, axis=axis, dtype=dtype,\n",
      "c:\\Users\\luke-\\Desktop\\Python Repositories\\algonauts-2023\\.conda\\lib\\site-packages\\numpy\\core\\_methods.py:190: RuntimeWarning: invalid value encountered in double_scalars\n",
      "  ret = ret.dtype.type(ret / rcount)\n"
     ]
    },
    {
     "name": "stdout",
     "output_type": "stream",
     "text": [
      "Calculating median correlation with ROIs for Transformer Layer 3...\n",
      "> Transformer Layer 4\n",
      "Fitting PCA model for Transformer Layer 4...\n",
      "Fitting linear regression models for Transformer Layer 4...\n",
      "Transforming validation features for Transformer Layer 4...\n",
      "Predicting validation set for Transformer Layer 4...\n",
      "Calculating correlations for Transformer Layer 4...\n",
      "\n"
     ]
    },
    {
     "name": "stderr",
     "output_type": "stream",
     "text": [
      "100%|██████████| 19004/19004 [00:17<00:00, 1100.34it/s]\n",
      "100%|██████████| 20544/20544 [00:18<00:00, 1130.28it/s]\n",
      "c:\\Users\\luke-\\Desktop\\Python Repositories\\algonauts-2023\\.conda\\lib\\site-packages\\numpy\\core\\fromnumeric.py:3432: RuntimeWarning: Mean of empty slice.\n",
      "  return _methods._mean(a, axis=axis, dtype=dtype,\n",
      "c:\\Users\\luke-\\Desktop\\Python Repositories\\algonauts-2023\\.conda\\lib\\site-packages\\numpy\\core\\_methods.py:190: RuntimeWarning: invalid value encountered in double_scalars\n",
      "  ret = ret.dtype.type(ret / rcount)\n"
     ]
    },
    {
     "name": "stdout",
     "output_type": "stream",
     "text": [
      "Calculating median correlation with ROIs for Transformer Layer 4...\n",
      "> Transformer Layer 5\n",
      "Fitting PCA model for Transformer Layer 5...\n",
      "Fitting linear regression models for Transformer Layer 5...\n",
      "Transforming validation features for Transformer Layer 5...\n",
      "Predicting validation set for Transformer Layer 5...\n",
      "Calculating correlations for Transformer Layer 5...\n",
      "\n"
     ]
    },
    {
     "name": "stderr",
     "output_type": "stream",
     "text": [
      "100%|██████████| 19004/19004 [00:16<00:00, 1129.69it/s]\n",
      "100%|██████████| 20544/20544 [00:18<00:00, 1137.27it/s]\n",
      "c:\\Users\\luke-\\Desktop\\Python Repositories\\algonauts-2023\\.conda\\lib\\site-packages\\numpy\\core\\fromnumeric.py:3432: RuntimeWarning: Mean of empty slice.\n",
      "  return _methods._mean(a, axis=axis, dtype=dtype,\n",
      "c:\\Users\\luke-\\Desktop\\Python Repositories\\algonauts-2023\\.conda\\lib\\site-packages\\numpy\\core\\_methods.py:190: RuntimeWarning: invalid value encountered in double_scalars\n",
      "  ret = ret.dtype.type(ret / rcount)\n"
     ]
    },
    {
     "name": "stdout",
     "output_type": "stream",
     "text": [
      "Calculating median correlation with ROIs for Transformer Layer 5...\n",
      "> Transformer Layer 6\n",
      "Fitting PCA model for Transformer Layer 6...\n",
      "Fitting linear regression models for Transformer Layer 6...\n",
      "Transforming validation features for Transformer Layer 6...\n",
      "Predicting validation set for Transformer Layer 6...\n",
      "Calculating correlations for Transformer Layer 6...\n",
      "\n"
     ]
    },
    {
     "name": "stderr",
     "output_type": "stream",
     "text": [
      "100%|██████████| 19004/19004 [00:16<00:00, 1134.78it/s]\n",
      "100%|██████████| 20544/20544 [00:18<00:00, 1135.98it/s]\n",
      "c:\\Users\\luke-\\Desktop\\Python Repositories\\algonauts-2023\\.conda\\lib\\site-packages\\numpy\\core\\fromnumeric.py:3432: RuntimeWarning: Mean of empty slice.\n",
      "  return _methods._mean(a, axis=axis, dtype=dtype,\n",
      "c:\\Users\\luke-\\Desktop\\Python Repositories\\algonauts-2023\\.conda\\lib\\site-packages\\numpy\\core\\_methods.py:190: RuntimeWarning: invalid value encountered in double_scalars\n",
      "  ret = ret.dtype.type(ret / rcount)\n"
     ]
    },
    {
     "name": "stdout",
     "output_type": "stream",
     "text": [
      "Calculating median correlation with ROIs for Transformer Layer 6...\n",
      "> Transformer Layer 7\n",
      "Fitting PCA model for Transformer Layer 7...\n",
      "Fitting linear regression models for Transformer Layer 7...\n",
      "Transforming validation features for Transformer Layer 7...\n",
      "Predicting validation set for Transformer Layer 7...\n",
      "Calculating correlations for Transformer Layer 7...\n",
      "\n"
     ]
    },
    {
     "name": "stderr",
     "output_type": "stream",
     "text": [
      "100%|██████████| 19004/19004 [00:16<00:00, 1122.92it/s]\n",
      "100%|██████████| 20544/20544 [00:18<00:00, 1135.17it/s]\n",
      "c:\\Users\\luke-\\Desktop\\Python Repositories\\algonauts-2023\\.conda\\lib\\site-packages\\numpy\\core\\fromnumeric.py:3432: RuntimeWarning: Mean of empty slice.\n",
      "  return _methods._mean(a, axis=axis, dtype=dtype,\n",
      "c:\\Users\\luke-\\Desktop\\Python Repositories\\algonauts-2023\\.conda\\lib\\site-packages\\numpy\\core\\_methods.py:190: RuntimeWarning: invalid value encountered in double_scalars\n",
      "  ret = ret.dtype.type(ret / rcount)\n"
     ]
    },
    {
     "name": "stdout",
     "output_type": "stream",
     "text": [
      "Calculating median correlation with ROIs for Transformer Layer 7...\n",
      "> Transformer Layer 8\n",
      "Fitting PCA model for Transformer Layer 8...\n",
      "Fitting linear regression models for Transformer Layer 8...\n",
      "Transforming validation features for Transformer Layer 8...\n",
      "Predicting validation set for Transformer Layer 8...\n",
      "Calculating correlations for Transformer Layer 8...\n",
      "\n"
     ]
    },
    {
     "name": "stderr",
     "output_type": "stream",
     "text": [
      "100%|██████████| 19004/19004 [00:16<00:00, 1147.16it/s]\n",
      "100%|██████████| 20544/20544 [00:18<00:00, 1123.59it/s]\n",
      "c:\\Users\\luke-\\Desktop\\Python Repositories\\algonauts-2023\\.conda\\lib\\site-packages\\numpy\\core\\fromnumeric.py:3432: RuntimeWarning: Mean of empty slice.\n",
      "  return _methods._mean(a, axis=axis, dtype=dtype,\n",
      "c:\\Users\\luke-\\Desktop\\Python Repositories\\algonauts-2023\\.conda\\lib\\site-packages\\numpy\\core\\_methods.py:190: RuntimeWarning: invalid value encountered in double_scalars\n",
      "  ret = ret.dtype.type(ret / rcount)\n"
     ]
    },
    {
     "name": "stdout",
     "output_type": "stream",
     "text": [
      "Calculating median correlation with ROIs for Transformer Layer 8...\n",
      "> Transformer Layer 9\n",
      "Fitting PCA model for Transformer Layer 9...\n",
      "Fitting linear regression models for Transformer Layer 9...\n",
      "Transforming validation features for Transformer Layer 9...\n",
      "Predicting validation set for Transformer Layer 9...\n",
      "Calculating correlations for Transformer Layer 9...\n",
      "\n"
     ]
    },
    {
     "name": "stderr",
     "output_type": "stream",
     "text": [
      "100%|██████████| 19004/19004 [00:16<00:00, 1132.96it/s]\n",
      "100%|██████████| 20544/20544 [00:18<00:00, 1127.72it/s]\n",
      "c:\\Users\\luke-\\Desktop\\Python Repositories\\algonauts-2023\\.conda\\lib\\site-packages\\numpy\\core\\fromnumeric.py:3432: RuntimeWarning: Mean of empty slice.\n",
      "  return _methods._mean(a, axis=axis, dtype=dtype,\n",
      "c:\\Users\\luke-\\Desktop\\Python Repositories\\algonauts-2023\\.conda\\lib\\site-packages\\numpy\\core\\_methods.py:190: RuntimeWarning: invalid value encountered in double_scalars\n",
      "  ret = ret.dtype.type(ret / rcount)\n"
     ]
    },
    {
     "name": "stdout",
     "output_type": "stream",
     "text": [
      "Calculating median correlation with ROIs for Transformer Layer 9...\n",
      "> Transformer Layer 10\n",
      "Fitting PCA model for Transformer Layer 10...\n",
      "Fitting linear regression models for Transformer Layer 10...\n",
      "Transforming validation features for Transformer Layer 10...\n",
      "Predicting validation set for Transformer Layer 10...\n",
      "Calculating correlations for Transformer Layer 10...\n",
      "\n"
     ]
    },
    {
     "name": "stderr",
     "output_type": "stream",
     "text": [
      "100%|██████████| 19004/19004 [00:17<00:00, 1115.79it/s]\n",
      "100%|██████████| 20544/20544 [00:18<00:00, 1125.12it/s]\n",
      "c:\\Users\\luke-\\Desktop\\Python Repositories\\algonauts-2023\\.conda\\lib\\site-packages\\numpy\\core\\fromnumeric.py:3432: RuntimeWarning: Mean of empty slice.\n",
      "  return _methods._mean(a, axis=axis, dtype=dtype,\n",
      "c:\\Users\\luke-\\Desktop\\Python Repositories\\algonauts-2023\\.conda\\lib\\site-packages\\numpy\\core\\_methods.py:190: RuntimeWarning: invalid value encountered in double_scalars\n",
      "  ret = ret.dtype.type(ret / rcount)\n"
     ]
    },
    {
     "name": "stdout",
     "output_type": "stream",
     "text": [
      "Calculating median correlation with ROIs for Transformer Layer 10...\n",
      "> Transformer Layer 11\n",
      "Fitting PCA model for Transformer Layer 11...\n",
      "Fitting linear regression models for Transformer Layer 11...\n",
      "Transforming validation features for Transformer Layer 11...\n",
      "Predicting validation set for Transformer Layer 11...\n",
      "Calculating correlations for Transformer Layer 11...\n",
      "\n"
     ]
    },
    {
     "name": "stderr",
     "output_type": "stream",
     "text": [
      "100%|██████████| 19004/19004 [00:16<00:00, 1136.57it/s]\n",
      "100%|██████████| 20544/20544 [00:18<00:00, 1129.93it/s]\n",
      "c:\\Users\\luke-\\Desktop\\Python Repositories\\algonauts-2023\\.conda\\lib\\site-packages\\numpy\\core\\fromnumeric.py:3432: RuntimeWarning: Mean of empty slice.\n",
      "  return _methods._mean(a, axis=axis, dtype=dtype,\n",
      "c:\\Users\\luke-\\Desktop\\Python Repositories\\algonauts-2023\\.conda\\lib\\site-packages\\numpy\\core\\_methods.py:190: RuntimeWarning: invalid value encountered in double_scalars\n",
      "  ret = ret.dtype.type(ret / rcount)\n"
     ]
    },
    {
     "name": "stdout",
     "output_type": "stream",
     "text": [
      "Calculating median correlation with ROIs for Transformer Layer 11...\n",
      "> Transformer Layer 12\n",
      "Fitting PCA model for Transformer Layer 12...\n",
      "Fitting linear regression models for Transformer Layer 12...\n",
      "Transforming validation features for Transformer Layer 12...\n",
      "Predicting validation set for Transformer Layer 12...\n",
      "Calculating correlations for Transformer Layer 12...\n",
      "\n"
     ]
    },
    {
     "name": "stderr",
     "output_type": "stream",
     "text": [
      "100%|██████████| 19004/19004 [00:16<00:00, 1136.15it/s]\n",
      "100%|██████████| 20544/20544 [00:18<00:00, 1125.53it/s]\n",
      "c:\\Users\\luke-\\Desktop\\Python Repositories\\algonauts-2023\\.conda\\lib\\site-packages\\numpy\\core\\fromnumeric.py:3432: RuntimeWarning: Mean of empty slice.\n",
      "  return _methods._mean(a, axis=axis, dtype=dtype,\n",
      "c:\\Users\\luke-\\Desktop\\Python Repositories\\algonauts-2023\\.conda\\lib\\site-packages\\numpy\\core\\_methods.py:190: RuntimeWarning: invalid value encountered in double_scalars\n",
      "  ret = ret.dtype.type(ret / rcount)\n"
     ]
    },
    {
     "name": "stdout",
     "output_type": "stream",
     "text": [
      "Calculating median correlation with ROIs for Transformer Layer 12...\n",
      "> Final Layer\n",
      "Fitting PCA model for Final Layer...\n",
      "Fitting linear regression models for Final Layer...\n",
      "Transforming validation features for Final Layer...\n",
      "Predicting validation set for Final Layer...\n",
      "Calculating correlations for Final Layer...\n",
      "\n"
     ]
    },
    {
     "name": "stderr",
     "output_type": "stream",
     "text": [
      "100%|██████████| 19004/19004 [00:16<00:00, 1122.08it/s]\n",
      "100%|██████████| 20544/20544 [00:18<00:00, 1137.36it/s]\n",
      "c:\\Users\\luke-\\Desktop\\Python Repositories\\algonauts-2023\\.conda\\lib\\site-packages\\numpy\\core\\fromnumeric.py:3432: RuntimeWarning: Mean of empty slice.\n",
      "  return _methods._mean(a, axis=axis, dtype=dtype,\n",
      "c:\\Users\\luke-\\Desktop\\Python Repositories\\algonauts-2023\\.conda\\lib\\site-packages\\numpy\\core\\_methods.py:190: RuntimeWarning: invalid value encountered in double_scalars\n",
      "  ret = ret.dtype.type(ret / rcount)\n"
     ]
    },
    {
     "name": "stdout",
     "output_type": "stream",
     "text": [
      "Calculating median correlation with ROIs for Final Layer...\n",
      "#############################################\n",
      "# Fold: 6/ 8\n",
      "# Train size: 8611\n",
      "# Validation size: 1230\n",
      "#############################################\n",
      "> Embedding Layer\n",
      "Fitting PCA model for Embedding Layer...\n",
      "Fitting linear regression models for Embedding Layer...\n",
      "Transforming validation features for Embedding Layer...\n",
      "Predicting validation set for Embedding Layer...\n",
      "Calculating correlations for Embedding Layer...\n",
      "\n"
     ]
    },
    {
     "name": "stderr",
     "output_type": "stream",
     "text": [
      "100%|██████████| 19004/19004 [00:16<00:00, 1147.58it/s]\n",
      "100%|██████████| 20544/20544 [00:17<00:00, 1150.56it/s]\n",
      "c:\\Users\\luke-\\Desktop\\Python Repositories\\algonauts-2023\\.conda\\lib\\site-packages\\numpy\\core\\fromnumeric.py:3432: RuntimeWarning: Mean of empty slice.\n",
      "  return _methods._mean(a, axis=axis, dtype=dtype,\n",
      "c:\\Users\\luke-\\Desktop\\Python Repositories\\algonauts-2023\\.conda\\lib\\site-packages\\numpy\\core\\_methods.py:190: RuntimeWarning: invalid value encountered in double_scalars\n",
      "  ret = ret.dtype.type(ret / rcount)\n"
     ]
    },
    {
     "name": "stdout",
     "output_type": "stream",
     "text": [
      "Calculating median correlation with ROIs for Embedding Layer...\n",
      "> Transformer Layer 1\n",
      "Fitting PCA model for Transformer Layer 1...\n",
      "Fitting linear regression models for Transformer Layer 1...\n",
      "Transforming validation features for Transformer Layer 1...\n",
      "Predicting validation set for Transformer Layer 1...\n",
      "Calculating correlations for Transformer Layer 1...\n",
      "\n"
     ]
    },
    {
     "name": "stderr",
     "output_type": "stream",
     "text": [
      "100%|██████████| 19004/19004 [00:16<00:00, 1171.14it/s]\n",
      "100%|██████████| 20544/20544 [00:17<00:00, 1164.49it/s]\n",
      "c:\\Users\\luke-\\Desktop\\Python Repositories\\algonauts-2023\\.conda\\lib\\site-packages\\numpy\\core\\fromnumeric.py:3432: RuntimeWarning: Mean of empty slice.\n",
      "  return _methods._mean(a, axis=axis, dtype=dtype,\n",
      "c:\\Users\\luke-\\Desktop\\Python Repositories\\algonauts-2023\\.conda\\lib\\site-packages\\numpy\\core\\_methods.py:190: RuntimeWarning: invalid value encountered in double_scalars\n",
      "  ret = ret.dtype.type(ret / rcount)\n"
     ]
    },
    {
     "name": "stdout",
     "output_type": "stream",
     "text": [
      "Calculating median correlation with ROIs for Transformer Layer 1...\n",
      "> Transformer Layer 2\n",
      "Fitting PCA model for Transformer Layer 2...\n",
      "Fitting linear regression models for Transformer Layer 2...\n",
      "Transforming validation features for Transformer Layer 2...\n",
      "Predicting validation set for Transformer Layer 2...\n",
      "Calculating correlations for Transformer Layer 2...\n",
      "\n"
     ]
    },
    {
     "name": "stderr",
     "output_type": "stream",
     "text": [
      "100%|██████████| 19004/19004 [00:16<00:00, 1149.85it/s]\n",
      "100%|██████████| 20544/20544 [00:17<00:00, 1169.86it/s]\n",
      "c:\\Users\\luke-\\Desktop\\Python Repositories\\algonauts-2023\\.conda\\lib\\site-packages\\numpy\\core\\fromnumeric.py:3432: RuntimeWarning: Mean of empty slice.\n",
      "  return _methods._mean(a, axis=axis, dtype=dtype,\n",
      "c:\\Users\\luke-\\Desktop\\Python Repositories\\algonauts-2023\\.conda\\lib\\site-packages\\numpy\\core\\_methods.py:190: RuntimeWarning: invalid value encountered in double_scalars\n",
      "  ret = ret.dtype.type(ret / rcount)\n"
     ]
    },
    {
     "name": "stdout",
     "output_type": "stream",
     "text": [
      "Calculating median correlation with ROIs for Transformer Layer 2...\n",
      "> Transformer Layer 3\n",
      "Fitting PCA model for Transformer Layer 3...\n",
      "Fitting linear regression models for Transformer Layer 3...\n",
      "Transforming validation features for Transformer Layer 3...\n",
      "Predicting validation set for Transformer Layer 3...\n",
      "Calculating correlations for Transformer Layer 3...\n",
      "\n"
     ]
    },
    {
     "name": "stderr",
     "output_type": "stream",
     "text": [
      "100%|██████████| 19004/19004 [00:16<00:00, 1165.39it/s]\n",
      "100%|██████████| 20544/20544 [00:17<00:00, 1155.82it/s]\n",
      "c:\\Users\\luke-\\Desktop\\Python Repositories\\algonauts-2023\\.conda\\lib\\site-packages\\numpy\\core\\fromnumeric.py:3432: RuntimeWarning: Mean of empty slice.\n",
      "  return _methods._mean(a, axis=axis, dtype=dtype,\n",
      "c:\\Users\\luke-\\Desktop\\Python Repositories\\algonauts-2023\\.conda\\lib\\site-packages\\numpy\\core\\_methods.py:190: RuntimeWarning: invalid value encountered in double_scalars\n",
      "  ret = ret.dtype.type(ret / rcount)\n"
     ]
    },
    {
     "name": "stdout",
     "output_type": "stream",
     "text": [
      "Calculating median correlation with ROIs for Transformer Layer 3...\n",
      "> Transformer Layer 4\n",
      "Fitting PCA model for Transformer Layer 4...\n",
      "Fitting linear regression models for Transformer Layer 4...\n",
      "Transforming validation features for Transformer Layer 4...\n",
      "Predicting validation set for Transformer Layer 4...\n",
      "Calculating correlations for Transformer Layer 4...\n",
      "\n"
     ]
    },
    {
     "name": "stderr",
     "output_type": "stream",
     "text": [
      "100%|██████████| 19004/19004 [00:16<00:00, 1148.84it/s]\n",
      "100%|██████████| 20544/20544 [00:17<00:00, 1163.21it/s]\n",
      "c:\\Users\\luke-\\Desktop\\Python Repositories\\algonauts-2023\\.conda\\lib\\site-packages\\numpy\\core\\fromnumeric.py:3432: RuntimeWarning: Mean of empty slice.\n",
      "  return _methods._mean(a, axis=axis, dtype=dtype,\n",
      "c:\\Users\\luke-\\Desktop\\Python Repositories\\algonauts-2023\\.conda\\lib\\site-packages\\numpy\\core\\_methods.py:190: RuntimeWarning: invalid value encountered in double_scalars\n",
      "  ret = ret.dtype.type(ret / rcount)\n"
     ]
    },
    {
     "name": "stdout",
     "output_type": "stream",
     "text": [
      "Calculating median correlation with ROIs for Transformer Layer 4...\n",
      "> Transformer Layer 5\n",
      "Fitting PCA model for Transformer Layer 5...\n",
      "Fitting linear regression models for Transformer Layer 5...\n",
      "Transforming validation features for Transformer Layer 5...\n",
      "Predicting validation set for Transformer Layer 5...\n",
      "Calculating correlations for Transformer Layer 5...\n",
      "\n"
     ]
    },
    {
     "name": "stderr",
     "output_type": "stream",
     "text": [
      "100%|██████████| 19004/19004 [00:16<00:00, 1139.64it/s]\n",
      "100%|██████████| 20544/20544 [00:18<00:00, 1120.52it/s]\n",
      "c:\\Users\\luke-\\Desktop\\Python Repositories\\algonauts-2023\\.conda\\lib\\site-packages\\numpy\\core\\fromnumeric.py:3432: RuntimeWarning: Mean of empty slice.\n",
      "  return _methods._mean(a, axis=axis, dtype=dtype,\n",
      "c:\\Users\\luke-\\Desktop\\Python Repositories\\algonauts-2023\\.conda\\lib\\site-packages\\numpy\\core\\_methods.py:190: RuntimeWarning: invalid value encountered in double_scalars\n",
      "  ret = ret.dtype.type(ret / rcount)\n"
     ]
    },
    {
     "name": "stdout",
     "output_type": "stream",
     "text": [
      "Calculating median correlation with ROIs for Transformer Layer 5...\n",
      "> Transformer Layer 6\n",
      "Fitting PCA model for Transformer Layer 6...\n",
      "Fitting linear regression models for Transformer Layer 6...\n",
      "Transforming validation features for Transformer Layer 6...\n",
      "Predicting validation set for Transformer Layer 6...\n",
      "Calculating correlations for Transformer Layer 6...\n",
      "\n"
     ]
    },
    {
     "name": "stderr",
     "output_type": "stream",
     "text": [
      "100%|██████████| 19004/19004 [00:16<00:00, 1136.08it/s]\n",
      "100%|██████████| 20544/20544 [00:18<00:00, 1135.45it/s]\n",
      "c:\\Users\\luke-\\Desktop\\Python Repositories\\algonauts-2023\\.conda\\lib\\site-packages\\numpy\\core\\fromnumeric.py:3432: RuntimeWarning: Mean of empty slice.\n",
      "  return _methods._mean(a, axis=axis, dtype=dtype,\n",
      "c:\\Users\\luke-\\Desktop\\Python Repositories\\algonauts-2023\\.conda\\lib\\site-packages\\numpy\\core\\_methods.py:190: RuntimeWarning: invalid value encountered in double_scalars\n",
      "  ret = ret.dtype.type(ret / rcount)\n"
     ]
    },
    {
     "name": "stdout",
     "output_type": "stream",
     "text": [
      "Calculating median correlation with ROIs for Transformer Layer 6...\n",
      "> Transformer Layer 7\n",
      "Fitting PCA model for Transformer Layer 7...\n",
      "Fitting linear regression models for Transformer Layer 7...\n",
      "Transforming validation features for Transformer Layer 7...\n",
      "Predicting validation set for Transformer Layer 7...\n",
      "Calculating correlations for Transformer Layer 7...\n",
      "\n"
     ]
    },
    {
     "name": "stderr",
     "output_type": "stream",
     "text": [
      "100%|██████████| 19004/19004 [00:16<00:00, 1134.81it/s]\n",
      "100%|██████████| 20544/20544 [00:18<00:00, 1128.42it/s]\n",
      "c:\\Users\\luke-\\Desktop\\Python Repositories\\algonauts-2023\\.conda\\lib\\site-packages\\numpy\\core\\fromnumeric.py:3432: RuntimeWarning: Mean of empty slice.\n",
      "  return _methods._mean(a, axis=axis, dtype=dtype,\n",
      "c:\\Users\\luke-\\Desktop\\Python Repositories\\algonauts-2023\\.conda\\lib\\site-packages\\numpy\\core\\_methods.py:190: RuntimeWarning: invalid value encountered in double_scalars\n",
      "  ret = ret.dtype.type(ret / rcount)\n"
     ]
    },
    {
     "name": "stdout",
     "output_type": "stream",
     "text": [
      "Calculating median correlation with ROIs for Transformer Layer 7...\n",
      "> Transformer Layer 8\n",
      "Fitting PCA model for Transformer Layer 8...\n",
      "Fitting linear regression models for Transformer Layer 8...\n",
      "Transforming validation features for Transformer Layer 8...\n",
      "Predicting validation set for Transformer Layer 8...\n",
      "Calculating correlations for Transformer Layer 8...\n",
      "\n"
     ]
    },
    {
     "name": "stderr",
     "output_type": "stream",
     "text": [
      "100%|██████████| 19004/19004 [00:16<00:00, 1137.07it/s]\n",
      "100%|██████████| 20544/20544 [00:18<00:00, 1124.45it/s]\n",
      "c:\\Users\\luke-\\Desktop\\Python Repositories\\algonauts-2023\\.conda\\lib\\site-packages\\numpy\\core\\fromnumeric.py:3432: RuntimeWarning: Mean of empty slice.\n",
      "  return _methods._mean(a, axis=axis, dtype=dtype,\n",
      "c:\\Users\\luke-\\Desktop\\Python Repositories\\algonauts-2023\\.conda\\lib\\site-packages\\numpy\\core\\_methods.py:190: RuntimeWarning: invalid value encountered in double_scalars\n",
      "  ret = ret.dtype.type(ret / rcount)\n"
     ]
    },
    {
     "name": "stdout",
     "output_type": "stream",
     "text": [
      "Calculating median correlation with ROIs for Transformer Layer 8...\n",
      "> Transformer Layer 9\n",
      "Fitting PCA model for Transformer Layer 9...\n",
      "Fitting linear regression models for Transformer Layer 9...\n",
      "Transforming validation features for Transformer Layer 9...\n",
      "Predicting validation set for Transformer Layer 9...\n",
      "Calculating correlations for Transformer Layer 9...\n",
      "\n"
     ]
    },
    {
     "name": "stderr",
     "output_type": "stream",
     "text": [
      "100%|██████████| 19004/19004 [00:16<00:00, 1123.49it/s]\n",
      "100%|██████████| 20544/20544 [00:18<00:00, 1131.49it/s]\n",
      "c:\\Users\\luke-\\Desktop\\Python Repositories\\algonauts-2023\\.conda\\lib\\site-packages\\numpy\\core\\fromnumeric.py:3432: RuntimeWarning: Mean of empty slice.\n",
      "  return _methods._mean(a, axis=axis, dtype=dtype,\n",
      "c:\\Users\\luke-\\Desktop\\Python Repositories\\algonauts-2023\\.conda\\lib\\site-packages\\numpy\\core\\_methods.py:190: RuntimeWarning: invalid value encountered in double_scalars\n",
      "  ret = ret.dtype.type(ret / rcount)\n"
     ]
    },
    {
     "name": "stdout",
     "output_type": "stream",
     "text": [
      "Calculating median correlation with ROIs for Transformer Layer 9...\n",
      "> Transformer Layer 10\n",
      "Fitting PCA model for Transformer Layer 10...\n",
      "Fitting linear regression models for Transformer Layer 10...\n",
      "Transforming validation features for Transformer Layer 10...\n",
      "Predicting validation set for Transformer Layer 10...\n",
      "Calculating correlations for Transformer Layer 10...\n",
      "\n"
     ]
    },
    {
     "name": "stderr",
     "output_type": "stream",
     "text": [
      "100%|██████████| 19004/19004 [00:16<00:00, 1134.72it/s]\n",
      "100%|██████████| 20544/20544 [00:18<00:00, 1133.64it/s]\n",
      "c:\\Users\\luke-\\Desktop\\Python Repositories\\algonauts-2023\\.conda\\lib\\site-packages\\numpy\\core\\fromnumeric.py:3432: RuntimeWarning: Mean of empty slice.\n",
      "  return _methods._mean(a, axis=axis, dtype=dtype,\n",
      "c:\\Users\\luke-\\Desktop\\Python Repositories\\algonauts-2023\\.conda\\lib\\site-packages\\numpy\\core\\_methods.py:190: RuntimeWarning: invalid value encountered in double_scalars\n",
      "  ret = ret.dtype.type(ret / rcount)\n"
     ]
    },
    {
     "name": "stdout",
     "output_type": "stream",
     "text": [
      "Calculating median correlation with ROIs for Transformer Layer 10...\n",
      "> Transformer Layer 11\n",
      "Fitting PCA model for Transformer Layer 11...\n",
      "Fitting linear regression models for Transformer Layer 11...\n",
      "Transforming validation features for Transformer Layer 11...\n",
      "Predicting validation set for Transformer Layer 11...\n",
      "Calculating correlations for Transformer Layer 11...\n",
      "\n"
     ]
    },
    {
     "name": "stderr",
     "output_type": "stream",
     "text": [
      "100%|██████████| 19004/19004 [00:16<00:00, 1133.02it/s]\n",
      "100%|██████████| 20544/20544 [00:18<00:00, 1131.98it/s]\n",
      "c:\\Users\\luke-\\Desktop\\Python Repositories\\algonauts-2023\\.conda\\lib\\site-packages\\numpy\\core\\fromnumeric.py:3432: RuntimeWarning: Mean of empty slice.\n",
      "  return _methods._mean(a, axis=axis, dtype=dtype,\n",
      "c:\\Users\\luke-\\Desktop\\Python Repositories\\algonauts-2023\\.conda\\lib\\site-packages\\numpy\\core\\_methods.py:190: RuntimeWarning: invalid value encountered in double_scalars\n",
      "  ret = ret.dtype.type(ret / rcount)\n"
     ]
    },
    {
     "name": "stdout",
     "output_type": "stream",
     "text": [
      "Calculating median correlation with ROIs for Transformer Layer 11...\n",
      "> Transformer Layer 12\n",
      "Fitting PCA model for Transformer Layer 12...\n",
      "Fitting linear regression models for Transformer Layer 12...\n",
      "Transforming validation features for Transformer Layer 12...\n",
      "Predicting validation set for Transformer Layer 12...\n",
      "Calculating correlations for Transformer Layer 12...\n",
      "\n"
     ]
    },
    {
     "name": "stderr",
     "output_type": "stream",
     "text": [
      "100%|██████████| 19004/19004 [00:16<00:00, 1148.90it/s]\n",
      "100%|██████████| 20544/20544 [00:17<00:00, 1158.72it/s]\n",
      "c:\\Users\\luke-\\Desktop\\Python Repositories\\algonauts-2023\\.conda\\lib\\site-packages\\numpy\\core\\fromnumeric.py:3432: RuntimeWarning: Mean of empty slice.\n",
      "  return _methods._mean(a, axis=axis, dtype=dtype,\n",
      "c:\\Users\\luke-\\Desktop\\Python Repositories\\algonauts-2023\\.conda\\lib\\site-packages\\numpy\\core\\_methods.py:190: RuntimeWarning: invalid value encountered in double_scalars\n",
      "  ret = ret.dtype.type(ret / rcount)\n"
     ]
    },
    {
     "name": "stdout",
     "output_type": "stream",
     "text": [
      "Calculating median correlation with ROIs for Transformer Layer 12...\n",
      "> Final Layer\n",
      "Fitting PCA model for Final Layer...\n",
      "Fitting linear regression models for Final Layer...\n",
      "Transforming validation features for Final Layer...\n",
      "Predicting validation set for Final Layer...\n",
      "Calculating correlations for Final Layer...\n",
      "\n"
     ]
    },
    {
     "name": "stderr",
     "output_type": "stream",
     "text": [
      "100%|██████████| 19004/19004 [00:15<00:00, 1214.80it/s]\n",
      "100%|██████████| 20544/20544 [00:17<00:00, 1144.82it/s]\n",
      "c:\\Users\\luke-\\Desktop\\Python Repositories\\algonauts-2023\\.conda\\lib\\site-packages\\numpy\\core\\fromnumeric.py:3432: RuntimeWarning: Mean of empty slice.\n",
      "  return _methods._mean(a, axis=axis, dtype=dtype,\n",
      "c:\\Users\\luke-\\Desktop\\Python Repositories\\algonauts-2023\\.conda\\lib\\site-packages\\numpy\\core\\_methods.py:190: RuntimeWarning: invalid value encountered in double_scalars\n",
      "  ret = ret.dtype.type(ret / rcount)\n"
     ]
    },
    {
     "name": "stdout",
     "output_type": "stream",
     "text": [
      "Calculating median correlation with ROIs for Final Layer...\n",
      "#############################################\n",
      "# Fold: 7/ 8\n",
      "# Train size: 8611\n",
      "# Validation size: 1230\n",
      "#############################################\n",
      "> Embedding Layer\n",
      "Fitting PCA model for Embedding Layer...\n",
      "Fitting linear regression models for Embedding Layer...\n",
      "Transforming validation features for Embedding Layer...\n",
      "Predicting validation set for Embedding Layer...\n",
      "Calculating correlations for Embedding Layer...\n",
      "\n"
     ]
    },
    {
     "name": "stderr",
     "output_type": "stream",
     "text": [
      "100%|██████████| 19004/19004 [00:16<00:00, 1123.39it/s]\n",
      "100%|██████████| 20544/20544 [00:18<00:00, 1124.08it/s]\n",
      "c:\\Users\\luke-\\Desktop\\Python Repositories\\algonauts-2023\\.conda\\lib\\site-packages\\numpy\\core\\fromnumeric.py:3432: RuntimeWarning: Mean of empty slice.\n",
      "  return _methods._mean(a, axis=axis, dtype=dtype,\n",
      "c:\\Users\\luke-\\Desktop\\Python Repositories\\algonauts-2023\\.conda\\lib\\site-packages\\numpy\\core\\_methods.py:190: RuntimeWarning: invalid value encountered in double_scalars\n",
      "  ret = ret.dtype.type(ret / rcount)\n"
     ]
    },
    {
     "name": "stdout",
     "output_type": "stream",
     "text": [
      "Calculating median correlation with ROIs for Embedding Layer...\n",
      "> Transformer Layer 1\n",
      "Fitting PCA model for Transformer Layer 1...\n",
      "Fitting linear regression models for Transformer Layer 1...\n",
      "Transforming validation features for Transformer Layer 1...\n",
      "Predicting validation set for Transformer Layer 1...\n",
      "Calculating correlations for Transformer Layer 1...\n",
      "\n"
     ]
    },
    {
     "name": "stderr",
     "output_type": "stream",
     "text": [
      "100%|██████████| 19004/19004 [00:16<00:00, 1148.98it/s]\n",
      "100%|██████████| 20544/20544 [00:18<00:00, 1139.76it/s]\n",
      "c:\\Users\\luke-\\Desktop\\Python Repositories\\algonauts-2023\\.conda\\lib\\site-packages\\numpy\\core\\fromnumeric.py:3432: RuntimeWarning: Mean of empty slice.\n",
      "  return _methods._mean(a, axis=axis, dtype=dtype,\n",
      "c:\\Users\\luke-\\Desktop\\Python Repositories\\algonauts-2023\\.conda\\lib\\site-packages\\numpy\\core\\_methods.py:190: RuntimeWarning: invalid value encountered in double_scalars\n",
      "  ret = ret.dtype.type(ret / rcount)\n"
     ]
    },
    {
     "name": "stdout",
     "output_type": "stream",
     "text": [
      "Calculating median correlation with ROIs for Transformer Layer 1...\n",
      "> Transformer Layer 2\n",
      "Fitting PCA model for Transformer Layer 2...\n",
      "Fitting linear regression models for Transformer Layer 2...\n",
      "Transforming validation features for Transformer Layer 2...\n",
      "Predicting validation set for Transformer Layer 2...\n",
      "Calculating correlations for Transformer Layer 2...\n",
      "\n"
     ]
    },
    {
     "name": "stderr",
     "output_type": "stream",
     "text": [
      "100%|██████████| 19004/19004 [00:16<00:00, 1134.26it/s]\n",
      "100%|██████████| 20544/20544 [00:19<00:00, 1035.66it/s]\n",
      "c:\\Users\\luke-\\Desktop\\Python Repositories\\algonauts-2023\\.conda\\lib\\site-packages\\numpy\\core\\fromnumeric.py:3432: RuntimeWarning: Mean of empty slice.\n",
      "  return _methods._mean(a, axis=axis, dtype=dtype,\n",
      "c:\\Users\\luke-\\Desktop\\Python Repositories\\algonauts-2023\\.conda\\lib\\site-packages\\numpy\\core\\_methods.py:190: RuntimeWarning: invalid value encountered in double_scalars\n",
      "  ret = ret.dtype.type(ret / rcount)\n"
     ]
    },
    {
     "name": "stdout",
     "output_type": "stream",
     "text": [
      "Calculating median correlation with ROIs for Transformer Layer 2...\n",
      "> Transformer Layer 3\n",
      "Fitting PCA model for Transformer Layer 3...\n",
      "Fitting linear regression models for Transformer Layer 3...\n",
      "Transforming validation features for Transformer Layer 3...\n",
      "Predicting validation set for Transformer Layer 3...\n",
      "Calculating correlations for Transformer Layer 3...\n",
      "\n"
     ]
    },
    {
     "name": "stderr",
     "output_type": "stream",
     "text": [
      "100%|██████████| 19004/19004 [00:16<00:00, 1142.36it/s]\n",
      "100%|██████████| 20544/20544 [00:18<00:00, 1136.54it/s]\n",
      "c:\\Users\\luke-\\Desktop\\Python Repositories\\algonauts-2023\\.conda\\lib\\site-packages\\numpy\\core\\fromnumeric.py:3432: RuntimeWarning: Mean of empty slice.\n",
      "  return _methods._mean(a, axis=axis, dtype=dtype,\n",
      "c:\\Users\\luke-\\Desktop\\Python Repositories\\algonauts-2023\\.conda\\lib\\site-packages\\numpy\\core\\_methods.py:190: RuntimeWarning: invalid value encountered in double_scalars\n",
      "  ret = ret.dtype.type(ret / rcount)\n"
     ]
    },
    {
     "name": "stdout",
     "output_type": "stream",
     "text": [
      "Calculating median correlation with ROIs for Transformer Layer 3...\n",
      "> Transformer Layer 4\n",
      "Fitting PCA model for Transformer Layer 4...\n",
      "Fitting linear regression models for Transformer Layer 4...\n",
      "Transforming validation features for Transformer Layer 4...\n",
      "Predicting validation set for Transformer Layer 4...\n",
      "Calculating correlations for Transformer Layer 4...\n",
      "\n"
     ]
    },
    {
     "name": "stderr",
     "output_type": "stream",
     "text": [
      "100%|██████████| 19004/19004 [00:16<00:00, 1146.39it/s]\n",
      "100%|██████████| 20544/20544 [00:17<00:00, 1143.35it/s]\n",
      "c:\\Users\\luke-\\Desktop\\Python Repositories\\algonauts-2023\\.conda\\lib\\site-packages\\numpy\\core\\fromnumeric.py:3432: RuntimeWarning: Mean of empty slice.\n",
      "  return _methods._mean(a, axis=axis, dtype=dtype,\n",
      "c:\\Users\\luke-\\Desktop\\Python Repositories\\algonauts-2023\\.conda\\lib\\site-packages\\numpy\\core\\_methods.py:190: RuntimeWarning: invalid value encountered in double_scalars\n",
      "  ret = ret.dtype.type(ret / rcount)\n"
     ]
    },
    {
     "name": "stdout",
     "output_type": "stream",
     "text": [
      "Calculating median correlation with ROIs for Transformer Layer 4...\n",
      "> Transformer Layer 5\n",
      "Fitting PCA model for Transformer Layer 5...\n",
      "Fitting linear regression models for Transformer Layer 5...\n",
      "Transforming validation features for Transformer Layer 5...\n",
      "Predicting validation set for Transformer Layer 5...\n",
      "Calculating correlations for Transformer Layer 5...\n",
      "\n"
     ]
    },
    {
     "name": "stderr",
     "output_type": "stream",
     "text": [
      "100%|██████████| 19004/19004 [00:16<00:00, 1152.06it/s]\n",
      "100%|██████████| 20544/20544 [00:18<00:00, 1131.38it/s]\n",
      "c:\\Users\\luke-\\Desktop\\Python Repositories\\algonauts-2023\\.conda\\lib\\site-packages\\numpy\\core\\fromnumeric.py:3432: RuntimeWarning: Mean of empty slice.\n",
      "  return _methods._mean(a, axis=axis, dtype=dtype,\n",
      "c:\\Users\\luke-\\Desktop\\Python Repositories\\algonauts-2023\\.conda\\lib\\site-packages\\numpy\\core\\_methods.py:190: RuntimeWarning: invalid value encountered in double_scalars\n",
      "  ret = ret.dtype.type(ret / rcount)\n"
     ]
    },
    {
     "name": "stdout",
     "output_type": "stream",
     "text": [
      "Calculating median correlation with ROIs for Transformer Layer 5...\n",
      "> Transformer Layer 6\n",
      "Fitting PCA model for Transformer Layer 6...\n",
      "Fitting linear regression models for Transformer Layer 6...\n",
      "Transforming validation features for Transformer Layer 6...\n",
      "Predicting validation set for Transformer Layer 6...\n",
      "Calculating correlations for Transformer Layer 6...\n",
      "\n"
     ]
    },
    {
     "name": "stderr",
     "output_type": "stream",
     "text": [
      "100%|██████████| 19004/19004 [00:16<00:00, 1135.81it/s]\n",
      "100%|██████████| 20544/20544 [00:17<00:00, 1147.59it/s]\n",
      "c:\\Users\\luke-\\Desktop\\Python Repositories\\algonauts-2023\\.conda\\lib\\site-packages\\numpy\\core\\fromnumeric.py:3432: RuntimeWarning: Mean of empty slice.\n",
      "  return _methods._mean(a, axis=axis, dtype=dtype,\n",
      "c:\\Users\\luke-\\Desktop\\Python Repositories\\algonauts-2023\\.conda\\lib\\site-packages\\numpy\\core\\_methods.py:190: RuntimeWarning: invalid value encountered in double_scalars\n",
      "  ret = ret.dtype.type(ret / rcount)\n"
     ]
    },
    {
     "name": "stdout",
     "output_type": "stream",
     "text": [
      "Calculating median correlation with ROIs for Transformer Layer 6...\n",
      "> Transformer Layer 7\n",
      "Fitting PCA model for Transformer Layer 7...\n",
      "Fitting linear regression models for Transformer Layer 7...\n",
      "Transforming validation features for Transformer Layer 7...\n",
      "Predicting validation set for Transformer Layer 7...\n",
      "Calculating correlations for Transformer Layer 7...\n",
      "\n"
     ]
    },
    {
     "name": "stderr",
     "output_type": "stream",
     "text": [
      "100%|██████████| 19004/19004 [00:16<00:00, 1154.14it/s]\n",
      "100%|██████████| 20544/20544 [00:17<00:00, 1153.49it/s]\n",
      "c:\\Users\\luke-\\Desktop\\Python Repositories\\algonauts-2023\\.conda\\lib\\site-packages\\numpy\\core\\fromnumeric.py:3432: RuntimeWarning: Mean of empty slice.\n",
      "  return _methods._mean(a, axis=axis, dtype=dtype,\n",
      "c:\\Users\\luke-\\Desktop\\Python Repositories\\algonauts-2023\\.conda\\lib\\site-packages\\numpy\\core\\_methods.py:190: RuntimeWarning: invalid value encountered in double_scalars\n",
      "  ret = ret.dtype.type(ret / rcount)\n"
     ]
    },
    {
     "name": "stdout",
     "output_type": "stream",
     "text": [
      "Calculating median correlation with ROIs for Transformer Layer 7...\n",
      "> Transformer Layer 8\n",
      "Fitting PCA model for Transformer Layer 8...\n",
      "Fitting linear regression models for Transformer Layer 8...\n",
      "Transforming validation features for Transformer Layer 8...\n",
      "Predicting validation set for Transformer Layer 8...\n",
      "Calculating correlations for Transformer Layer 8...\n",
      "\n"
     ]
    },
    {
     "name": "stderr",
     "output_type": "stream",
     "text": [
      "100%|██████████| 19004/19004 [00:16<00:00, 1176.94it/s]\n",
      "100%|██████████| 20544/20544 [00:17<00:00, 1146.13it/s]\n",
      "c:\\Users\\luke-\\Desktop\\Python Repositories\\algonauts-2023\\.conda\\lib\\site-packages\\numpy\\core\\fromnumeric.py:3432: RuntimeWarning: Mean of empty slice.\n",
      "  return _methods._mean(a, axis=axis, dtype=dtype,\n",
      "c:\\Users\\luke-\\Desktop\\Python Repositories\\algonauts-2023\\.conda\\lib\\site-packages\\numpy\\core\\_methods.py:190: RuntimeWarning: invalid value encountered in double_scalars\n",
      "  ret = ret.dtype.type(ret / rcount)\n"
     ]
    },
    {
     "name": "stdout",
     "output_type": "stream",
     "text": [
      "Calculating median correlation with ROIs for Transformer Layer 8...\n",
      "> Transformer Layer 9\n",
      "Fitting PCA model for Transformer Layer 9...\n",
      "Fitting linear regression models for Transformer Layer 9...\n",
      "Transforming validation features for Transformer Layer 9...\n",
      "Predicting validation set for Transformer Layer 9...\n",
      "Calculating correlations for Transformer Layer 9...\n",
      "\n"
     ]
    },
    {
     "name": "stderr",
     "output_type": "stream",
     "text": [
      "100%|██████████| 19004/19004 [00:16<00:00, 1131.67it/s]\n",
      "100%|██████████| 20544/20544 [00:18<00:00, 1128.81it/s]\n",
      "c:\\Users\\luke-\\Desktop\\Python Repositories\\algonauts-2023\\.conda\\lib\\site-packages\\numpy\\core\\fromnumeric.py:3432: RuntimeWarning: Mean of empty slice.\n",
      "  return _methods._mean(a, axis=axis, dtype=dtype,\n",
      "c:\\Users\\luke-\\Desktop\\Python Repositories\\algonauts-2023\\.conda\\lib\\site-packages\\numpy\\core\\_methods.py:190: RuntimeWarning: invalid value encountered in double_scalars\n",
      "  ret = ret.dtype.type(ret / rcount)\n"
     ]
    },
    {
     "name": "stdout",
     "output_type": "stream",
     "text": [
      "Calculating median correlation with ROIs for Transformer Layer 9...\n",
      "> Transformer Layer 10\n",
      "Fitting PCA model for Transformer Layer 10...\n",
      "Fitting linear regression models for Transformer Layer 10...\n",
      "Transforming validation features for Transformer Layer 10...\n",
      "Predicting validation set for Transformer Layer 10...\n",
      "Calculating correlations for Transformer Layer 10...\n",
      "\n"
     ]
    },
    {
     "name": "stderr",
     "output_type": "stream",
     "text": [
      "100%|██████████| 19004/19004 [00:16<00:00, 1149.82it/s]\n",
      "100%|██████████| 20544/20544 [00:17<00:00, 1162.35it/s]\n",
      "c:\\Users\\luke-\\Desktop\\Python Repositories\\algonauts-2023\\.conda\\lib\\site-packages\\numpy\\core\\fromnumeric.py:3432: RuntimeWarning: Mean of empty slice.\n",
      "  return _methods._mean(a, axis=axis, dtype=dtype,\n",
      "c:\\Users\\luke-\\Desktop\\Python Repositories\\algonauts-2023\\.conda\\lib\\site-packages\\numpy\\core\\_methods.py:190: RuntimeWarning: invalid value encountered in double_scalars\n",
      "  ret = ret.dtype.type(ret / rcount)\n"
     ]
    },
    {
     "name": "stdout",
     "output_type": "stream",
     "text": [
      "Calculating median correlation with ROIs for Transformer Layer 10...\n",
      "> Transformer Layer 11\n",
      "Fitting PCA model for Transformer Layer 11...\n",
      "Fitting linear regression models for Transformer Layer 11...\n",
      "Transforming validation features for Transformer Layer 11...\n",
      "Predicting validation set for Transformer Layer 11...\n",
      "Calculating correlations for Transformer Layer 11...\n",
      "\n"
     ]
    },
    {
     "name": "stderr",
     "output_type": "stream",
     "text": [
      "100%|██████████| 19004/19004 [00:16<00:00, 1159.95it/s]\n",
      "100%|██████████| 20544/20544 [00:17<00:00, 1141.70it/s]\n",
      "c:\\Users\\luke-\\Desktop\\Python Repositories\\algonauts-2023\\.conda\\lib\\site-packages\\numpy\\core\\fromnumeric.py:3432: RuntimeWarning: Mean of empty slice.\n",
      "  return _methods._mean(a, axis=axis, dtype=dtype,\n",
      "c:\\Users\\luke-\\Desktop\\Python Repositories\\algonauts-2023\\.conda\\lib\\site-packages\\numpy\\core\\_methods.py:190: RuntimeWarning: invalid value encountered in double_scalars\n",
      "  ret = ret.dtype.type(ret / rcount)\n"
     ]
    },
    {
     "name": "stdout",
     "output_type": "stream",
     "text": [
      "Calculating median correlation with ROIs for Transformer Layer 11...\n",
      "> Transformer Layer 12\n",
      "Fitting PCA model for Transformer Layer 12...\n",
      "Fitting linear regression models for Transformer Layer 12...\n",
      "Transforming validation features for Transformer Layer 12...\n",
      "Predicting validation set for Transformer Layer 12...\n",
      "Calculating correlations for Transformer Layer 12...\n",
      "\n"
     ]
    },
    {
     "name": "stderr",
     "output_type": "stream",
     "text": [
      "100%|██████████| 19004/19004 [00:16<00:00, 1180.17it/s]\n",
      "100%|██████████| 20544/20544 [00:17<00:00, 1169.84it/s]\n",
      "c:\\Users\\luke-\\Desktop\\Python Repositories\\algonauts-2023\\.conda\\lib\\site-packages\\numpy\\core\\fromnumeric.py:3432: RuntimeWarning: Mean of empty slice.\n",
      "  return _methods._mean(a, axis=axis, dtype=dtype,\n",
      "c:\\Users\\luke-\\Desktop\\Python Repositories\\algonauts-2023\\.conda\\lib\\site-packages\\numpy\\core\\_methods.py:190: RuntimeWarning: invalid value encountered in double_scalars\n",
      "  ret = ret.dtype.type(ret / rcount)\n"
     ]
    },
    {
     "name": "stdout",
     "output_type": "stream",
     "text": [
      "Calculating median correlation with ROIs for Transformer Layer 12...\n",
      "> Final Layer\n",
      "Fitting PCA model for Final Layer...\n",
      "Fitting linear regression models for Final Layer...\n",
      "Transforming validation features for Final Layer...\n",
      "Predicting validation set for Final Layer...\n",
      "Calculating correlations for Final Layer...\n",
      "\n"
     ]
    },
    {
     "name": "stderr",
     "output_type": "stream",
     "text": [
      "100%|██████████| 19004/19004 [00:16<00:00, 1159.20it/s]\n",
      "100%|██████████| 20544/20544 [00:17<00:00, 1156.00it/s]\n",
      "c:\\Users\\luke-\\Desktop\\Python Repositories\\algonauts-2023\\.conda\\lib\\site-packages\\numpy\\core\\fromnumeric.py:3432: RuntimeWarning: Mean of empty slice.\n",
      "  return _methods._mean(a, axis=axis, dtype=dtype,\n",
      "c:\\Users\\luke-\\Desktop\\Python Repositories\\algonauts-2023\\.conda\\lib\\site-packages\\numpy\\core\\_methods.py:190: RuntimeWarning: invalid value encountered in double_scalars\n",
      "  ret = ret.dtype.type(ret / rcount)\n"
     ]
    },
    {
     "name": "stdout",
     "output_type": "stream",
     "text": [
      "Calculating median correlation with ROIs for Final Layer...\n",
      "#############################################\n",
      "# Fold: 8/ 8\n",
      "# Train size: 8611\n",
      "# Validation size: 1230\n",
      "#############################################\n",
      "> Embedding Layer\n",
      "Fitting PCA model for Embedding Layer...\n",
      "Fitting linear regression models for Embedding Layer...\n",
      "Transforming validation features for Embedding Layer...\n",
      "Predicting validation set for Embedding Layer...\n",
      "Calculating correlations for Embedding Layer...\n",
      "\n"
     ]
    },
    {
     "name": "stderr",
     "output_type": "stream",
     "text": [
      "100%|██████████| 19004/19004 [00:16<00:00, 1157.15it/s]\n",
      "100%|██████████| 20544/20544 [00:17<00:00, 1145.38it/s]\n",
      "c:\\Users\\luke-\\Desktop\\Python Repositories\\algonauts-2023\\.conda\\lib\\site-packages\\numpy\\core\\fromnumeric.py:3432: RuntimeWarning: Mean of empty slice.\n",
      "  return _methods._mean(a, axis=axis, dtype=dtype,\n",
      "c:\\Users\\luke-\\Desktop\\Python Repositories\\algonauts-2023\\.conda\\lib\\site-packages\\numpy\\core\\_methods.py:190: RuntimeWarning: invalid value encountered in double_scalars\n",
      "  ret = ret.dtype.type(ret / rcount)\n"
     ]
    },
    {
     "name": "stdout",
     "output_type": "stream",
     "text": [
      "Calculating median correlation with ROIs for Embedding Layer...\n",
      "> Transformer Layer 1\n",
      "Fitting PCA model for Transformer Layer 1...\n",
      "Fitting linear regression models for Transformer Layer 1...\n",
      "Transforming validation features for Transformer Layer 1...\n",
      "Predicting validation set for Transformer Layer 1...\n",
      "Calculating correlations for Transformer Layer 1...\n",
      "\n"
     ]
    },
    {
     "name": "stderr",
     "output_type": "stream",
     "text": [
      "100%|██████████| 19004/19004 [00:16<00:00, 1124.51it/s]\n",
      "100%|██████████| 20544/20544 [00:18<00:00, 1126.79it/s]\n",
      "c:\\Users\\luke-\\Desktop\\Python Repositories\\algonauts-2023\\.conda\\lib\\site-packages\\numpy\\core\\fromnumeric.py:3432: RuntimeWarning: Mean of empty slice.\n",
      "  return _methods._mean(a, axis=axis, dtype=dtype,\n",
      "c:\\Users\\luke-\\Desktop\\Python Repositories\\algonauts-2023\\.conda\\lib\\site-packages\\numpy\\core\\_methods.py:190: RuntimeWarning: invalid value encountered in double_scalars\n",
      "  ret = ret.dtype.type(ret / rcount)\n"
     ]
    },
    {
     "name": "stdout",
     "output_type": "stream",
     "text": [
      "Calculating median correlation with ROIs for Transformer Layer 1...\n",
      "> Transformer Layer 2\n",
      "Fitting PCA model for Transformer Layer 2...\n",
      "Fitting linear regression models for Transformer Layer 2...\n",
      "Transforming validation features for Transformer Layer 2...\n",
      "Predicting validation set for Transformer Layer 2...\n",
      "Calculating correlations for Transformer Layer 2...\n",
      "\n"
     ]
    },
    {
     "name": "stderr",
     "output_type": "stream",
     "text": [
      "100%|██████████| 19004/19004 [00:16<00:00, 1128.55it/s]\n",
      "100%|██████████| 20544/20544 [00:18<00:00, 1130.84it/s]\n",
      "c:\\Users\\luke-\\Desktop\\Python Repositories\\algonauts-2023\\.conda\\lib\\site-packages\\numpy\\core\\fromnumeric.py:3432: RuntimeWarning: Mean of empty slice.\n",
      "  return _methods._mean(a, axis=axis, dtype=dtype,\n",
      "c:\\Users\\luke-\\Desktop\\Python Repositories\\algonauts-2023\\.conda\\lib\\site-packages\\numpy\\core\\_methods.py:190: RuntimeWarning: invalid value encountered in double_scalars\n",
      "  ret = ret.dtype.type(ret / rcount)\n"
     ]
    },
    {
     "name": "stdout",
     "output_type": "stream",
     "text": [
      "Calculating median correlation with ROIs for Transformer Layer 2...\n",
      "> Transformer Layer 3\n",
      "Fitting PCA model for Transformer Layer 3...\n",
      "Fitting linear regression models for Transformer Layer 3...\n",
      "Transforming validation features for Transformer Layer 3...\n",
      "Predicting validation set for Transformer Layer 3...\n",
      "Calculating correlations for Transformer Layer 3...\n",
      "\n"
     ]
    },
    {
     "name": "stderr",
     "output_type": "stream",
     "text": [
      "100%|██████████| 19004/19004 [00:16<00:00, 1138.79it/s]\n",
      "100%|██████████| 20544/20544 [00:18<00:00, 1119.80it/s]\n",
      "c:\\Users\\luke-\\Desktop\\Python Repositories\\algonauts-2023\\.conda\\lib\\site-packages\\numpy\\core\\fromnumeric.py:3432: RuntimeWarning: Mean of empty slice.\n",
      "  return _methods._mean(a, axis=axis, dtype=dtype,\n",
      "c:\\Users\\luke-\\Desktop\\Python Repositories\\algonauts-2023\\.conda\\lib\\site-packages\\numpy\\core\\_methods.py:190: RuntimeWarning: invalid value encountered in double_scalars\n",
      "  ret = ret.dtype.type(ret / rcount)\n"
     ]
    },
    {
     "name": "stdout",
     "output_type": "stream",
     "text": [
      "Calculating median correlation with ROIs for Transformer Layer 3...\n",
      "> Transformer Layer 4\n",
      "Fitting PCA model for Transformer Layer 4...\n",
      "Fitting linear regression models for Transformer Layer 4...\n",
      "Transforming validation features for Transformer Layer 4...\n",
      "Predicting validation set for Transformer Layer 4...\n",
      "Calculating correlations for Transformer Layer 4...\n",
      "\n"
     ]
    },
    {
     "name": "stderr",
     "output_type": "stream",
     "text": [
      "100%|██████████| 19004/19004 [00:16<00:00, 1137.90it/s]\n",
      "100%|██████████| 20544/20544 [00:17<00:00, 1145.36it/s]\n",
      "c:\\Users\\luke-\\Desktop\\Python Repositories\\algonauts-2023\\.conda\\lib\\site-packages\\numpy\\core\\fromnumeric.py:3432: RuntimeWarning: Mean of empty slice.\n",
      "  return _methods._mean(a, axis=axis, dtype=dtype,\n",
      "c:\\Users\\luke-\\Desktop\\Python Repositories\\algonauts-2023\\.conda\\lib\\site-packages\\numpy\\core\\_methods.py:190: RuntimeWarning: invalid value encountered in double_scalars\n",
      "  ret = ret.dtype.type(ret / rcount)\n"
     ]
    },
    {
     "name": "stdout",
     "output_type": "stream",
     "text": [
      "Calculating median correlation with ROIs for Transformer Layer 4...\n",
      "> Transformer Layer 5\n",
      "Fitting PCA model for Transformer Layer 5...\n",
      "Fitting linear regression models for Transformer Layer 5...\n",
      "Transforming validation features for Transformer Layer 5...\n",
      "Predicting validation set for Transformer Layer 5...\n",
      "Calculating correlations for Transformer Layer 5...\n",
      "\n"
     ]
    },
    {
     "name": "stderr",
     "output_type": "stream",
     "text": [
      "100%|██████████| 19004/19004 [00:16<00:00, 1133.03it/s]\n",
      "100%|██████████| 20544/20544 [00:18<00:00, 1099.42it/s]\n",
      "c:\\Users\\luke-\\Desktop\\Python Repositories\\algonauts-2023\\.conda\\lib\\site-packages\\numpy\\core\\fromnumeric.py:3432: RuntimeWarning: Mean of empty slice.\n",
      "  return _methods._mean(a, axis=axis, dtype=dtype,\n",
      "c:\\Users\\luke-\\Desktop\\Python Repositories\\algonauts-2023\\.conda\\lib\\site-packages\\numpy\\core\\_methods.py:190: RuntimeWarning: invalid value encountered in double_scalars\n",
      "  ret = ret.dtype.type(ret / rcount)\n"
     ]
    },
    {
     "name": "stdout",
     "output_type": "stream",
     "text": [
      "Calculating median correlation with ROIs for Transformer Layer 5...\n",
      "> Transformer Layer 6\n",
      "Fitting PCA model for Transformer Layer 6...\n",
      "Fitting linear regression models for Transformer Layer 6...\n",
      "Transforming validation features for Transformer Layer 6...\n",
      "Predicting validation set for Transformer Layer 6...\n",
      "Calculating correlations for Transformer Layer 6...\n",
      "\n"
     ]
    },
    {
     "name": "stderr",
     "output_type": "stream",
     "text": [
      "100%|██████████| 19004/19004 [00:17<00:00, 1095.16it/s]\n",
      "100%|██████████| 20544/20544 [00:18<00:00, 1097.23it/s]\n",
      "c:\\Users\\luke-\\Desktop\\Python Repositories\\algonauts-2023\\.conda\\lib\\site-packages\\numpy\\core\\fromnumeric.py:3432: RuntimeWarning: Mean of empty slice.\n",
      "  return _methods._mean(a, axis=axis, dtype=dtype,\n",
      "c:\\Users\\luke-\\Desktop\\Python Repositories\\algonauts-2023\\.conda\\lib\\site-packages\\numpy\\core\\_methods.py:190: RuntimeWarning: invalid value encountered in double_scalars\n",
      "  ret = ret.dtype.type(ret / rcount)\n"
     ]
    },
    {
     "name": "stdout",
     "output_type": "stream",
     "text": [
      "Calculating median correlation with ROIs for Transformer Layer 6...\n",
      "> Transformer Layer 7\n",
      "Fitting PCA model for Transformer Layer 7...\n",
      "Fitting linear regression models for Transformer Layer 7...\n",
      "Transforming validation features for Transformer Layer 7...\n",
      "Predicting validation set for Transformer Layer 7...\n",
      "Calculating correlations for Transformer Layer 7...\n",
      "\n"
     ]
    },
    {
     "name": "stderr",
     "output_type": "stream",
     "text": [
      "100%|██████████| 19004/19004 [00:16<00:00, 1142.46it/s]\n",
      "100%|██████████| 20544/20544 [00:18<00:00, 1128.49it/s]\n",
      "c:\\Users\\luke-\\Desktop\\Python Repositories\\algonauts-2023\\.conda\\lib\\site-packages\\numpy\\core\\fromnumeric.py:3432: RuntimeWarning: Mean of empty slice.\n",
      "  return _methods._mean(a, axis=axis, dtype=dtype,\n",
      "c:\\Users\\luke-\\Desktop\\Python Repositories\\algonauts-2023\\.conda\\lib\\site-packages\\numpy\\core\\_methods.py:190: RuntimeWarning: invalid value encountered in double_scalars\n",
      "  ret = ret.dtype.type(ret / rcount)\n"
     ]
    },
    {
     "name": "stdout",
     "output_type": "stream",
     "text": [
      "Calculating median correlation with ROIs for Transformer Layer 7...\n",
      "> Transformer Layer 8\n",
      "Fitting PCA model for Transformer Layer 8...\n",
      "Fitting linear regression models for Transformer Layer 8...\n",
      "Transforming validation features for Transformer Layer 8...\n",
      "Predicting validation set for Transformer Layer 8...\n",
      "Calculating correlations for Transformer Layer 8...\n",
      "\n"
     ]
    },
    {
     "name": "stderr",
     "output_type": "stream",
     "text": [
      "100%|██████████| 19004/19004 [00:16<00:00, 1126.81it/s]\n",
      "100%|██████████| 20544/20544 [00:17<00:00, 1143.95it/s]\n",
      "c:\\Users\\luke-\\Desktop\\Python Repositories\\algonauts-2023\\.conda\\lib\\site-packages\\numpy\\core\\fromnumeric.py:3432: RuntimeWarning: Mean of empty slice.\n",
      "  return _methods._mean(a, axis=axis, dtype=dtype,\n",
      "c:\\Users\\luke-\\Desktop\\Python Repositories\\algonauts-2023\\.conda\\lib\\site-packages\\numpy\\core\\_methods.py:190: RuntimeWarning: invalid value encountered in double_scalars\n",
      "  ret = ret.dtype.type(ret / rcount)\n"
     ]
    },
    {
     "name": "stdout",
     "output_type": "stream",
     "text": [
      "Calculating median correlation with ROIs for Transformer Layer 8...\n",
      "> Transformer Layer 9\n",
      "Fitting PCA model for Transformer Layer 9...\n",
      "Fitting linear regression models for Transformer Layer 9...\n",
      "Transforming validation features for Transformer Layer 9...\n",
      "Predicting validation set for Transformer Layer 9...\n",
      "Calculating correlations for Transformer Layer 9...\n",
      "\n"
     ]
    },
    {
     "name": "stderr",
     "output_type": "stream",
     "text": [
      "100%|██████████| 19004/19004 [00:16<00:00, 1152.25it/s]\n",
      "100%|██████████| 20544/20544 [00:17<00:00, 1153.79it/s]\n",
      "c:\\Users\\luke-\\Desktop\\Python Repositories\\algonauts-2023\\.conda\\lib\\site-packages\\numpy\\core\\fromnumeric.py:3432: RuntimeWarning: Mean of empty slice.\n",
      "  return _methods._mean(a, axis=axis, dtype=dtype,\n",
      "c:\\Users\\luke-\\Desktop\\Python Repositories\\algonauts-2023\\.conda\\lib\\site-packages\\numpy\\core\\_methods.py:190: RuntimeWarning: invalid value encountered in double_scalars\n",
      "  ret = ret.dtype.type(ret / rcount)\n"
     ]
    },
    {
     "name": "stdout",
     "output_type": "stream",
     "text": [
      "Calculating median correlation with ROIs for Transformer Layer 9...\n",
      "> Transformer Layer 10\n",
      "Fitting PCA model for Transformer Layer 10...\n",
      "Fitting linear regression models for Transformer Layer 10...\n",
      "Transforming validation features for Transformer Layer 10...\n",
      "Predicting validation set for Transformer Layer 10...\n",
      "Calculating correlations for Transformer Layer 10...\n",
      "\n"
     ]
    },
    {
     "name": "stderr",
     "output_type": "stream",
     "text": [
      "100%|██████████| 19004/19004 [00:17<00:00, 1084.16it/s]\n",
      "100%|██████████| 20544/20544 [00:17<00:00, 1150.57it/s]\n",
      "c:\\Users\\luke-\\Desktop\\Python Repositories\\algonauts-2023\\.conda\\lib\\site-packages\\numpy\\core\\fromnumeric.py:3432: RuntimeWarning: Mean of empty slice.\n",
      "  return _methods._mean(a, axis=axis, dtype=dtype,\n",
      "c:\\Users\\luke-\\Desktop\\Python Repositories\\algonauts-2023\\.conda\\lib\\site-packages\\numpy\\core\\_methods.py:190: RuntimeWarning: invalid value encountered in double_scalars\n",
      "  ret = ret.dtype.type(ret / rcount)\n"
     ]
    },
    {
     "name": "stdout",
     "output_type": "stream",
     "text": [
      "Calculating median correlation with ROIs for Transformer Layer 10...\n",
      "> Transformer Layer 11\n",
      "Fitting PCA model for Transformer Layer 11...\n",
      "Fitting linear regression models for Transformer Layer 11...\n",
      "Transforming validation features for Transformer Layer 11...\n",
      "Predicting validation set for Transformer Layer 11...\n",
      "Calculating correlations for Transformer Layer 11...\n",
      "\n"
     ]
    },
    {
     "name": "stderr",
     "output_type": "stream",
     "text": [
      "100%|██████████| 19004/19004 [00:16<00:00, 1119.77it/s]\n",
      "100%|██████████| 20544/20544 [00:18<00:00, 1127.52it/s]\n",
      "c:\\Users\\luke-\\Desktop\\Python Repositories\\algonauts-2023\\.conda\\lib\\site-packages\\numpy\\core\\fromnumeric.py:3432: RuntimeWarning: Mean of empty slice.\n",
      "  return _methods._mean(a, axis=axis, dtype=dtype,\n",
      "c:\\Users\\luke-\\Desktop\\Python Repositories\\algonauts-2023\\.conda\\lib\\site-packages\\numpy\\core\\_methods.py:190: RuntimeWarning: invalid value encountered in double_scalars\n",
      "  ret = ret.dtype.type(ret / rcount)\n"
     ]
    },
    {
     "name": "stdout",
     "output_type": "stream",
     "text": [
      "Calculating median correlation with ROIs for Transformer Layer 11...\n",
      "> Transformer Layer 12\n",
      "Fitting PCA model for Transformer Layer 12...\n",
      "Fitting linear regression models for Transformer Layer 12...\n",
      "Transforming validation features for Transformer Layer 12...\n",
      "Predicting validation set for Transformer Layer 12...\n",
      "Calculating correlations for Transformer Layer 12...\n",
      "\n"
     ]
    },
    {
     "name": "stderr",
     "output_type": "stream",
     "text": [
      "100%|██████████| 19004/19004 [00:16<00:00, 1129.73it/s]\n",
      "100%|██████████| 20544/20544 [00:18<00:00, 1130.60it/s]\n",
      "c:\\Users\\luke-\\Desktop\\Python Repositories\\algonauts-2023\\.conda\\lib\\site-packages\\numpy\\core\\fromnumeric.py:3432: RuntimeWarning: Mean of empty slice.\n",
      "  return _methods._mean(a, axis=axis, dtype=dtype,\n",
      "c:\\Users\\luke-\\Desktop\\Python Repositories\\algonauts-2023\\.conda\\lib\\site-packages\\numpy\\core\\_methods.py:190: RuntimeWarning: invalid value encountered in double_scalars\n",
      "  ret = ret.dtype.type(ret / rcount)\n"
     ]
    },
    {
     "name": "stdout",
     "output_type": "stream",
     "text": [
      "Calculating median correlation with ROIs for Transformer Layer 12...\n",
      "> Final Layer\n",
      "Fitting PCA model for Final Layer...\n",
      "Fitting linear regression models for Final Layer...\n",
      "Transforming validation features for Final Layer...\n",
      "Predicting validation set for Final Layer...\n",
      "Calculating correlations for Final Layer...\n",
      "\n"
     ]
    },
    {
     "name": "stderr",
     "output_type": "stream",
     "text": [
      "100%|██████████| 19004/19004 [00:16<00:00, 1123.85it/s]\n",
      "100%|██████████| 20544/20544 [00:18<00:00, 1139.22it/s]"
     ]
    },
    {
     "name": "stdout",
     "output_type": "stream",
     "text": [
      "Calculating median correlation with ROIs for Final Layer...\n"
     ]
    },
    {
     "name": "stderr",
     "output_type": "stream",
     "text": [
      "\n",
      "c:\\Users\\luke-\\Desktop\\Python Repositories\\algonauts-2023\\.conda\\lib\\site-packages\\numpy\\core\\fromnumeric.py:3432: RuntimeWarning: Mean of empty slice.\n",
      "  return _methods._mean(a, axis=axis, dtype=dtype,\n",
      "c:\\Users\\luke-\\Desktop\\Python Repositories\\algonauts-2023\\.conda\\lib\\site-packages\\numpy\\core\\_methods.py:190: RuntimeWarning: invalid value encountered in double_scalars\n",
      "  ret = ret.dtype.type(ret / rcount)\n"
     ]
    }
   ],
   "source": [
    "kfold.run()"
   ]
  },
  {
   "attachments": {},
   "cell_type": "markdown",
   "metadata": {},
   "source": [
    "After the Kfold procedure the mean correlations across all folds are plotted for each layer. "
   ]
  },
  {
   "cell_type": "code",
   "execution_count": 59,
   "metadata": {},
   "outputs": [
    {
     "name": "stderr",
     "output_type": "stream",
     "text": [
      "C:\\Users\\luke-\\AppData\\Local\\Temp\\ipykernel_12384\\3314571769.py:69: RuntimeWarning: Mean of empty slice\n",
      "  self.mean_correlations[layer][hemi] = np.nanmean([self.fold_correlations[fold][layer][hemi] for fold in range(self.folds)], axis=0)\n"
     ]
    },
    {
     "data": {
      "image/png": "[encoded data removed]",
      "text/plain": [
       "<Figure size 2000x1000 with 2 Axes>"
      ]
     },
     "metadata": {},
     "output_type": "display_data"
    }
   ],
   "source": [
    "kfold.plot_results()"
   ]
  },
  {
   "cell_type": "code",
   "execution_count": 92,
   "metadata": {},
   "outputs": [
    {
     "data": {
      "text/plain": [
       "Index(['layer', 'correlation'], dtype='object')"
      ]
     },
     "execution_count": 92,
     "metadata": {},
     "output_type": "execute_result"
    },
    {
     "data": {
      "image/png": "[encoded data removed]",
      "text/plain": [
       "<Figure size 640x480 with 1 Axes>"
      ]
     },
     "metadata": {},
     "output_type": "display_data"
    }
   ],
   "source": [
    "# use df to plot\n",
    "# Make two side by side plots for left and right hemisphere\n",
    "# Plot ROIs on x-axis and correlations on y-axis for each model\n",
    "# Make sure, bars are in the same order for both plots\n",
    "# Make sure, each bar has the same color in both plots\n",
    "# Make sure, the bars are sorted by layer\n",
    "# Make sure, each layer has their own color with no overlap\n",
    "# Plot a legend below the plots\n",
    "folder = \"validations/validation001/results.csv\"\n",
    "df = pd.read_csv(folder)\n",
    "# drop model column\n",
    "df = df.drop(\"model\", axis=1)\n",
    "# set roi names as index\n",
    "df = df.set_index(\"roi\")\n",
    "\n",
    "# select only left hemisphere\n",
    "df_lh = df[df[\"hemisphere\"] == \"lh\"]\n",
    "df_rh = df[df[\"hemisphere\"] == \"rh\"]\n",
    "# drop hemisphere column\n",
    "df_lh = df_lh.drop(\"hemisphere\", axis=1)\n",
    "df_rh = df_rh.drop(\"hemisphere\", axis=1)\n",
    "\n",
    "\n",
    "# bar plot with layer as group and roi as x-axis\n",
    "df_lh.plot.bar(rot=0)\n",
    "\n",
    "\n",
    "\n",
    "\n"
   ]
  },
  {
   "cell_type": "code",
   "execution_count": 95,
   "metadata": {},
   "outputs": [
    {
     "data": {
      "image/png": "[encoded data removed]",
      "text/plain": [
       "<Figure size 1000x500 with 2 Axes>"
      ]
     },
     "metadata": {},
     "output_type": "display_data"
    }
   ],
   "source": [
    "import pandas as pd\n",
    "import numpy as np\n",
    "import matplotlib.pyplot as plt\n",
    "\n",
    "# Example data\n",
    "data = {'layer': ['L1', 'L1', 'L2', 'L2', 'L3', 'L3', 'L4', 'L4'],\n",
    "        'roi': ['ROI1', 'ROI2', 'ROI1', 'ROI2', 'ROI1', 'ROI2', 'ROI1', 'ROI2'],\n",
    "        'hemisphere': ['Left', 'Left', 'Left', 'Left', 'Right', 'Right', 'Right', 'Right'],\n",
    "        'correlation': [0.8, 0.6, 0.5, 0.7, 0.7, 0.9, 0.6, 0.8]}\n",
    "\n",
    "df = pd.DataFrame(data)\n",
    "\n",
    "# Split data into left and right hemispheres\n",
    "left_df = df[df['hemisphere'] == 'Left']\n",
    "right_df = df[df['hemisphere'] == 'Right']\n",
    "\n",
    "# Create bar plots\n",
    "fig, axes = plt.subplots(1, 2, figsize=(10, 5))\n",
    "fig.suptitle('Correlations by ROI and Layer')\n",
    "\n",
    "# Plot left hemisphere data\n",
    "for i, layer in enumerate(['L1', 'L2', 'L3', 'L4']):\n",
    "    layer_data = left_df[left_df['layer'] == layer]\n",
    "    x = np.arange(len(layer_data['roi']))\n",
    "    axes[0].bar(x + i * 0.2, layer_data['correlation'], width=0.2, label=layer)\n",
    "\n",
    "axes[0].set_xticks([0, 1])\n",
    "axes[0].set_xticklabels(['ROI1', 'ROI2'])\n",
    "axes[0].set_title('Left Hemisphere')\n",
    "axes[0].set_xlabel('ROI')\n",
    "axes[0].set_ylabel('Correlation')\n",
    "axes[0].legend()\n",
    "\n",
    "# Plot right hemisphere data\n",
    "for i, layer in enumerate(['L1', 'L2', 'L3', 'L4']):\n",
    "    layer_data = right_df[right_df['layer'] == layer]\n",
    "    x = np.arange(len(layer_data['roi']))\n",
    "    axes[1].bar(x + i * 0.2, layer_data['correlation'], width=0.2, label=layer)\n",
    "\n",
    "axes[1].set_xticks([0, 1])\n",
    "axes[1].set_xticklabels(['ROI1', 'ROI2'])\n",
    "axes[1].set_title('Right Hemisphere')\n",
    "axes[1].set_xlabel('ROI')\n",
    "axes[1].set_ylabel('Correlation')\n",
    "axes[1].legend()\n",
    "\n",
    "plt.show()\n"
   ]
  },
  {
   "attachments": {},
   "cell_type": "markdown",
   "metadata": {},
   "source": []
  },
  {
   "cell_type": "code",
   "execution_count": 194,
   "metadata": {},
   "outputs": [
    {
     "name": "stderr",
     "output_type": "stream",
     "text": [
      "C:\\Users\\luke-\\AppData\\Local\\Temp\\ipykernel_12384\\1449448367.py:50: FutureWarning: The default value of numeric_only in DataFrameGroupBy.mean is deprecated. In a future version, numeric_only will default to False. Either specify numeric_only or select only columns which should be valid for the function.\n",
      "  row_colors = [layer_colors[layer] for layer in left_df.groupby('layer').mean().sort_values(by='correlation', ascending=False).index]\n",
      "C:\\Users\\luke-\\AppData\\Local\\Temp\\ipykernel_12384\\1449448367.py:51: FutureWarning: The default value of numeric_only in DataFrameGroupBy.mean is deprecated. In a future version, numeric_only will default to False. Either specify numeric_only or select only columns which should be valid for the function.\n",
      "  axes[0].table(cellText=left_df.groupby('layer').mean().sort_values(by='correlation', ascending=False).round(3).values, rowLabels=df.groupby('layer').mean().sort_values(by='correlation', ascending=False).index, colLabels=[\"Mean Correlation\"], rowColours=row_colors, bbox = [0.95, 0.5, 0.05, 0.5])\n",
      "C:\\Users\\luke-\\AppData\\Local\\Temp\\ipykernel_12384\\1449448367.py:51: FutureWarning: The default value of numeric_only in DataFrameGroupBy.mean is deprecated. In a future version, numeric_only will default to False. Either specify numeric_only or select only columns which should be valid for the function.\n",
      "  axes[0].table(cellText=left_df.groupby('layer').mean().sort_values(by='correlation', ascending=False).round(3).values, rowLabels=df.groupby('layer').mean().sort_values(by='correlation', ascending=False).index, colLabels=[\"Mean Correlation\"], rowColours=row_colors, bbox = [0.95, 0.5, 0.05, 0.5])\n",
      "C:\\Users\\luke-\\AppData\\Local\\Temp\\ipykernel_12384\\1449448367.py:68: FutureWarning: The default value of numeric_only in DataFrameGroupBy.mean is deprecated. In a future version, numeric_only will default to False. Either specify numeric_only or select only columns which should be valid for the function.\n",
      "  row_colors = [layer_colors[layer] for layer in right_df.groupby('layer').mean().sort_values(by='correlation', ascending=False).index]\n",
      "C:\\Users\\luke-\\AppData\\Local\\Temp\\ipykernel_12384\\1449448367.py:69: FutureWarning: The default value of numeric_only in DataFrameGroupBy.mean is deprecated. In a future version, numeric_only will default to False. Either specify numeric_only or select only columns which should be valid for the function.\n",
      "  axes[1].table(cellText=right_df.groupby('layer').mean().sort_values(by='correlation', ascending=False).round(3).values, rowLabels=df.groupby('layer').mean().sort_values(by='correlation', ascending=False).index, colLabels=[\"Mean Correlation\"], rowColours=row_colors, bbox = [0.95, 0.5, 0.05, 0.5])\n",
      "C:\\Users\\luke-\\AppData\\Local\\Temp\\ipykernel_12384\\1449448367.py:69: FutureWarning: The default value of numeric_only in DataFrameGroupBy.mean is deprecated. In a future version, numeric_only will default to False. Either specify numeric_only or select only columns which should be valid for the function.\n",
      "  axes[1].table(cellText=right_df.groupby('layer').mean().sort_values(by='correlation', ascending=False).round(3).values, rowLabels=df.groupby('layer').mean().sort_values(by='correlation', ascending=False).index, colLabels=[\"Mean Correlation\"], rowColours=row_colors, bbox = [0.95, 0.5, 0.05, 0.5])\n"
     ]
    },
    {
     "data": {
      "image/png": "[encoded data removed]",
      "text/plain": [
       "<Figure size 3000x1000 with 2 Axes>"
      ]
     },
     "metadata": {},
     "output_type": "display_data"
    },
    {
     "name": "stderr",
     "output_type": "stream",
     "text": [
      "C:\\Users\\luke-\\AppData\\Local\\Temp\\ipykernel_12384\\1449448367.py:73: FutureWarning: The default value of numeric_only in DataFrameGroupBy.mean is deprecated. In a future version, numeric_only will default to False. Either specify numeric_only or select only columns which should be valid for the function.\n",
      "  df.groupby('layer').mean().sort_values(by='correlation', ascending=False)\n"
     ]
    },
    {
     "data": {
      "text/html": [
       "<div>\n",
       "<style scoped>\n",
       "    .dataframe tbody tr th:only-of-type {\n",
       "        vertical-align: middle;\n",
       "    }\n",
       "\n",
       "    .dataframe tbody tr th {\n",
       "        vertical-align: top;\n",
       "    }\n",
       "\n",
       "    .dataframe thead th {\n",
       "        text-align: right;\n",
       "    }\n",
       "</style>\n",
       "<table border=\"1\" class=\"dataframe\">\n",
       "  <thead>\n",
       "    <tr style=\"text-align: right;\">\n",
       "      <th></th>\n",
       "      <th>correlation</th>\n",
       "    </tr>\n",
       "    <tr>\n",
       "      <th>layer</th>\n",
       "      <th></th>\n",
       "    </tr>\n",
       "  </thead>\n",
       "  <tbody>\n",
       "    <tr>\n",
       "      <th>Transformer Layer 7</th>\n",
       "      <td>0.478055</td>\n",
       "    </tr>\n",
       "    <tr>\n",
       "      <th>Transformer Layer 8</th>\n",
       "      <td>0.476244</td>\n",
       "    </tr>\n",
       "    <tr>\n",
       "      <th>Transformer Layer 6</th>\n",
       "      <td>0.473575</td>\n",
       "    </tr>\n",
       "    <tr>\n",
       "      <th>Transformer Layer 9</th>\n",
       "      <td>0.466281</td>\n",
       "    </tr>\n",
       "    <tr>\n",
       "      <th>Transformer Layer 5</th>\n",
       "      <td>0.461044</td>\n",
       "    </tr>\n",
       "    <tr>\n",
       "      <th>Transformer Layer 10</th>\n",
       "      <td>0.453157</td>\n",
       "    </tr>\n",
       "    <tr>\n",
       "      <th>Transformer Layer 11</th>\n",
       "      <td>0.448530</td>\n",
       "    </tr>\n",
       "    <tr>\n",
       "      <th>Final Layer</th>\n",
       "      <td>0.445563</td>\n",
       "    </tr>\n",
       "    <tr>\n",
       "      <th>Transformer Layer 12</th>\n",
       "      <td>0.445485</td>\n",
       "    </tr>\n",
       "    <tr>\n",
       "      <th>Transformer Layer 4</th>\n",
       "      <td>0.445396</td>\n",
       "    </tr>\n",
       "    <tr>\n",
       "      <th>Transformer Layer 3</th>\n",
       "      <td>0.417137</td>\n",
       "    </tr>\n",
       "    <tr>\n",
       "      <th>Transformer Layer 2</th>\n",
       "      <td>0.389695</td>\n",
       "    </tr>\n",
       "    <tr>\n",
       "      <th>Transformer Layer 1</th>\n",
       "      <td>0.344564</td>\n",
       "    </tr>\n",
       "    <tr>\n",
       "      <th>Embedding Layer</th>\n",
       "      <td>0.238961</td>\n",
       "    </tr>\n",
       "  </tbody>\n",
       "</table>\n",
       "</div>"
      ],
      "text/plain": [
       "                      correlation\n",
       "layer                            \n",
       "Transformer Layer 7      0.478055\n",
       "Transformer Layer 8      0.476244\n",
       "Transformer Layer 6      0.473575\n",
       "Transformer Layer 9      0.466281\n",
       "Transformer Layer 5      0.461044\n",
       "Transformer Layer 10     0.453157\n",
       "Transformer Layer 11     0.448530\n",
       "Final Layer              0.445563\n",
       "Transformer Layer 12     0.445485\n",
       "Transformer Layer 4      0.445396\n",
       "Transformer Layer 3      0.417137\n",
       "Transformer Layer 2      0.389695\n",
       "Transformer Layer 1      0.344564\n",
       "Embedding Layer          0.238961"
      ]
     },
     "execution_count": 194,
     "metadata": {},
     "output_type": "execute_result"
    }
   ],
   "source": [
    "import pandas as pd\n",
    "import numpy as np\n",
    "import matplotlib.pyplot as plt\n",
    "import seaborn as sns\n",
    "\n",
    "# Example data\n",
    "data = {'layer': ['L1', 'L1', 'L2', 'L2', 'L3', 'L3', 'L4', 'L4'],\n",
    "        'roi': ['ROI1', 'ROI2', 'ROI1', 'ROI2', 'ROI1', 'ROI2', 'ROI1', 'ROI2'],\n",
    "        'hemisphere': ['Left', 'Left', 'Left', 'Left', 'Right', 'Right', 'Right', 'Right'],\n",
    "        'correlation': [0.8, 0.6, 0.5, 0.7, 0.7, 0.9, 0.6, 0.8]}\n",
    "\n",
    "df = pd.DataFrame(data)\n",
    "\n",
    "folder = \"validations/validation001/results.csv\"\n",
    "df = pd.read_csv(folder)\n",
    "# drop model column\n",
    "df = df.drop(\"model\", axis=1)\n",
    "\n",
    "# Define color palette and assign colors to layers\n",
    "palette = sns.color_palette(\"colorblind\", 14)\n",
    "layer_colors = {layer: palette[i] for i, layer in enumerate(df.layer.unique())}\n",
    "\n",
    "# Split data into left and right hemispheres\n",
    "left_df = df[df['hemisphere'] == 'lh']\n",
    "right_df = df[df['hemisphere'] == 'rh']\n",
    "\n",
    "# Create bar plots\n",
    "fig, axes = plt.subplots(2, 1, figsize=(30, 10))\n",
    "fig.suptitle('Correlations by ROI and Layer')\n",
    "plt.subplots_adjust(hspace=0.5)\n",
    "# reduce white space before first x tick\n",
    "plt.margins(x=0.01)\n",
    "\n",
    "bar_width = 0.05\n",
    "# Plot left hemisphere data\n",
    "for i, layer in enumerate(df.layer.unique()):\n",
    "    layer_data = left_df[left_df['layer'] == layer]\n",
    "    x = np.arange(len(layer_data['roi']))\n",
    "    # center bars around xtick\n",
    "    axes[0].bar(x - len(df.layer.unique())/2 * 0.05 + i * 0.05, layer_data['correlation'], width=bar_width, label=layer, color=layer_colors[layer])\n",
    "\n",
    "axes[0].set_xticks([i for i in range(len(layer_data['roi']))])\n",
    "axes[0].set_xticklabels([roi for roi in layer_data['roi']])\n",
    "axes[0].set_title('Left Hemisphere')\n",
    "axes[0].set_xlabel('ROI')\n",
    "axes[0].tick_params(axis='x', labelrotation=45)\n",
    "axes[0].set_ylabel('Correlation')\n",
    "axes[0].legend(loc='upper center', bbox_to_anchor=(0.5, 1), ncol=5)\n",
    "axes[0].set_ylim([0, 1])\n",
    "row_colors = [layer_colors[layer] for layer in left_df.groupby('layer').mean().sort_values(by='correlation', ascending=False).index]\n",
    "axes[0].table(cellText=left_df.groupby('layer').mean().sort_values(by='correlation', ascending=False).round(3).values, rowLabels=df.groupby('layer').mean().sort_values(by='correlation', ascending=False).index, colLabels=[\"Mean Correlation\"], rowColours=row_colors, bbox = [0.95, 0.5, 0.05, 0.5])\n",
    "\n",
    "\n",
    "# Plot right hemisphere data\n",
    "for i, layer in enumerate(df.layer.unique()):\n",
    "    layer_data = right_df[right_df['layer'] == layer]\n",
    "    x = np.arange(len(layer_data['roi']))\n",
    "    axes[1].bar(x - len(df.layer.unique())/2 * 0.05 + i * 0.05, layer_data['correlation'], width=bar_width, label=layer, color=layer_colors[layer])\n",
    "\n",
    "axes[1].set_xticks([i for i in range(len(layer_data['roi']))])\n",
    "axes[1].set_xticklabels([roi for roi in layer_data['roi']])\n",
    "axes[1].set_title('Right Hemisphere')\n",
    "axes[1].set_xlabel('ROI')\n",
    "axes[1].tick_params(axis='x', labelrotation=45)\n",
    "axes[1].set_ylabel('Correlation')\n",
    "axes[1].legend(loc='upper center', bbox_to_anchor=(0.5, 1), ncol=5)\n",
    "axes[1].set_ylim([0, 1])\n",
    "row_colors = [layer_colors[layer] for layer in right_df.groupby('layer').mean().sort_values(by='correlation', ascending=False).index]\n",
    "axes[1].table(cellText=right_df.groupby('layer').mean().sort_values(by='correlation', ascending=False).round(3).values, rowLabels=df.groupby('layer').mean().sort_values(by='correlation', ascending=False).index, colLabels=[\"Mean Correlation\"], rowColours=row_colors, bbox = [0.95, 0.5, 0.05, 0.5])\n",
    "\n",
    "\n",
    "plt.show()\n",
    "df.groupby('layer').mean().sort_values(by='correlation', ascending=False)"
   ]
  },
  {
   "attachments": {},
   "cell_type": "markdown",
   "metadata": {},
   "source": [
    "## Create Submission"
   ]
  },
  {
   "cell_type": "code",
   "execution_count": 166,
   "metadata": {},
   "outputs": [
    {
     "name": "stdout",
     "output_type": "stream",
     "text": [
      "Training images: 9841\n",
      "Test images: 159\n",
      "Training captions: 9841\n",
      "Test captions: 159\n",
      "Train image dataloader: 33 batches\n",
      "Test image dataloader: 1 batches\n",
      "Train caption dataloader: 33 batches\n",
      "Test caption dataloader: 1 batches\n",
      "Left hemisphere neural data loaded. Shape: (9841, 19004)\n",
      "Right hemisphere neural data loaded. Shape: (9841, 20544)\n"
     ]
    },
    {
     "name": "stderr",
     "output_type": "stream",
     "text": [
      "100%|██████████| 33/33 [02:18<00:00,  4.20s/it]\n",
      "100%|██████████| 1/1 [00:02<00:00,  2.34s/it]\n"
     ]
    },
    {
     "name": "stdout",
     "output_type": "stream",
     "text": [
      "Training images: 9841\n",
      "Test images: 159\n",
      "Training captions: 9841\n",
      "Test captions: 159\n",
      "Train image dataloader: 33 batches\n",
      "Test image dataloader: 1 batches\n",
      "Train caption dataloader: 33 batches\n",
      "Test caption dataloader: 1 batches\n",
      "Left hemisphere neural data loaded. Shape: (9841, 19004)\n",
      "Right hemisphere neural data loaded. Shape: (9841, 20544)\n"
     ]
    },
    {
     "name": "stderr",
     "output_type": "stream",
     "text": [
      "100%|██████████| 33/33 [02:22<00:00,  4.31s/it]\n",
      "100%|██████████| 1/1 [00:02<00:00,  2.11s/it]\n"
     ]
    },
    {
     "name": "stdout",
     "output_type": "stream",
     "text": [
      "Training images: 9082\n",
      "Test images: 293\n",
      "Training captions: 9082\n",
      "Test captions: 918\n",
      "Train image dataloader: 31 batches\n",
      "Test image dataloader: 1 batches\n",
      "Train caption dataloader: 31 batches\n",
      "Test caption dataloader: 4 batches\n",
      "Left hemisphere neural data loaded. Shape: (9082, 19004)\n",
      "Right hemisphere neural data loaded. Shape: (9082, 20544)\n"
     ]
    },
    {
     "name": "stderr",
     "output_type": "stream",
     "text": [
      "100%|██████████| 31/31 [02:28<00:00,  4.80s/it]\n",
      "100%|██████████| 1/1 [00:04<00:00,  4.81s/it]\n"
     ]
    },
    {
     "name": "stdout",
     "output_type": "stream",
     "text": [
      "Training images: 8779\n",
      "Test images: 395\n",
      "Training captions: 8779\n",
      "Test captions: 1221\n",
      "Train image dataloader: 30 batches\n",
      "Test image dataloader: 2 batches\n",
      "Train caption dataloader: 30 batches\n",
      "Test caption dataloader: 5 batches\n",
      "Left hemisphere neural data loaded. Shape: (8779, 19004)\n",
      "Right hemisphere neural data loaded. Shape: (8779, 20544)\n"
     ]
    },
    {
     "name": "stderr",
     "output_type": "stream",
     "text": [
      "100%|██████████| 30/30 [02:26<00:00,  4.89s/it]\n",
      "100%|██████████| 2/2 [00:06<00:00,  3.25s/it]\n"
     ]
    },
    {
     "name": "stdout",
     "output_type": "stream",
     "text": [
      "Training images: 9841\n",
      "Test images: 159\n",
      "Training captions: 9841\n",
      "Test captions: 159\n",
      "Train image dataloader: 33 batches\n",
      "Test image dataloader: 1 batches\n",
      "Train caption dataloader: 33 batches\n",
      "Test caption dataloader: 1 batches\n",
      "Left hemisphere neural data loaded. Shape: (9841, 19004)\n",
      "Right hemisphere neural data loaded. Shape: (9841, 20544)\n"
     ]
    },
    {
     "name": "stderr",
     "output_type": "stream",
     "text": [
      "100%|██████████| 33/33 [02:45<00:00,  5.01s/it]\n",
      "100%|██████████| 1/1 [00:02<00:00,  2.55s/it]\n"
     ]
    },
    {
     "name": "stdout",
     "output_type": "stream",
     "text": [
      "Training images: 9082\n",
      "Test images: 293\n",
      "Training captions: 9082\n",
      "Test captions: 918\n",
      "Train image dataloader: 31 batches\n",
      "Test image dataloader: 1 batches\n",
      "Train caption dataloader: 31 batches\n",
      "Test caption dataloader: 4 batches\n",
      "Left hemisphere neural data loaded. Shape: (9082, 18978)\n",
      "Right hemisphere neural data loaded. Shape: (9082, 20220)\n"
     ]
    },
    {
     "name": "stderr",
     "output_type": "stream",
     "text": [
      "100%|██████████| 31/31 [02:29<00:00,  4.83s/it]\n",
      "100%|██████████| 1/1 [00:04<00:00,  4.74s/it]\n"
     ]
    },
    {
     "name": "stdout",
     "output_type": "stream",
     "text": [
      "Training images: 9841\n",
      "Test images: 159\n",
      "Training captions: 9841\n",
      "Test captions: 159\n",
      "Train image dataloader: 33 batches\n",
      "Test image dataloader: 1 batches\n",
      "Train caption dataloader: 33 batches\n",
      "Test caption dataloader: 1 batches\n",
      "Left hemisphere neural data loaded. Shape: (9841, 19004)\n",
      "Right hemisphere neural data loaded. Shape: (9841, 20544)\n"
     ]
    },
    {
     "name": "stderr",
     "output_type": "stream",
     "text": [
      "100%|██████████| 33/33 [02:44<00:00,  5.00s/it]\n",
      "100%|██████████| 1/1 [00:02<00:00,  2.56s/it]\n"
     ]
    },
    {
     "name": "stdout",
     "output_type": "stream",
     "text": [
      "Training images: 8779\n",
      "Test images: 395\n",
      "Training captions: 8779\n",
      "Test captions: 1221\n",
      "Train image dataloader: 30 batches\n",
      "Test image dataloader: 2 batches\n",
      "Train caption dataloader: 30 batches\n",
      "Test caption dataloader: 5 batches\n",
      "Left hemisphere neural data loaded. Shape: (8779, 18981)\n",
      "Right hemisphere neural data loaded. Shape: (8779, 20530)\n"
     ]
    },
    {
     "name": "stderr",
     "output_type": "stream",
     "text": [
      "100%|██████████| 30/30 [02:27<00:00,  4.92s/it]\n",
      "100%|██████████| 2/2 [00:06<00:00,  3.29s/it]\n"
     ]
    }
   ],
   "source": [
    "subjects = [Subject(f\"subj0{i}\") for i in range(1, 9)]\n",
    "CreateSubmission(subjects=subjects, procedure=CLIPVisionLayer7PCA200LinearRegression()).run()"
   ]
  }
 ],
 "metadata": {
  "kernelspec": {
   "display_name": "base",
   "language": "python",
   "name": "python3"
  },
  "language_info": {
   "codemirror_mode": {
    "name": "ipython",
    "version": 3
   },
   "file_extension": ".py",
   "mimetype": "text/x-python",
   "name": "python",
   "nbconvert_exporter": "python",
   "pygments_lexer": "ipython3",
   "version": "3.10.11"
  },
  "orig_nbformat": 4
 },
 "nbformat": 4,
 "nbformat_minor": 2
}
